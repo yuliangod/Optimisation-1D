{
 "cells": [
  {
   "cell_type": "code",
   "execution_count": 1,
   "id": "829206db",
   "metadata": {},
   "outputs": [],
   "source": [
    "using JuMP, MosekTools"
   ]
  },
  {
   "cell_type": "code",
   "execution_count": 3,
   "id": "af4cbe9a",
   "metadata": {
    "scrolled": true
   },
   "outputs": [],
   "source": [
    "import CSV\n",
    "import DataFrames"
   ]
  },
  {
   "cell_type": "code",
   "execution_count": 4,
   "id": "c022adeb",
   "metadata": {},
   "outputs": [
    {
     "data": {
      "text/html": [
       "<div><div style = \"float: left;\"><span>556×9 DataFrame</span></div><div style = \"float: right;\"><span style = \"font-style: italic;\">531 rows omitted</span></div><div style = \"clear: both;\"></div></div><div class = \"data-frame\" style = \"overflow-x: scroll;\"><table class = \"data-frame\" style = \"margin-bottom: 6px;\"><thead><tr class = \"header\"><th class = \"rowNumber\" style = \"font-weight: bold; text-align: right;\">Row</th><th style = \"text-align: left;\">Column1</th><th style = \"text-align: left;\">DEF</th><th style = \"text-align: left;\">FWD</th><th style = \"text-align: left;\">GK</th><th style = \"text-align: left;\">MID</th><th style = \"text-align: left;\">element_type</th><th style = \"text-align: left;\">now_cost</th><th style = \"text-align: left;\">team</th><th style = \"text-align: left;\">total_points</th></tr><tr class = \"subheader headerLastRow\"><th class = \"rowNumber\" style = \"font-weight: bold; text-align: right;\"></th><th title = \"String\" style = \"text-align: left;\">String</th><th title = \"Int64\" style = \"text-align: left;\">Int64</th><th title = \"Int64\" style = \"text-align: left;\">Int64</th><th title = \"Int64\" style = \"text-align: left;\">Int64</th><th title = \"Int64\" style = \"text-align: left;\">Int64</th><th title = \"InlineStrings.String3\" style = \"text-align: left;\">String3</th><th title = \"Int64\" style = \"text-align: left;\">Int64</th><th title = \"InlineStrings.String15\" style = \"text-align: left;\">String15</th><th title = \"Int64\" style = \"text-align: left;\">Int64</th></tr></thead><tbody><tr><td class = \"rowNumber\" style = \"font-weight: bold; text-align: right;\">1</td><td style = \"text-align: left;\">Aaron Connolly</td><td style = \"text-align: right;\">0</td><td style = \"text-align: right;\">1</td><td style = \"text-align: right;\">0</td><td style = \"text-align: right;\">0</td><td style = \"text-align: left;\">FWD</td><td style = \"text-align: right;\">53</td><td style = \"text-align: left;\">Brighton</td><td style = \"text-align: right;\">5</td></tr><tr><td class = \"rowNumber\" style = \"font-weight: bold; text-align: right;\">2</td><td style = \"text-align: left;\">Aaron Cresswell</td><td style = \"text-align: right;\">1</td><td style = \"text-align: right;\">0</td><td style = \"text-align: right;\">0</td><td style = \"text-align: right;\">0</td><td style = \"text-align: left;\">DEF</td><td style = \"text-align: right;\">54</td><td style = \"text-align: left;\">West Ham</td><td style = \"text-align: right;\">115</td></tr><tr><td class = \"rowNumber\" style = \"font-weight: bold; text-align: right;\">3</td><td style = \"text-align: left;\">Aaron Ramsey</td><td style = \"text-align: right;\">0</td><td style = \"text-align: right;\">0</td><td style = \"text-align: right;\">0</td><td style = \"text-align: right;\">1</td><td style = \"text-align: left;\">MID</td><td style = \"text-align: right;\">44</td><td style = \"text-align: left;\">Aston Villa</td><td style = \"text-align: right;\">0</td></tr><tr><td class = \"rowNumber\" style = \"font-weight: bold; text-align: right;\">4</td><td style = \"text-align: left;\">Aaron Wan-Bissaka</td><td style = \"text-align: right;\">1</td><td style = \"text-align: right;\">0</td><td style = \"text-align: right;\">0</td><td style = \"text-align: right;\">0</td><td style = \"text-align: left;\">DEF</td><td style = \"text-align: right;\">51</td><td style = \"text-align: left;\">Man Utd</td><td style = \"text-align: right;\">41</td></tr><tr><td class = \"rowNumber\" style = \"font-weight: bold; text-align: right;\">5</td><td style = \"text-align: left;\">Abdoulaye Doucouré</td><td style = \"text-align: right;\">0</td><td style = \"text-align: right;\">0</td><td style = \"text-align: right;\">0</td><td style = \"text-align: right;\">1</td><td style = \"text-align: left;\">MID</td><td style = \"text-align: right;\">53</td><td style = \"text-align: left;\">Everton</td><td style = \"text-align: right;\">90</td></tr><tr><td class = \"rowNumber\" style = \"font-weight: bold; text-align: right;\">6</td><td style = \"text-align: left;\">Adam Armstrong</td><td style = \"text-align: right;\">0</td><td style = \"text-align: right;\">1</td><td style = \"text-align: right;\">0</td><td style = \"text-align: right;\">0</td><td style = \"text-align: left;\">FWD</td><td style = \"text-align: right;\">57</td><td style = \"text-align: left;\">Southampton</td><td style = \"text-align: right;\">57</td></tr><tr><td class = \"rowNumber\" style = \"font-weight: bold; text-align: right;\">7</td><td style = \"text-align: left;\">Adam Forshaw</td><td style = \"text-align: right;\">0</td><td style = \"text-align: right;\">0</td><td style = \"text-align: right;\">0</td><td style = \"text-align: right;\">1</td><td style = \"text-align: left;\">MID</td><td style = \"text-align: right;\">45</td><td style = \"text-align: left;\">Leeds</td><td style = \"text-align: right;\">38</td></tr><tr><td class = \"rowNumber\" style = \"font-weight: bold; text-align: right;\">8</td><td style = \"text-align: left;\">Adam Idah</td><td style = \"text-align: right;\">0</td><td style = \"text-align: right;\">1</td><td style = \"text-align: right;\">0</td><td style = \"text-align: right;\">0</td><td style = \"text-align: left;\">FWD</td><td style = \"text-align: right;\">48</td><td style = \"text-align: left;\">Norwich</td><td style = \"text-align: right;\">36</td></tr><tr><td class = \"rowNumber\" style = \"font-weight: bold; text-align: right;\">9</td><td style = \"text-align: left;\">Adam Lallana</td><td style = \"text-align: right;\">0</td><td style = \"text-align: right;\">0</td><td style = \"text-align: right;\">0</td><td style = \"text-align: right;\">1</td><td style = \"text-align: left;\">MID</td><td style = \"text-align: right;\">53</td><td style = \"text-align: left;\">Brighton</td><td style = \"text-align: right;\">44</td></tr><tr><td class = \"rowNumber\" style = \"font-weight: bold; text-align: right;\">10</td><td style = \"text-align: left;\">Adam Masina</td><td style = \"text-align: right;\">1</td><td style = \"text-align: right;\">0</td><td style = \"text-align: right;\">0</td><td style = \"text-align: right;\">0</td><td style = \"text-align: left;\">DEF</td><td style = \"text-align: right;\">43</td><td style = \"text-align: left;\">Watford</td><td style = \"text-align: right;\">25</td></tr><tr><td class = \"rowNumber\" style = \"font-weight: bold; text-align: right;\">11</td><td style = \"text-align: left;\">Adam Webster</td><td style = \"text-align: right;\">1</td><td style = \"text-align: right;\">0</td><td style = \"text-align: right;\">0</td><td style = \"text-align: right;\">0</td><td style = \"text-align: left;\">DEF</td><td style = \"text-align: right;\">43</td><td style = \"text-align: left;\">Brighton</td><td style = \"text-align: right;\">59</td></tr><tr><td class = \"rowNumber\" style = \"font-weight: bold; text-align: right;\">12</td><td style = \"text-align: left;\">Adama Traoré</td><td style = \"text-align: right;\">0</td><td style = \"text-align: right;\">0</td><td style = \"text-align: right;\">0</td><td style = \"text-align: right;\">1</td><td style = \"text-align: left;\">MID</td><td style = \"text-align: right;\">56</td><td style = \"text-align: left;\">Wolves</td><td style = \"text-align: right;\">44</td></tr><tr><td class = \"rowNumber\" style = \"font-weight: bold; text-align: right;\">13</td><td style = \"text-align: left;\">Adedapo Awokoya-Mebude</td><td style = \"text-align: right;\">0</td><td style = \"text-align: right;\">1</td><td style = \"text-align: right;\">0</td><td style = \"text-align: right;\">0</td><td style = \"text-align: left;\">FWD</td><td style = \"text-align: right;\">45</td><td style = \"text-align: left;\">Watford</td><td style = \"text-align: right;\">0</td></tr><tr><td style = \"text-align: right;\">&vellip;</td><td style = \"text-align: right;\">&vellip;</td><td style = \"text-align: right;\">&vellip;</td><td style = \"text-align: right;\">&vellip;</td><td style = \"text-align: right;\">&vellip;</td><td style = \"text-align: right;\">&vellip;</td><td style = \"text-align: right;\">&vellip;</td><td style = \"text-align: right;\">&vellip;</td><td style = \"text-align: right;\">&vellip;</td><td style = \"text-align: right;\">&vellip;</td></tr><tr><td class = \"rowNumber\" style = \"font-weight: bold; text-align: right;\">545</td><td style = \"text-align: left;\">Willian Borges Da Silva</td><td style = \"text-align: right;\">0</td><td style = \"text-align: right;\">0</td><td style = \"text-align: right;\">0</td><td style = \"text-align: right;\">1</td><td style = \"text-align: left;\">MID</td><td style = \"text-align: right;\">63</td><td style = \"text-align: left;\">Arsenal</td><td style = \"text-align: right;\">0</td></tr><tr><td class = \"rowNumber\" style = \"font-weight: bold; text-align: right;\">546</td><td style = \"text-align: left;\">Willy Boly</td><td style = \"text-align: right;\">1</td><td style = \"text-align: right;\">0</td><td style = \"text-align: right;\">0</td><td style = \"text-align: right;\">0</td><td style = \"text-align: left;\">DEF</td><td style = \"text-align: right;\">49</td><td style = \"text-align: left;\">Wolves</td><td style = \"text-align: right;\">17</td></tr><tr><td class = \"rowNumber\" style = \"font-weight: bold; text-align: right;\">547</td><td style = \"text-align: left;\">Winston Reid</td><td style = \"text-align: right;\">1</td><td style = \"text-align: right;\">0</td><td style = \"text-align: right;\">0</td><td style = \"text-align: right;\">0</td><td style = \"text-align: left;\">DEF</td><td style = \"text-align: right;\">39</td><td style = \"text-align: left;\">West Ham</td><td style = \"text-align: right;\">0</td></tr><tr><td class = \"rowNumber\" style = \"font-weight: bold; text-align: right;\">548</td><td style = \"text-align: left;\">Xherdan Shaqiri</td><td style = \"text-align: right;\">0</td><td style = \"text-align: right;\">0</td><td style = \"text-align: right;\">0</td><td style = \"text-align: right;\">1</td><td style = \"text-align: left;\">MID</td><td style = \"text-align: right;\">59</td><td style = \"text-align: left;\">Liverpool</td><td style = \"text-align: right;\">0</td></tr><tr><td class = \"rowNumber\" style = \"font-weight: bold; text-align: right;\">549</td><td style = \"text-align: left;\">Yan Valery</td><td style = \"text-align: right;\">1</td><td style = \"text-align: right;\">0</td><td style = \"text-align: right;\">0</td><td style = \"text-align: right;\">0</td><td style = \"text-align: left;\">DEF</td><td style = \"text-align: right;\">39</td><td style = \"text-align: left;\">Southampton</td><td style = \"text-align: right;\">9</td></tr><tr><td class = \"rowNumber\" style = \"font-weight: bold; text-align: right;\">550</td><td style = \"text-align: left;\">Yerry Mina</td><td style = \"text-align: right;\">1</td><td style = \"text-align: right;\">0</td><td style = \"text-align: right;\">0</td><td style = \"text-align: right;\">0</td><td style = \"text-align: left;\">DEF</td><td style = \"text-align: right;\">49</td><td style = \"text-align: left;\">Everton</td><td style = \"text-align: right;\">24</td></tr><tr><td class = \"rowNumber\" style = \"font-weight: bold; text-align: right;\">551</td><td style = \"text-align: left;\">Yerson Mosquera Valdelamar</td><td style = \"text-align: right;\">1</td><td style = \"text-align: right;\">0</td><td style = \"text-align: right;\">0</td><td style = \"text-align: right;\">0</td><td style = \"text-align: left;\">DEF</td><td style = \"text-align: right;\">44</td><td style = \"text-align: left;\">Wolves</td><td style = \"text-align: right;\">0</td></tr><tr><td class = \"rowNumber\" style = \"font-weight: bold; text-align: right;\">552</td><td style = \"text-align: left;\">Yoane Wissa</td><td style = \"text-align: right;\">0</td><td style = \"text-align: right;\">0</td><td style = \"text-align: right;\">0</td><td style = \"text-align: right;\">1</td><td style = \"text-align: left;\">MID</td><td style = \"text-align: right;\">57</td><td style = \"text-align: left;\">Brentford</td><td style = \"text-align: right;\">92</td></tr><tr><td class = \"rowNumber\" style = \"font-weight: bold; text-align: right;\">553</td><td style = \"text-align: left;\">Youri Tielemans</td><td style = \"text-align: right;\">0</td><td style = \"text-align: right;\">0</td><td style = \"text-align: right;\">0</td><td style = \"text-align: right;\">1</td><td style = \"text-align: left;\">MID</td><td style = \"text-align: right;\">64</td><td style = \"text-align: left;\">Leicester</td><td style = \"text-align: right;\">120</td></tr><tr><td class = \"rowNumber\" style = \"font-weight: bold; text-align: right;\">554</td><td style = \"text-align: left;\">Yves Bissouma</td><td style = \"text-align: right;\">0</td><td style = \"text-align: right;\">0</td><td style = \"text-align: right;\">0</td><td style = \"text-align: right;\">1</td><td style = \"text-align: left;\">MID</td><td style = \"text-align: right;\">44</td><td style = \"text-align: left;\">Brighton</td><td style = \"text-align: right;\">66</td></tr><tr><td class = \"rowNumber\" style = \"font-weight: bold; text-align: right;\">555</td><td style = \"text-align: left;\">Zack Steffen</td><td style = \"text-align: right;\">0</td><td style = \"text-align: right;\">0</td><td style = \"text-align: right;\">1</td><td style = \"text-align: right;\">0</td><td style = \"text-align: left;\">GK</td><td style = \"text-align: right;\">44</td><td style = \"text-align: left;\">Man City</td><td style = \"text-align: right;\">7</td></tr><tr><td class = \"rowNumber\" style = \"font-weight: bold; text-align: right;\">556</td><td style = \"text-align: left;\">Çaglar Söyüncü</td><td style = \"text-align: right;\">1</td><td style = \"text-align: right;\">0</td><td style = \"text-align: right;\">0</td><td style = \"text-align: right;\">0</td><td style = \"text-align: left;\">DEF</td><td style = \"text-align: right;\">49</td><td style = \"text-align: left;\">Leicester</td><td style = \"text-align: right;\">66</td></tr></tbody></table></div>"
      ],
      "text/latex": [
       "\\begin{tabular}{r|cccccccc}\n",
       "\t& Column1 & DEF & FWD & GK & MID & element\\_type & now\\_cost & \\\\\n",
       "\t\\hline\n",
       "\t& String & Int64 & Int64 & Int64 & Int64 & String3 & Int64 & \\\\\n",
       "\t\\hline\n",
       "\t1 & Aaron Connolly & 0 & 1 & 0 & 0 & FWD & 53 & $\\dots$ \\\\\n",
       "\t2 & Aaron Cresswell & 1 & 0 & 0 & 0 & DEF & 54 & $\\dots$ \\\\\n",
       "\t3 & Aaron Ramsey & 0 & 0 & 0 & 1 & MID & 44 & $\\dots$ \\\\\n",
       "\t4 & Aaron Wan-Bissaka & 1 & 0 & 0 & 0 & DEF & 51 & $\\dots$ \\\\\n",
       "\t5 & Abdoulaye Doucouré & 0 & 0 & 0 & 1 & MID & 53 & $\\dots$ \\\\\n",
       "\t6 & Adam Armstrong & 0 & 1 & 0 & 0 & FWD & 57 & $\\dots$ \\\\\n",
       "\t7 & Adam Forshaw & 0 & 0 & 0 & 1 & MID & 45 & $\\dots$ \\\\\n",
       "\t8 & Adam Idah & 0 & 1 & 0 & 0 & FWD & 48 & $\\dots$ \\\\\n",
       "\t9 & Adam Lallana & 0 & 0 & 0 & 1 & MID & 53 & $\\dots$ \\\\\n",
       "\t10 & Adam Masina & 1 & 0 & 0 & 0 & DEF & 43 & $\\dots$ \\\\\n",
       "\t11 & Adam Webster & 1 & 0 & 0 & 0 & DEF & 43 & $\\dots$ \\\\\n",
       "\t12 & Adama Traoré & 0 & 0 & 0 & 1 & MID & 56 & $\\dots$ \\\\\n",
       "\t13 & Adedapo Awokoya-Mebude & 0 & 1 & 0 & 0 & FWD & 45 & $\\dots$ \\\\\n",
       "\t14 & Adrián San Miguel del Castillo & 0 & 0 & 1 & 0 & GK & 43 & $\\dots$ \\\\\n",
       "\t15 & Ainsley Maitland-Niles & 0 & 0 & 0 & 1 & MID & 52 & $\\dots$ \\\\\n",
       "\t16 & Albert Sambi Lokonga & 0 & 0 & 0 & 1 & MID & 48 & $\\dots$ \\\\\n",
       "\t17 & Alex Iwobi & 0 & 0 & 0 & 1 & MID & 58 & $\\dots$ \\\\\n",
       "\t18 & Alex McCarthy & 0 & 0 & 1 & 0 & GK & 43 & $\\dots$ \\\\\n",
       "\t19 & Alex Nicolao Telles & 1 & 0 & 0 & 0 & DEF & 49 & $\\dots$ \\\\\n",
       "\t20 & Alex Oxlade-Chamberlain & 0 & 0 & 0 & 1 & MID & 58 & $\\dots$ \\\\\n",
       "\t21 & Alexandre Lacazette & 0 & 1 & 0 & 0 & FWD & 81 & $\\dots$ \\\\\n",
       "\t22 & Alexis Mac Allister & 0 & 0 & 0 & 1 & MID & 51 & $\\dots$ \\\\\n",
       "\t23 & Alireza Jahanbakhsh & 0 & 0 & 0 & 1 & MID & 55 & $\\dots$ \\\\\n",
       "\t24 & Alisson Ramses Becker & 0 & 0 & 1 & 0 & GK & 61 & $\\dots$ \\\\\n",
       "\t25 & Allan Marques Loureiro & 0 & 0 & 0 & 1 & MID & 43 & $\\dots$ \\\\\n",
       "\t26 & Allan Saint-Maximin & 0 & 1 & 0 & 0 & FWD & 67 & $\\dots$ \\\\\n",
       "\t27 & Alphonse Areola & 0 & 0 & 1 & 0 & GK & 47 & $\\dots$ \\\\\n",
       "\t28 & Andi Zeqiri & 0 & 1 & 0 & 0 & FWD & 45 & $\\dots$ \\\\\n",
       "\t29 & Andre Gray & 0 & 1 & 0 & 0 & FWD & 54 & $\\dots$ \\\\\n",
       "\t30 & Andreas Christensen & 1 & 0 & 0 & 0 & DEF & 46 & $\\dots$ \\\\\n",
       "\t$\\dots$ & $\\dots$ & $\\dots$ & $\\dots$ & $\\dots$ & $\\dots$ & $\\dots$ & $\\dots$ &  \\\\\n",
       "\\end{tabular}\n"
      ],
      "text/plain": [
       "\u001b[1m556×9 DataFrame\u001b[0m\n",
       "\u001b[1m Row \u001b[0m│\u001b[1m Column1                        \u001b[0m\u001b[1m DEF   \u001b[0m\u001b[1m FWD   \u001b[0m\u001b[1m GK    \u001b[0m\u001b[1m MID   \u001b[0m\u001b[1m element_typ\u001b[0m ⋯\n",
       "     │\u001b[90m String                         \u001b[0m\u001b[90m Int64 \u001b[0m\u001b[90m Int64 \u001b[0m\u001b[90m Int64 \u001b[0m\u001b[90m Int64 \u001b[0m\u001b[90m String3    \u001b[0m ⋯\n",
       "─────┼──────────────────────────────────────────────────────────────────────────\n",
       "   1 │ Aaron Connolly                      0      1      0      0  FWD         ⋯\n",
       "   2 │ Aaron Cresswell                     1      0      0      0  DEF\n",
       "   3 │ Aaron Ramsey                        0      0      0      1  MID\n",
       "   4 │ Aaron Wan-Bissaka                   1      0      0      0  DEF\n",
       "   5 │ Abdoulaye Doucouré                  0      0      0      1  MID         ⋯\n",
       "   6 │ Adam Armstrong                      0      1      0      0  FWD\n",
       "   7 │ Adam Forshaw                        0      0      0      1  MID\n",
       "   8 │ Adam Idah                           0      1      0      0  FWD\n",
       "   9 │ Adam Lallana                        0      0      0      1  MID         ⋯\n",
       "  10 │ Adam Masina                         1      0      0      0  DEF\n",
       "  11 │ Adam Webster                        1      0      0      0  DEF\n",
       "  ⋮  │               ⋮                   ⋮      ⋮      ⋮      ⋮         ⋮      ⋱\n",
       " 547 │ Winston Reid                        1      0      0      0  DEF\n",
       " 548 │ Xherdan Shaqiri                     0      0      0      1  MID         ⋯\n",
       " 549 │ Yan Valery                          1      0      0      0  DEF\n",
       " 550 │ Yerry Mina                          1      0      0      0  DEF\n",
       " 551 │ Yerson Mosquera Valdelamar          1      0      0      0  DEF\n",
       " 552 │ Yoane Wissa                         0      0      0      1  MID         ⋯\n",
       " 553 │ Youri Tielemans                     0      0      0      1  MID\n",
       " 554 │ Yves Bissouma                       0      0      0      1  MID\n",
       " 555 │ Zack Steffen                        0      0      1      0  GK\n",
       " 556 │ Çaglar Söyüncü                      1      0      0      0  DEF         ⋯\n",
       "\u001b[36m                                                  4 columns and 535 rows omitted\u001b[0m"
      ]
     },
     "execution_count": 4,
     "metadata": {},
     "output_type": "execute_result"
    }
   ],
   "source": [
    "csv_df = CSV.read(\"data.csv\", DataFrames.DataFrame)"
   ]
  },
  {
   "cell_type": "code",
   "execution_count": null,
   "id": "f128003b",
   "metadata": {},
   "outputs": [],
   "source": []
  }
 ],
 "metadata": {
  "kernelspec": {
   "display_name": "Julia 1.8.5",
   "language": "julia",
   "name": "julia-1.8"
  },
  "language_info": {
   "file_extension": ".jl",
   "mimetype": "application/julia",
   "name": "julia",
   "version": "1.8.5"
  }
 },
 "nbformat": 4,
 "nbformat_minor": 5
}
