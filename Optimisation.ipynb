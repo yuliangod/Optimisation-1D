{
 "cells": [
  {
   "cell_type": "code",
   "execution_count": 1,
   "id": "829206db",
   "metadata": {},
   "outputs": [],
   "source": [
    "using JuMP, MosekTools"
   ]
  },
  {
   "cell_type": "code",
   "execution_count": 11,
   "id": "fc54e9b2",
   "metadata": {},
   "outputs": [
    {
     "name": "stderr",
     "output_type": "stream",
     "text": [
      "\u001b[32m\u001b[1m   Resolving\u001b[22m\u001b[39m package versions...\n",
      "\u001b[32m\u001b[1m  No Changes\u001b[22m\u001b[39m to `C:\\Users\\ACER\\.julia\\environments\\v1.8\\Project.toml`\n",
      "\u001b[32m\u001b[1m  No Changes\u001b[22m\u001b[39m to `C:\\Users\\ACER\\.julia\\environments\\v1.8\\Manifest.toml`\n",
      "\u001b[32m\u001b[1m   Resolving\u001b[22m\u001b[39m package versions...\n",
      "\u001b[32m\u001b[1m   Installed\u001b[22m\u001b[39m StringManipulation ─ v0.3.0\n",
      "\u001b[32m\u001b[1m   Installed\u001b[22m\u001b[39m Crayons ──────────── v4.1.1\n",
      "\u001b[32m\u001b[1m   Installed\u001b[22m\u001b[39m InvertedIndices ──── v1.3.0\n",
      "\u001b[32m\u001b[1m   Installed\u001b[22m\u001b[39m DataFrames ───────── v1.5.0\n",
      "\u001b[32m\u001b[1m   Installed\u001b[22m\u001b[39m PrettyTables ─────── v2.2.3\n",
      "\u001b[32m\u001b[1m    Updating\u001b[22m\u001b[39m `C:\\Users\\ACER\\.julia\\environments\\v1.8\\Project.toml`\n",
      " \u001b[90m [a93c6f00] \u001b[39m\u001b[92m+ DataFrames v1.5.0\u001b[39m\n",
      "\u001b[32m\u001b[1m    Updating\u001b[22m\u001b[39m `C:\\Users\\ACER\\.julia\\environments\\v1.8\\Manifest.toml`\n",
      " \u001b[90m [a8cc5b0e] \u001b[39m\u001b[92m+ Crayons v4.1.1\u001b[39m\n",
      " \u001b[90m [a93c6f00] \u001b[39m\u001b[92m+ DataFrames v1.5.0\u001b[39m\n",
      " \u001b[90m [41ab1584] \u001b[39m\u001b[92m+ InvertedIndices v1.3.0\u001b[39m\n",
      " \u001b[90m [08abe8d2] \u001b[39m\u001b[92m+ PrettyTables v2.2.3\u001b[39m\n",
      " \u001b[90m [892a3eda] \u001b[39m\u001b[92m+ StringManipulation v0.3.0\u001b[39m\n",
      "\u001b[32m\u001b[1mPrecompiling\u001b[22m\u001b[39m project...\n",
      "\u001b[32m  ✓ \u001b[39m\u001b[90mInvertedIndices\u001b[39m\n",
      "\u001b[32m  ✓ \u001b[39m\u001b[90mCrayons\u001b[39m\n",
      "\u001b[32m  ✓ \u001b[39m\u001b[90mStringManipulation\u001b[39m\n",
      "\u001b[32m  ✓ \u001b[39m\u001b[90mPrettyTables\u001b[39m\n",
      "\u001b[32m  ✓ \u001b[39mDataFrames\n",
      "  5 dependencies successfully precompiled in 58 seconds. 177 already precompiled. 2 skipped during auto due to previous errors.\n"
     ]
    }
   ],
   "source": [
    "using Pkg\n",
    "Pkg.add(\"CSV\")\n",
    "using Pkg\n",
    "Pkg.add(\"DataFrames\")"
   ]
  },
  {
   "cell_type": "code",
   "execution_count": 12,
   "id": "af4cbe9a",
   "metadata": {
    "scrolled": true
   },
   "outputs": [],
   "source": [
    "import CSV\n",
    "import DataFrames"
   ]
  },
  {
   "cell_type": "code",
   "execution_count": 13,
   "id": "c022adeb",
   "metadata": {},
   "outputs": [
    {
     "data": {
      "text/html": [
       "<div><div style = \"float: left;\"><span>737×9 DataFrame</span></div><div style = \"float: right;\"><span style = \"font-style: italic;\">712 rows omitted</span></div><div style = \"clear: both;\"></div></div><div class = \"data-frame\" style = \"overflow-x: scroll;\"><table class = \"data-frame\" style = \"margin-bottom: 6px;\"><thead><tr class = \"header\"><th class = \"rowNumber\" style = \"font-weight: bold; text-align: right;\">Row</th><th style = \"text-align: left;\">Column1</th><th style = \"text-align: left;\">full name</th><th style = \"text-align: left;\">total_points</th><th style = \"text-align: left;\">element_type</th><th style = \"text-align: left;\">now_cost</th><th style = \"text-align: left;\">GK</th><th style = \"text-align: left;\">DEF</th><th style = \"text-align: left;\">MID</th><th style = \"text-align: left;\">FWD</th></tr><tr class = \"subheader headerLastRow\"><th class = \"rowNumber\" style = \"font-weight: bold; text-align: right;\"></th><th title = \"Int64\" style = \"text-align: left;\">Int64</th><th title = \"String\" style = \"text-align: left;\">String</th><th title = \"Int64\" style = \"text-align: left;\">Int64</th><th title = \"InlineStrings.String3\" style = \"text-align: left;\">String3</th><th title = \"Int64\" style = \"text-align: left;\">Int64</th><th title = \"Int64\" style = \"text-align: left;\">Int64</th><th title = \"Int64\" style = \"text-align: left;\">Int64</th><th title = \"Int64\" style = \"text-align: left;\">Int64</th><th title = \"Int64\" style = \"text-align: left;\">Int64</th></tr></thead><tbody><tr><td class = \"rowNumber\" style = \"font-weight: bold; text-align: right;\">1</td><td style = \"text-align: right;\">0</td><td style = \"text-align: left;\">Bernd Leno</td><td style = \"text-align: right;\">10</td><td style = \"text-align: left;\">GK</td><td style = \"text-align: right;\">45</td><td style = \"text-align: right;\">1</td><td style = \"text-align: right;\">0</td><td style = \"text-align: right;\">0</td><td style = \"text-align: right;\">0</td></tr><tr><td class = \"rowNumber\" style = \"font-weight: bold; text-align: right;\">2</td><td style = \"text-align: right;\">1</td><td style = \"text-align: left;\">Rúnar Alex Rúnarsson</td><td style = \"text-align: right;\">0</td><td style = \"text-align: left;\">GK</td><td style = \"text-align: right;\">40</td><td style = \"text-align: right;\">1</td><td style = \"text-align: right;\">0</td><td style = \"text-align: right;\">0</td><td style = \"text-align: right;\">0</td></tr><tr><td class = \"rowNumber\" style = \"font-weight: bold; text-align: right;\">3</td><td style = \"text-align: right;\">2</td><td style = \"text-align: left;\">Willian Borges Da Silva</td><td style = \"text-align: right;\">0</td><td style = \"text-align: left;\">MID</td><td style = \"text-align: right;\">63</td><td style = \"text-align: right;\">0</td><td style = \"text-align: right;\">0</td><td style = \"text-align: right;\">1</td><td style = \"text-align: right;\">0</td></tr><tr><td class = \"rowNumber\" style = \"font-weight: bold; text-align: right;\">4</td><td style = \"text-align: right;\">3</td><td style = \"text-align: left;\">Pierre-Emerick Aubameyang</td><td style = \"text-align: right;\">44</td><td style = \"text-align: left;\">FWD</td><td style = \"text-align: right;\">96</td><td style = \"text-align: right;\">0</td><td style = \"text-align: right;\">0</td><td style = \"text-align: right;\">0</td><td style = \"text-align: right;\">1</td></tr><tr><td class = \"rowNumber\" style = \"font-weight: bold; text-align: right;\">5</td><td style = \"text-align: right;\">4</td><td style = \"text-align: left;\">Cédric Soares</td><td style = \"text-align: right;\">48</td><td style = \"text-align: left;\">DEF</td><td style = \"text-align: right;\">42</td><td style = \"text-align: right;\">0</td><td style = \"text-align: right;\">1</td><td style = \"text-align: right;\">0</td><td style = \"text-align: right;\">0</td></tr><tr><td class = \"rowNumber\" style = \"font-weight: bold; text-align: right;\">6</td><td style = \"text-align: right;\">5</td><td style = \"text-align: left;\">Alexandre Lacazette</td><td style = \"text-align: right;\">90</td><td style = \"text-align: left;\">FWD</td><td style = \"text-align: right;\">81</td><td style = \"text-align: right;\">0</td><td style = \"text-align: right;\">0</td><td style = \"text-align: right;\">0</td><td style = \"text-align: right;\">1</td></tr><tr><td class = \"rowNumber\" style = \"font-weight: bold; text-align: right;\">7</td><td style = \"text-align: right;\">6</td><td style = \"text-align: left;\">Granit Xhaka</td><td style = \"text-align: right;\">60</td><td style = \"text-align: left;\">MID</td><td style = \"text-align: right;\">48</td><td style = \"text-align: right;\">0</td><td style = \"text-align: right;\">0</td><td style = \"text-align: right;\">1</td><td style = \"text-align: right;\">0</td></tr><tr><td class = \"rowNumber\" style = \"font-weight: bold; text-align: right;\">8</td><td style = \"text-align: right;\">7</td><td style = \"text-align: left;\">Pablo Marí</td><td style = \"text-align: right;\">1</td><td style = \"text-align: left;\">DEF</td><td style = \"text-align: right;\">42</td><td style = \"text-align: right;\">0</td><td style = \"text-align: right;\">1</td><td style = \"text-align: right;\">0</td><td style = \"text-align: right;\">0</td></tr><tr><td class = \"rowNumber\" style = \"font-weight: bold; text-align: right;\">9</td><td style = \"text-align: right;\">8</td><td style = \"text-align: left;\">Héctor Bellerín</td><td style = \"text-align: right;\">0</td><td style = \"text-align: left;\">DEF</td><td style = \"text-align: right;\">48</td><td style = \"text-align: right;\">0</td><td style = \"text-align: right;\">1</td><td style = \"text-align: right;\">0</td><td style = \"text-align: right;\">0</td></tr><tr><td class = \"rowNumber\" style = \"font-weight: bold; text-align: right;\">10</td><td style = \"text-align: right;\">9</td><td style = \"text-align: left;\">Sead Kolasinac</td><td style = \"text-align: right;\">0</td><td style = \"text-align: left;\">DEF</td><td style = \"text-align: right;\">42</td><td style = \"text-align: right;\">0</td><td style = \"text-align: right;\">1</td><td style = \"text-align: right;\">0</td><td style = \"text-align: right;\">0</td></tr><tr><td class = \"rowNumber\" style = \"font-weight: bold; text-align: right;\">11</td><td style = \"text-align: right;\">10</td><td style = \"text-align: left;\">Mohamed Naser El Sayed Elneny</td><td style = \"text-align: right;\">27</td><td style = \"text-align: left;\">MID</td><td style = \"text-align: right;\">44</td><td style = \"text-align: right;\">0</td><td style = \"text-align: right;\">0</td><td style = \"text-align: right;\">1</td><td style = \"text-align: right;\">0</td></tr><tr><td class = \"rowNumber\" style = \"font-weight: bold; text-align: right;\">12</td><td style = \"text-align: right;\">11</td><td style = \"text-align: left;\">Ainsley Maitland-Niles</td><td style = \"text-align: right;\">12</td><td style = \"text-align: left;\">MID</td><td style = \"text-align: right;\">52</td><td style = \"text-align: right;\">0</td><td style = \"text-align: right;\">0</td><td style = \"text-align: right;\">1</td><td style = \"text-align: right;\">0</td></tr><tr><td class = \"rowNumber\" style = \"font-weight: bold; text-align: right;\">13</td><td style = \"text-align: right;\">12</td><td style = \"text-align: left;\">Rob Holding</td><td style = \"text-align: right;\">29</td><td style = \"text-align: left;\">DEF</td><td style = \"text-align: right;\">41</td><td style = \"text-align: right;\">0</td><td style = \"text-align: right;\">1</td><td style = \"text-align: right;\">0</td><td style = \"text-align: right;\">0</td></tr><tr><td style = \"text-align: right;\">&vellip;</td><td style = \"text-align: right;\">&vellip;</td><td style = \"text-align: right;\">&vellip;</td><td style = \"text-align: right;\">&vellip;</td><td style = \"text-align: right;\">&vellip;</td><td style = \"text-align: right;\">&vellip;</td><td style = \"text-align: right;\">&vellip;</td><td style = \"text-align: right;\">&vellip;</td><td style = \"text-align: right;\">&vellip;</td><td style = \"text-align: right;\">&vellip;</td></tr><tr><td class = \"rowNumber\" style = \"font-weight: bold; text-align: right;\">726</td><td style = \"text-align: right;\">725</td><td style = \"text-align: left;\">Luke Cundle</td><td style = \"text-align: right;\">7</td><td style = \"text-align: left;\">MID</td><td style = \"text-align: right;\">44</td><td style = \"text-align: right;\">0</td><td style = \"text-align: right;\">0</td><td style = \"text-align: right;\">1</td><td style = \"text-align: right;\">0</td></tr><tr><td class = \"rowNumber\" style = \"font-weight: bold; text-align: right;\">727</td><td style = \"text-align: right;\">726</td><td style = \"text-align: left;\">Chem Campbell</td><td style = \"text-align: right;\">1</td><td style = \"text-align: left;\">MID</td><td style = \"text-align: right;\">44</td><td style = \"text-align: right;\">0</td><td style = \"text-align: right;\">0</td><td style = \"text-align: right;\">1</td><td style = \"text-align: right;\">0</td></tr><tr><td class = \"rowNumber\" style = \"font-weight: bold; text-align: right;\">728</td><td style = \"text-align: right;\">727</td><td style = \"text-align: left;\">Christian Marques</td><td style = \"text-align: right;\">0</td><td style = \"text-align: left;\">DEF</td><td style = \"text-align: right;\">40</td><td style = \"text-align: right;\">0</td><td style = \"text-align: right;\">1</td><td style = \"text-align: right;\">0</td><td style = \"text-align: right;\">0</td></tr><tr><td class = \"rowNumber\" style = \"font-weight: bold; text-align: right;\">729</td><td style = \"text-align: right;\">728</td><td style = \"text-align: left;\">Hee-Chan Hwang</td><td style = \"text-align: right;\">81</td><td style = \"text-align: left;\">FWD</td><td style = \"text-align: right;\">54</td><td style = \"text-align: right;\">0</td><td style = \"text-align: right;\">0</td><td style = \"text-align: right;\">0</td><td style = \"text-align: right;\">1</td></tr><tr><td class = \"rowNumber\" style = \"font-weight: bold; text-align: right;\">730</td><td style = \"text-align: right;\">729</td><td style = \"text-align: left;\">Louie Moulden</td><td style = \"text-align: right;\">0</td><td style = \"text-align: left;\">GK</td><td style = \"text-align: right;\">40</td><td style = \"text-align: right;\">1</td><td style = \"text-align: right;\">0</td><td style = \"text-align: right;\">0</td><td style = \"text-align: right;\">0</td></tr><tr><td class = \"rowNumber\" style = \"font-weight: bold; text-align: right;\">731</td><td style = \"text-align: right;\">730</td><td style = \"text-align: left;\">James Storer</td><td style = \"text-align: right;\">0</td><td style = \"text-align: left;\">GK</td><td style = \"text-align: right;\">40</td><td style = \"text-align: right;\">1</td><td style = \"text-align: right;\">0</td><td style = \"text-align: right;\">0</td><td style = \"text-align: right;\">0</td></tr><tr><td class = \"rowNumber\" style = \"font-weight: bold; text-align: right;\">732</td><td style = \"text-align: right;\">731</td><td style = \"text-align: left;\">Hugo Bueno</td><td style = \"text-align: right;\">0</td><td style = \"text-align: left;\">DEF</td><td style = \"text-align: right;\">40</td><td style = \"text-align: right;\">0</td><td style = \"text-align: right;\">1</td><td style = \"text-align: right;\">0</td><td style = \"text-align: right;\">0</td></tr><tr><td class = \"rowNumber\" style = \"font-weight: bold; text-align: right;\">733</td><td style = \"text-align: right;\">732</td><td style = \"text-align: left;\">Bruno André Cavaco Jordão</td><td style = \"text-align: right;\">0</td><td style = \"text-align: left;\">MID</td><td style = \"text-align: right;\">45</td><td style = \"text-align: right;\">0</td><td style = \"text-align: right;\">0</td><td style = \"text-align: right;\">1</td><td style = \"text-align: right;\">0</td></tr><tr><td class = \"rowNumber\" style = \"font-weight: bold; text-align: right;\">734</td><td style = \"text-align: right;\">733</td><td style = \"text-align: left;\">Toti António Gomes</td><td style = \"text-align: right;\">6</td><td style = \"text-align: left;\">DEF</td><td style = \"text-align: right;\">44</td><td style = \"text-align: right;\">0</td><td style = \"text-align: right;\">1</td><td style = \"text-align: right;\">0</td><td style = \"text-align: right;\">0</td></tr><tr><td class = \"rowNumber\" style = \"font-weight: bold; text-align: right;\">735</td><td style = \"text-align: right;\">734</td><td style = \"text-align: left;\">Dion Sanderson</td><td style = \"text-align: right;\">0</td><td style = \"text-align: left;\">DEF</td><td style = \"text-align: right;\">40</td><td style = \"text-align: right;\">0</td><td style = \"text-align: right;\">1</td><td style = \"text-align: right;\">0</td><td style = \"text-align: right;\">0</td></tr><tr><td class = \"rowNumber\" style = \"font-weight: bold; text-align: right;\">736</td><td style = \"text-align: right;\">735</td><td style = \"text-align: left;\">Ryan Giles</td><td style = \"text-align: right;\">0</td><td style = \"text-align: left;\">MID</td><td style = \"text-align: right;\">45</td><td style = \"text-align: right;\">0</td><td style = \"text-align: right;\">0</td><td style = \"text-align: right;\">1</td><td style = \"text-align: right;\">0</td></tr><tr><td class = \"rowNumber\" style = \"font-weight: bold; text-align: right;\">737</td><td style = \"text-align: right;\">736</td><td style = \"text-align: left;\">Francisco Jorge Tomás Oliveira</td><td style = \"text-align: right;\">20</td><td style = \"text-align: left;\">MID</td><td style = \"text-align: right;\">55</td><td style = \"text-align: right;\">0</td><td style = \"text-align: right;\">0</td><td style = \"text-align: right;\">1</td><td style = \"text-align: right;\">0</td></tr></tbody></table></div>"
      ],
      "text/latex": [
       "\\begin{tabular}{r|cccccc}\n",
       "\t& Column1 & full name & total\\_points & element\\_type & now\\_cost & \\\\\n",
       "\t\\hline\n",
       "\t& Int64 & String & Int64 & String3 & Int64 & \\\\\n",
       "\t\\hline\n",
       "\t1 & 0 & Bernd Leno & 10 & GK & 45 & $\\dots$ \\\\\n",
       "\t2 & 1 & Rúnar Alex Rúnarsson & 0 & GK & 40 & $\\dots$ \\\\\n",
       "\t3 & 2 & Willian Borges Da Silva & 0 & MID & 63 & $\\dots$ \\\\\n",
       "\t4 & 3 & Pierre-Emerick Aubameyang & 44 & FWD & 96 & $\\dots$ \\\\\n",
       "\t5 & 4 & Cédric Soares & 48 & DEF & 42 & $\\dots$ \\\\\n",
       "\t6 & 5 & Alexandre Lacazette & 90 & FWD & 81 & $\\dots$ \\\\\n",
       "\t7 & 6 & Granit Xhaka & 60 & MID & 48 & $\\dots$ \\\\\n",
       "\t8 & 7 & Pablo Marí & 1 & DEF & 42 & $\\dots$ \\\\\n",
       "\t9 & 8 & Héctor Bellerín & 0 & DEF & 48 & $\\dots$ \\\\\n",
       "\t10 & 9 & Sead Kolasinac & 0 & DEF & 42 & $\\dots$ \\\\\n",
       "\t11 & 10 & Mohamed Naser El Sayed Elneny & 27 & MID & 44 & $\\dots$ \\\\\n",
       "\t12 & 11 & Ainsley Maitland-Niles & 12 & MID & 52 & $\\dots$ \\\\\n",
       "\t13 & 12 & Rob Holding & 29 & DEF & 41 & $\\dots$ \\\\\n",
       "\t14 & 13 & Thomas Partey & 71 & MID & 50 & $\\dots$ \\\\\n",
       "\t15 & 14 & Kieran Tierney & 106 & DEF & 49 & $\\dots$ \\\\\n",
       "\t16 & 15 & Nicolas Pépé & 45 & MID & 69 & $\\dots$ \\\\\n",
       "\t17 & 16 & Lucas Torreira & 0 & MID & 45 & $\\dots$ \\\\\n",
       "\t18 & 17 & Edward Nketiah & 55 & FWD & 57 & $\\dots$ \\\\\n",
       "\t19 & 18 & Emile Smith Rowe & 125 & MID & 57 & $\\dots$ \\\\\n",
       "\t20 & 19 & Bukayo Saka & 179 & MID & 67 & $\\dots$ \\\\\n",
       "\t21 & 20 & Gabriel Magalhães & 146 & DEF & 53 & $\\dots$ \\\\\n",
       "\t22 & 21 & Konstantinos Mavropanos & 0 & DEF & 45 & $\\dots$ \\\\\n",
       "\t23 & 22 & Mattéo Guendouzi & 0 & MID & 45 & $\\dots$ \\\\\n",
       "\t24 & 23 & Gabriel Teodoro Martinelli Silva & 110 & MID & 53 & $\\dots$ \\\\\n",
       "\t25 & 24 & William Saliba & 0 & DEF & 45 & $\\dots$ \\\\\n",
       "\t26 & 25 & Ben White & 107 & DEF & 46 & $\\dots$ \\\\\n",
       "\t27 & 26 & Nuno Varela Tavares & 49 & DEF & 43 & $\\dots$ \\\\\n",
       "\t28 & 27 & Albert Sambi Lokonga & 32 & MID & 48 & $\\dots$ \\\\\n",
       "\t29 & 28 & Folarin Balogun & 2 & FWD & 47 & $\\dots$ \\\\\n",
       "\t30 & 29 & Reiss Nelson & 1 & MID & 50 & $\\dots$ \\\\\n",
       "\t$\\dots$ & $\\dots$ & $\\dots$ & $\\dots$ & $\\dots$ & $\\dots$ &  \\\\\n",
       "\\end{tabular}\n"
      ],
      "text/plain": [
       "\u001b[1m737×9 DataFrame\u001b[0m\n",
       "\u001b[1m Row \u001b[0m│\u001b[1m Column1 \u001b[0m\u001b[1m full name                      \u001b[0m\u001b[1m total_points \u001b[0m\u001b[1m element_type \u001b[0m\u001b[1m no\u001b[0m ⋯\n",
       "     │\u001b[90m Int64   \u001b[0m\u001b[90m String                         \u001b[0m\u001b[90m Int64        \u001b[0m\u001b[90m String3      \u001b[0m\u001b[90m In\u001b[0m ⋯\n",
       "─────┼──────────────────────────────────────────────────────────────────────────\n",
       "   1 │       0  Bernd Leno                                10  GK               ⋯\n",
       "   2 │       1  Rúnar Alex Rúnarsson                       0  GK\n",
       "   3 │       2  Willian Borges Da Silva                    0  MID\n",
       "   4 │       3  Pierre-Emerick Aubameyang                 44  FWD\n",
       "   5 │       4  Cédric Soares                             48  DEF              ⋯\n",
       "   6 │       5  Alexandre Lacazette                       90  FWD\n",
       "   7 │       6  Granit Xhaka                              60  MID\n",
       "   8 │       7  Pablo Marí                                 1  DEF\n",
       "   9 │       8  Héctor Bellerín                            0  DEF              ⋯\n",
       "  10 │       9  Sead Kolasinac                             0  DEF\n",
       "  11 │      10  Mohamed Naser El Sayed Elneny             27  MID\n",
       "  ⋮  │    ⋮                   ⋮                      ⋮             ⋮           ⋱\n",
       " 728 │     727  Christian Marques                          0  DEF\n",
       " 729 │     728  Hee-Chan Hwang                            81  FWD              ⋯\n",
       " 730 │     729  Louie Moulden                              0  GK\n",
       " 731 │     730  James Storer                               0  GK\n",
       " 732 │     731  Hugo Bueno                                 0  DEF\n",
       " 733 │     732  Bruno André Cavaco Jordão                  0  MID              ⋯\n",
       " 734 │     733  Toti António Gomes                         6  DEF\n",
       " 735 │     734  Dion Sanderson                             0  DEF\n",
       " 736 │     735  Ryan Giles                                 0  MID\n",
       " 737 │     736  Francisco Jorge Tomás Oliveira            20  MID              ⋯\n",
       "\u001b[36m                                                  5 columns and 716 rows omitted\u001b[0m"
      ]
     },
     "execution_count": 13,
     "metadata": {},
     "output_type": "execute_result"
    }
   ],
   "source": [
    "csv_df = CSV.read(\"data.csv\", DataFrames.DataFrame)"
   ]
  },
  {
   "cell_type": "code",
   "execution_count": null,
   "id": "f128003b",
   "metadata": {},
   "outputs": [],
   "source": []
  }
 ],
 "metadata": {
  "kernelspec": {
   "display_name": "Julia 1.8.5",
   "language": "julia",
   "name": "julia-1.8"
  },
  "language_info": {
   "file_extension": ".jl",
   "mimetype": "application/julia",
   "name": "julia",
   "version": "1.8.5"
  }
 },
 "nbformat": 4,
 "nbformat_minor": 5
}
