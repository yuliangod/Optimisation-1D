{
 "cells": [
  {
   "cell_type": "code",
   "execution_count": 1,
   "id": "829206db",
   "metadata": {},
   "outputs": [],
   "source": [
    "using JuMP, MosekTools"
   ]
  },
  {
   "cell_type": "code",
   "execution_count": 2,
   "id": "af4cbe9a",
   "metadata": {
    "scrolled": true
   },
   "outputs": [],
   "source": [
    "import CSV\n",
    "import DataFrames"
   ]
  },
  {
   "cell_type": "code",
   "execution_count": 3,
   "id": "c022adeb",
   "metadata": {
    "scrolled": true
   },
   "outputs": [
    {
     "data": {
      "text/html": [
       "<div><div style = \"float: left;\"><span>556×9 DataFrame</span></div><div style = \"float: right;\"><span style = \"font-style: italic;\">531 rows omitted</span></div><div style = \"clear: both;\"></div></div><div class = \"data-frame\" style = \"overflow-x: scroll;\"><table class = \"data-frame\" style = \"margin-bottom: 6px;\"><thead><tr class = \"header\"><th class = \"rowNumber\" style = \"font-weight: bold; text-align: right;\">Row</th><th style = \"text-align: left;\">Column1</th><th style = \"text-align: left;\">DEF</th><th style = \"text-align: left;\">FWD</th><th style = \"text-align: left;\">GK</th><th style = \"text-align: left;\">MID</th><th style = \"text-align: left;\">element_type</th><th style = \"text-align: left;\">now_cost</th><th style = \"text-align: left;\">team</th><th style = \"text-align: left;\">total_points</th></tr><tr class = \"subheader headerLastRow\"><th class = \"rowNumber\" style = \"font-weight: bold; text-align: right;\"></th><th title = \"String\" style = \"text-align: left;\">String</th><th title = \"Int64\" style = \"text-align: left;\">Int64</th><th title = \"Int64\" style = \"text-align: left;\">Int64</th><th title = \"Int64\" style = \"text-align: left;\">Int64</th><th title = \"Int64\" style = \"text-align: left;\">Int64</th><th title = \"InlineStrings.String3\" style = \"text-align: left;\">String3</th><th title = \"Int64\" style = \"text-align: left;\">Int64</th><th title = \"InlineStrings.String15\" style = \"text-align: left;\">String15</th><th title = \"Int64\" style = \"text-align: left;\">Int64</th></tr></thead><tbody><tr><td class = \"rowNumber\" style = \"font-weight: bold; text-align: right;\">1</td><td style = \"text-align: left;\">Aaron Connolly</td><td style = \"text-align: right;\">0</td><td style = \"text-align: right;\">1</td><td style = \"text-align: right;\">0</td><td style = \"text-align: right;\">0</td><td style = \"text-align: left;\">FWD</td><td style = \"text-align: right;\">53</td><td style = \"text-align: left;\">Brighton</td><td style = \"text-align: right;\">5</td></tr><tr><td class = \"rowNumber\" style = \"font-weight: bold; text-align: right;\">2</td><td style = \"text-align: left;\">Aaron Cresswell</td><td style = \"text-align: right;\">1</td><td style = \"text-align: right;\">0</td><td style = \"text-align: right;\">0</td><td style = \"text-align: right;\">0</td><td style = \"text-align: left;\">DEF</td><td style = \"text-align: right;\">54</td><td style = \"text-align: left;\">West Ham</td><td style = \"text-align: right;\">115</td></tr><tr><td class = \"rowNumber\" style = \"font-weight: bold; text-align: right;\">3</td><td style = \"text-align: left;\">Aaron Ramsey</td><td style = \"text-align: right;\">0</td><td style = \"text-align: right;\">0</td><td style = \"text-align: right;\">0</td><td style = \"text-align: right;\">1</td><td style = \"text-align: left;\">MID</td><td style = \"text-align: right;\">44</td><td style = \"text-align: left;\">Aston Villa</td><td style = \"text-align: right;\">0</td></tr><tr><td class = \"rowNumber\" style = \"font-weight: bold; text-align: right;\">4</td><td style = \"text-align: left;\">Aaron Wan-Bissaka</td><td style = \"text-align: right;\">1</td><td style = \"text-align: right;\">0</td><td style = \"text-align: right;\">0</td><td style = \"text-align: right;\">0</td><td style = \"text-align: left;\">DEF</td><td style = \"text-align: right;\">51</td><td style = \"text-align: left;\">Man Utd</td><td style = \"text-align: right;\">41</td></tr><tr><td class = \"rowNumber\" style = \"font-weight: bold; text-align: right;\">5</td><td style = \"text-align: left;\">Abdoulaye Doucouré</td><td style = \"text-align: right;\">0</td><td style = \"text-align: right;\">0</td><td style = \"text-align: right;\">0</td><td style = \"text-align: right;\">1</td><td style = \"text-align: left;\">MID</td><td style = \"text-align: right;\">53</td><td style = \"text-align: left;\">Everton</td><td style = \"text-align: right;\">90</td></tr><tr><td class = \"rowNumber\" style = \"font-weight: bold; text-align: right;\">6</td><td style = \"text-align: left;\">Adam Armstrong</td><td style = \"text-align: right;\">0</td><td style = \"text-align: right;\">1</td><td style = \"text-align: right;\">0</td><td style = \"text-align: right;\">0</td><td style = \"text-align: left;\">FWD</td><td style = \"text-align: right;\">57</td><td style = \"text-align: left;\">Southampton</td><td style = \"text-align: right;\">57</td></tr><tr><td class = \"rowNumber\" style = \"font-weight: bold; text-align: right;\">7</td><td style = \"text-align: left;\">Adam Forshaw</td><td style = \"text-align: right;\">0</td><td style = \"text-align: right;\">0</td><td style = \"text-align: right;\">0</td><td style = \"text-align: right;\">1</td><td style = \"text-align: left;\">MID</td><td style = \"text-align: right;\">45</td><td style = \"text-align: left;\">Leeds</td><td style = \"text-align: right;\">38</td></tr><tr><td class = \"rowNumber\" style = \"font-weight: bold; text-align: right;\">8</td><td style = \"text-align: left;\">Adam Idah</td><td style = \"text-align: right;\">0</td><td style = \"text-align: right;\">1</td><td style = \"text-align: right;\">0</td><td style = \"text-align: right;\">0</td><td style = \"text-align: left;\">FWD</td><td style = \"text-align: right;\">48</td><td style = \"text-align: left;\">Norwich</td><td style = \"text-align: right;\">36</td></tr><tr><td class = \"rowNumber\" style = \"font-weight: bold; text-align: right;\">9</td><td style = \"text-align: left;\">Adam Lallana</td><td style = \"text-align: right;\">0</td><td style = \"text-align: right;\">0</td><td style = \"text-align: right;\">0</td><td style = \"text-align: right;\">1</td><td style = \"text-align: left;\">MID</td><td style = \"text-align: right;\">53</td><td style = \"text-align: left;\">Brighton</td><td style = \"text-align: right;\">44</td></tr><tr><td class = \"rowNumber\" style = \"font-weight: bold; text-align: right;\">10</td><td style = \"text-align: left;\">Adam Masina</td><td style = \"text-align: right;\">1</td><td style = \"text-align: right;\">0</td><td style = \"text-align: right;\">0</td><td style = \"text-align: right;\">0</td><td style = \"text-align: left;\">DEF</td><td style = \"text-align: right;\">43</td><td style = \"text-align: left;\">Watford</td><td style = \"text-align: right;\">25</td></tr><tr><td class = \"rowNumber\" style = \"font-weight: bold; text-align: right;\">11</td><td style = \"text-align: left;\">Adam Webster</td><td style = \"text-align: right;\">1</td><td style = \"text-align: right;\">0</td><td style = \"text-align: right;\">0</td><td style = \"text-align: right;\">0</td><td style = \"text-align: left;\">DEF</td><td style = \"text-align: right;\">43</td><td style = \"text-align: left;\">Brighton</td><td style = \"text-align: right;\">59</td></tr><tr><td class = \"rowNumber\" style = \"font-weight: bold; text-align: right;\">12</td><td style = \"text-align: left;\">Adama Traoré</td><td style = \"text-align: right;\">0</td><td style = \"text-align: right;\">0</td><td style = \"text-align: right;\">0</td><td style = \"text-align: right;\">1</td><td style = \"text-align: left;\">MID</td><td style = \"text-align: right;\">56</td><td style = \"text-align: left;\">Wolves</td><td style = \"text-align: right;\">44</td></tr><tr><td class = \"rowNumber\" style = \"font-weight: bold; text-align: right;\">13</td><td style = \"text-align: left;\">Adedapo Awokoya-Mebude</td><td style = \"text-align: right;\">0</td><td style = \"text-align: right;\">1</td><td style = \"text-align: right;\">0</td><td style = \"text-align: right;\">0</td><td style = \"text-align: left;\">FWD</td><td style = \"text-align: right;\">45</td><td style = \"text-align: left;\">Watford</td><td style = \"text-align: right;\">0</td></tr><tr><td style = \"text-align: right;\">&vellip;</td><td style = \"text-align: right;\">&vellip;</td><td style = \"text-align: right;\">&vellip;</td><td style = \"text-align: right;\">&vellip;</td><td style = \"text-align: right;\">&vellip;</td><td style = \"text-align: right;\">&vellip;</td><td style = \"text-align: right;\">&vellip;</td><td style = \"text-align: right;\">&vellip;</td><td style = \"text-align: right;\">&vellip;</td><td style = \"text-align: right;\">&vellip;</td></tr><tr><td class = \"rowNumber\" style = \"font-weight: bold; text-align: right;\">545</td><td style = \"text-align: left;\">Willian Borges Da Silva</td><td style = \"text-align: right;\">0</td><td style = \"text-align: right;\">0</td><td style = \"text-align: right;\">0</td><td style = \"text-align: right;\">1</td><td style = \"text-align: left;\">MID</td><td style = \"text-align: right;\">63</td><td style = \"text-align: left;\">Arsenal</td><td style = \"text-align: right;\">0</td></tr><tr><td class = \"rowNumber\" style = \"font-weight: bold; text-align: right;\">546</td><td style = \"text-align: left;\">Willy Boly</td><td style = \"text-align: right;\">1</td><td style = \"text-align: right;\">0</td><td style = \"text-align: right;\">0</td><td style = \"text-align: right;\">0</td><td style = \"text-align: left;\">DEF</td><td style = \"text-align: right;\">49</td><td style = \"text-align: left;\">Wolves</td><td style = \"text-align: right;\">17</td></tr><tr><td class = \"rowNumber\" style = \"font-weight: bold; text-align: right;\">547</td><td style = \"text-align: left;\">Winston Reid</td><td style = \"text-align: right;\">1</td><td style = \"text-align: right;\">0</td><td style = \"text-align: right;\">0</td><td style = \"text-align: right;\">0</td><td style = \"text-align: left;\">DEF</td><td style = \"text-align: right;\">39</td><td style = \"text-align: left;\">West Ham</td><td style = \"text-align: right;\">0</td></tr><tr><td class = \"rowNumber\" style = \"font-weight: bold; text-align: right;\">548</td><td style = \"text-align: left;\">Xherdan Shaqiri</td><td style = \"text-align: right;\">0</td><td style = \"text-align: right;\">0</td><td style = \"text-align: right;\">0</td><td style = \"text-align: right;\">1</td><td style = \"text-align: left;\">MID</td><td style = \"text-align: right;\">59</td><td style = \"text-align: left;\">Liverpool</td><td style = \"text-align: right;\">0</td></tr><tr><td class = \"rowNumber\" style = \"font-weight: bold; text-align: right;\">549</td><td style = \"text-align: left;\">Yan Valery</td><td style = \"text-align: right;\">1</td><td style = \"text-align: right;\">0</td><td style = \"text-align: right;\">0</td><td style = \"text-align: right;\">0</td><td style = \"text-align: left;\">DEF</td><td style = \"text-align: right;\">39</td><td style = \"text-align: left;\">Southampton</td><td style = \"text-align: right;\">9</td></tr><tr><td class = \"rowNumber\" style = \"font-weight: bold; text-align: right;\">550</td><td style = \"text-align: left;\">Yerry Mina</td><td style = \"text-align: right;\">1</td><td style = \"text-align: right;\">0</td><td style = \"text-align: right;\">0</td><td style = \"text-align: right;\">0</td><td style = \"text-align: left;\">DEF</td><td style = \"text-align: right;\">49</td><td style = \"text-align: left;\">Everton</td><td style = \"text-align: right;\">24</td></tr><tr><td class = \"rowNumber\" style = \"font-weight: bold; text-align: right;\">551</td><td style = \"text-align: left;\">Yerson Mosquera Valdelamar</td><td style = \"text-align: right;\">1</td><td style = \"text-align: right;\">0</td><td style = \"text-align: right;\">0</td><td style = \"text-align: right;\">0</td><td style = \"text-align: left;\">DEF</td><td style = \"text-align: right;\">44</td><td style = \"text-align: left;\">Wolves</td><td style = \"text-align: right;\">0</td></tr><tr><td class = \"rowNumber\" style = \"font-weight: bold; text-align: right;\">552</td><td style = \"text-align: left;\">Yoane Wissa</td><td style = \"text-align: right;\">0</td><td style = \"text-align: right;\">0</td><td style = \"text-align: right;\">0</td><td style = \"text-align: right;\">1</td><td style = \"text-align: left;\">MID</td><td style = \"text-align: right;\">57</td><td style = \"text-align: left;\">Brentford</td><td style = \"text-align: right;\">92</td></tr><tr><td class = \"rowNumber\" style = \"font-weight: bold; text-align: right;\">553</td><td style = \"text-align: left;\">Youri Tielemans</td><td style = \"text-align: right;\">0</td><td style = \"text-align: right;\">0</td><td style = \"text-align: right;\">0</td><td style = \"text-align: right;\">1</td><td style = \"text-align: left;\">MID</td><td style = \"text-align: right;\">64</td><td style = \"text-align: left;\">Leicester</td><td style = \"text-align: right;\">120</td></tr><tr><td class = \"rowNumber\" style = \"font-weight: bold; text-align: right;\">554</td><td style = \"text-align: left;\">Yves Bissouma</td><td style = \"text-align: right;\">0</td><td style = \"text-align: right;\">0</td><td style = \"text-align: right;\">0</td><td style = \"text-align: right;\">1</td><td style = \"text-align: left;\">MID</td><td style = \"text-align: right;\">44</td><td style = \"text-align: left;\">Brighton</td><td style = \"text-align: right;\">66</td></tr><tr><td class = \"rowNumber\" style = \"font-weight: bold; text-align: right;\">555</td><td style = \"text-align: left;\">Zack Steffen</td><td style = \"text-align: right;\">0</td><td style = \"text-align: right;\">0</td><td style = \"text-align: right;\">1</td><td style = \"text-align: right;\">0</td><td style = \"text-align: left;\">GK</td><td style = \"text-align: right;\">44</td><td style = \"text-align: left;\">Man City</td><td style = \"text-align: right;\">7</td></tr><tr><td class = \"rowNumber\" style = \"font-weight: bold; text-align: right;\">556</td><td style = \"text-align: left;\">Çaglar Söyüncü</td><td style = \"text-align: right;\">1</td><td style = \"text-align: right;\">0</td><td style = \"text-align: right;\">0</td><td style = \"text-align: right;\">0</td><td style = \"text-align: left;\">DEF</td><td style = \"text-align: right;\">49</td><td style = \"text-align: left;\">Leicester</td><td style = \"text-align: right;\">66</td></tr></tbody></table></div>"
      ],
      "text/latex": [
       "\\begin{tabular}{r|cccccccc}\n",
       "\t& Column1 & DEF & FWD & GK & MID & element\\_type & now\\_cost & \\\\\n",
       "\t\\hline\n",
       "\t& String & Int64 & Int64 & Int64 & Int64 & String3 & Int64 & \\\\\n",
       "\t\\hline\n",
       "\t1 & Aaron Connolly & 0 & 1 & 0 & 0 & FWD & 53 & $\\dots$ \\\\\n",
       "\t2 & Aaron Cresswell & 1 & 0 & 0 & 0 & DEF & 54 & $\\dots$ \\\\\n",
       "\t3 & Aaron Ramsey & 0 & 0 & 0 & 1 & MID & 44 & $\\dots$ \\\\\n",
       "\t4 & Aaron Wan-Bissaka & 1 & 0 & 0 & 0 & DEF & 51 & $\\dots$ \\\\\n",
       "\t5 & Abdoulaye Doucouré & 0 & 0 & 0 & 1 & MID & 53 & $\\dots$ \\\\\n",
       "\t6 & Adam Armstrong & 0 & 1 & 0 & 0 & FWD & 57 & $\\dots$ \\\\\n",
       "\t7 & Adam Forshaw & 0 & 0 & 0 & 1 & MID & 45 & $\\dots$ \\\\\n",
       "\t8 & Adam Idah & 0 & 1 & 0 & 0 & FWD & 48 & $\\dots$ \\\\\n",
       "\t9 & Adam Lallana & 0 & 0 & 0 & 1 & MID & 53 & $\\dots$ \\\\\n",
       "\t10 & Adam Masina & 1 & 0 & 0 & 0 & DEF & 43 & $\\dots$ \\\\\n",
       "\t11 & Adam Webster & 1 & 0 & 0 & 0 & DEF & 43 & $\\dots$ \\\\\n",
       "\t12 & Adama Traoré & 0 & 0 & 0 & 1 & MID & 56 & $\\dots$ \\\\\n",
       "\t13 & Adedapo Awokoya-Mebude & 0 & 1 & 0 & 0 & FWD & 45 & $\\dots$ \\\\\n",
       "\t14 & Adrián San Miguel del Castillo & 0 & 0 & 1 & 0 & GK & 43 & $\\dots$ \\\\\n",
       "\t15 & Ainsley Maitland-Niles & 0 & 0 & 0 & 1 & MID & 52 & $\\dots$ \\\\\n",
       "\t16 & Albert Sambi Lokonga & 0 & 0 & 0 & 1 & MID & 48 & $\\dots$ \\\\\n",
       "\t17 & Alex Iwobi & 0 & 0 & 0 & 1 & MID & 58 & $\\dots$ \\\\\n",
       "\t18 & Alex McCarthy & 0 & 0 & 1 & 0 & GK & 43 & $\\dots$ \\\\\n",
       "\t19 & Alex Nicolao Telles & 1 & 0 & 0 & 0 & DEF & 49 & $\\dots$ \\\\\n",
       "\t20 & Alex Oxlade-Chamberlain & 0 & 0 & 0 & 1 & MID & 58 & $\\dots$ \\\\\n",
       "\t21 & Alexandre Lacazette & 0 & 1 & 0 & 0 & FWD & 81 & $\\dots$ \\\\\n",
       "\t22 & Alexis Mac Allister & 0 & 0 & 0 & 1 & MID & 51 & $\\dots$ \\\\\n",
       "\t23 & Alireza Jahanbakhsh & 0 & 0 & 0 & 1 & MID & 55 & $\\dots$ \\\\\n",
       "\t24 & Alisson Ramses Becker & 0 & 0 & 1 & 0 & GK & 61 & $\\dots$ \\\\\n",
       "\t25 & Allan Marques Loureiro & 0 & 0 & 0 & 1 & MID & 43 & $\\dots$ \\\\\n",
       "\t26 & Allan Saint-Maximin & 0 & 1 & 0 & 0 & FWD & 67 & $\\dots$ \\\\\n",
       "\t27 & Alphonse Areola & 0 & 0 & 1 & 0 & GK & 47 & $\\dots$ \\\\\n",
       "\t28 & Andi Zeqiri & 0 & 1 & 0 & 0 & FWD & 45 & $\\dots$ \\\\\n",
       "\t29 & Andre Gray & 0 & 1 & 0 & 0 & FWD & 54 & $\\dots$ \\\\\n",
       "\t30 & Andreas Christensen & 1 & 0 & 0 & 0 & DEF & 46 & $\\dots$ \\\\\n",
       "\t$\\dots$ & $\\dots$ & $\\dots$ & $\\dots$ & $\\dots$ & $\\dots$ & $\\dots$ & $\\dots$ &  \\\\\n",
       "\\end{tabular}\n"
      ],
      "text/plain": [
       "\u001b[1m556×9 DataFrame\u001b[0m\n",
       "\u001b[1m Row \u001b[0m│\u001b[1m Column1                        \u001b[0m\u001b[1m DEF   \u001b[0m\u001b[1m FWD   \u001b[0m\u001b[1m GK    \u001b[0m\u001b[1m MID   \u001b[0m\u001b[1m element_typ\u001b[0m ⋯\n",
       "     │\u001b[90m String                         \u001b[0m\u001b[90m Int64 \u001b[0m\u001b[90m Int64 \u001b[0m\u001b[90m Int64 \u001b[0m\u001b[90m Int64 \u001b[0m\u001b[90m String3    \u001b[0m ⋯\n",
       "─────┼──────────────────────────────────────────────────────────────────────────\n",
       "   1 │ Aaron Connolly                      0      1      0      0  FWD         ⋯\n",
       "   2 │ Aaron Cresswell                     1      0      0      0  DEF\n",
       "   3 │ Aaron Ramsey                        0      0      0      1  MID\n",
       "   4 │ Aaron Wan-Bissaka                   1      0      0      0  DEF\n",
       "   5 │ Abdoulaye Doucouré                  0      0      0      1  MID         ⋯\n",
       "   6 │ Adam Armstrong                      0      1      0      0  FWD\n",
       "   7 │ Adam Forshaw                        0      0      0      1  MID\n",
       "   8 │ Adam Idah                           0      1      0      0  FWD\n",
       "   9 │ Adam Lallana                        0      0      0      1  MID         ⋯\n",
       "  10 │ Adam Masina                         1      0      0      0  DEF\n",
       "  11 │ Adam Webster                        1      0      0      0  DEF\n",
       "  ⋮  │               ⋮                   ⋮      ⋮      ⋮      ⋮         ⋮      ⋱\n",
       " 547 │ Winston Reid                        1      0      0      0  DEF\n",
       " 548 │ Xherdan Shaqiri                     0      0      0      1  MID         ⋯\n",
       " 549 │ Yan Valery                          1      0      0      0  DEF\n",
       " 550 │ Yerry Mina                          1      0      0      0  DEF\n",
       " 551 │ Yerson Mosquera Valdelamar          1      0      0      0  DEF\n",
       " 552 │ Yoane Wissa                         0      0      0      1  MID         ⋯\n",
       " 553 │ Youri Tielemans                     0      0      0      1  MID\n",
       " 554 │ Yves Bissouma                       0      0      0      1  MID\n",
       " 555 │ Zack Steffen                        0      0      1      0  GK\n",
       " 556 │ Çaglar Söyüncü                      1      0      0      0  DEF         ⋯\n",
       "\u001b[36m                                                  4 columns and 535 rows omitted\u001b[0m"
      ]
     },
     "execution_count": 3,
     "metadata": {},
     "output_type": "execute_result"
    }
   ],
   "source": [
    "csv_df = CSV.read(\"data.csv\", DataFrames.DataFrame)"
   ]
  },
  {
   "cell_type": "code",
   "execution_count": 21,
   "id": "f128003b",
   "metadata": {
    "scrolled": true
   },
   "outputs": [
    {
     "name": "stdout",
     "output_type": "stream",
     "text": [
      "[5, 115, 0, 41, 90, 57, 38, 36, 44, 25, 59, 44, 0, 0, 12, 32, 78, 55, 67, 42, 90, 93, 0, 176, 58, 116, 2, 0, 0, 69, 0, 0, 14, 186, 25, 66, 18, 40, 31, 59, 100, 14, 150, 22, 92, 29, 32, 3, 63, 50, 13, 14, 160, 0, 35, 0, 0, 35, 0, 0, 105, 105, 81, 53, 45, 48, 74, 107, 0, 0, 55, 3, 0, 0, 155, 10, 13, 49, 0, 0, 36, 36, 151, 9, 119, 179, 49, 75, 42, 8, 16, 10, 78, 103, 77, 1, 91, 58, 21, 0, 101, 77, 0, 16, 14, 9, 138, 0, 140, 0, 50, 90, 63, 6, 40, 48, 87, 4, 92, 11, 1, 55, 25, 70, 91, 0, 106, 7, 3, 89, 0, 95, 132, 93, 0, 0, 95, 106, 0, 77, 39, 175, 22, 0, 64, 3, 31, 89, 7, 84, 31, 155, 34, 130, 55, 0, 1, 58, 125, 107, 129, 134, 58, 2, 132, 0, 37, 0, 90, 78, 18, 88, 97, 30, 11, 45, 67, 26, 0, 2, 0, 53, 66, 5, 35, 57, 9, 93, 0, 0, 120, 146, 110, 11, 60, 71, 0, 79, 0, 8, 192, 69, 33, 137, 12, 258, 158, 0, 22, 1, 0, 44, 33, 124, 106, 31, 28, 0, 81, 30, 139, 30, 48, 86, 117, 12, 62, 109, 9, 1, 91, 4, 58, 47, 0, 10, 29, 181, 54, 38, 0, 83, 17, 159, 19, 133, 94, 0, 11, 29, 0, 7, 206, 2, 38, 60, 3, 61, 1, 8, 86, 28, 29, 4, 124, 0, 3, 170, 73, 83, 33, 110, 3, 70, 38, 63, 21, 39, 77, 110, 0, 116, 106, 22, 0, 79, 0, 92, 0, 87, 60, 54, 146, 96, 201, 60, 0, 95, 62, 10, 54, 112, 39, 20, 0, 131, 1, 80, 26, 69, 19, 196, 7, 14, 41, 106, 70, 0, 0, 42, 20, 81, 2, 66, 0, 85, 82, 76, 141, 37, 92, 0, 60, 83, 87, 0, 19, 23, 136, 55, 7, 46, 50, 22, 4, 41, 1, 30, 92, 40, 123, 0, 0, 128, 11, 63, 0, 19, 96, 0, 22, 71, 62, 169, 46, 76, 61, 0, 54, 67, 20, 101, 147, 0, 65, 0, 0, 55, 106, 0, 102, 0, 0, 73, 140, 0, 0, 59, 70, 90, 27, 265, 58, 27, 1, 13, 13, 85, 79, 65, 24, 54, 0, 55, 1, 79, 29, 0, 59, 0, 98, 4, 52, 130, 45, 49, 94, 10, 59, 34, 0, 131, 0, 88, 0, 117, 0, 1, 88, 35, 28, 0, 0, 70, 7, 65, 22, 7, 0, 137, 0, 0, 70, 44, 109, 122, 18, 163, 145, 87, 101, 0, 141, 1, 0, 35, 125, 108, 135, 29, 0, 126, 62, 23, 127, 85, 38, 109, 87, 14, 52, 0, 4, 78, 7, 56, 95, 141, 0, 183, 20, 15, 30, 0, 138, 0, 68, 0, 79, 48, 0, 81, 104, 35, 48, 19, 61, 13, 55, 0, 57, 80, 28, 0, 22, 74, 1, 2, 142, 12, 69, 130, 71, 90, 62, 75, 80, 0, 10, 48, 12, 0, 114, 208, 99, 2, 34, 109, 118, 119, 66, 183, 90, 70, 4, 17, 1, 41, 150, 34, 0, 0, 5, 18, 0, 17, 0, 0, 9, 24, 0, 92, 120, 66, 7, 66][1, 0, 0, 0, 0, 1, 0, 1, 0, 0, 0, 0, 1, 0, 0, 0, 0, 0, 0, 0, 1, 0, 0, 0, 0, 1, 0, 1, 1, 0, 0, 0, 0, 0, 0, 0, 0, 0, 0, 0, 0, 1, 0, 0, 1, 0, 1, 1, 0, 0, 0, 0, 0, 0, 0, 0, 0, 0, 0, 0, 0, 0, 0, 0, 0, 0, 0, 0, 0, 0, 0, 0, 0, 0, 0, 0, 0, 0, 0, 0, 0, 0, 0, 0, 0, 0, 0, 1, 0, 0, 0, 0, 0, 1, 0, 0, 1, 1, 0, 0, 0, 0, 0, 0, 0, 0, 0, 0, 0, 0, 0, 0, 0, 0, 0, 0, 0, 0, 0, 0, 1, 0, 0, 0, 0, 1, 1, 0, 0, 1, 0, 0, 0, 0, 0, 0, 0, 0, 0, 0, 0, 0, 1, 0, 1, 0, 0, 0, 1, 0, 0, 0, 1, 0, 1, 0, 0, 0, 0, 0, 0, 1, 0, 0, 0, 0, 0, 0, 0, 0, 0, 0, 0, 1, 0, 0, 0, 0, 1, 1, 0, 0, 0, 0, 0, 0, 0, 0, 0, 0, 1, 0, 0, 0, 0, 0, 0, 0, 1, 0, 1, 0, 0, 0, 0, 0, 0, 0, 0, 0, 0, 0, 0, 0, 0, 0, 0, 1, 0, 0, 1, 0, 0, 0, 0, 0, 0, 0, 0, 0, 0, 0, 0, 0, 0, 0, 0, 0, 0, 0, 0, 0, 0, 0, 0, 1, 0, 0, 0, 0, 0, 0, 0, 0, 0, 1, 0, 1, 0, 0, 0, 0, 0, 0, 0, 0, 0, 0, 0, 1, 0, 0, 0, 0, 0, 0, 0, 0, 1, 0, 1, 0, 0, 0, 0, 0, 0, 0, 0, 1, 1, 0, 0, 0, 0, 1, 0, 0, 1, 0, 0, 0, 0, 0, 0, 0, 1, 1, 0, 0, 0, 0, 0, 0, 0, 0, 0, 0, 0, 0, 0, 0, 0, 0, 0, 0, 0, 0, 0, 0, 0, 1, 0, 0, 0, 0, 0, 0, 0, 0, 0, 0, 0, 0, 0, 0, 0, 0, 0, 0, 0, 0, 0, 0, 1, 0, 0, 0, 0, 0, 0, 0, 0, 0, 1, 0, 0, 0, 0, 0, 0, 0, 0, 0, 0, 0, 0, 0, 0, 1, 0, 0, 1, 0, 1, 0, 1, 0, 0, 0, 0, 0, 0, 0, 0, 0, 0, 0, 0, 0, 0, 0, 1, 0, 0, 0, 0, 0, 0, 0, 1, 0, 0, 0, 0, 0, 0, 0, 0, 0, 1, 1, 0, 0, 0, 0, 0, 0, 0, 0, 1, 1, 0, 1, 0, 0, 0, 0, 0, 0, 0, 0, 0, 1, 0, 0, 0, 0, 0, 0, 1, 0, 0, 0, 0, 0, 1, 0, 0, 0, 1, 0, 1, 0, 0, 1, 0, 0, 1, 0, 0, 0, 0, 0, 0, 0, 0, 0, 0, 0, 0, 1, 0, 0, 0, 0, 0, 0, 0, 0, 0, 0, 0, 0, 0, 1, 0, 0, 0, 1, 0, 0, 0, 1, 0, 0, 0, 0, 1, 0, 0, 0, 0, 0, 1, 0, 0, 0, 0, 0, 0, 0, 0, 0, 0, 1, 0, 0, 0, 0, 0, 0, 0, 0, 0, 0, 1, 0, 0, 0, 0, 0, 0, 0, 0, 0, 0, 0, 0, 0, 0, 0, 0, 0, 0, 0][0, 0, 1, 0, 1, 0, 1, 0, 1, 0, 0, 1, 0, 0, 1, 1, 1, 0, 0, 1, 0, 1, 1, 0, 1, 0, 0, 0, 0, 0, 1, 0, 0, 0, 1, 1, 1, 0, 0, 1, 1, 0, 0, 1, 0, 0, 0, 0, 1, 0, 0, 0, 0, 1, 1, 0, 0, 1, 0, 0, 0, 0, 0, 0, 0, 0, 0, 0, 0, 1, 0, 0, 1, 0, 1, 0, 1, 1, 0, 0, 1, 0, 1, 1, 1, 1, 1, 0, 0, 0, 1, 0, 0, 0, 0, 1, 0, 0, 0, 0, 1, 1, 0, 1, 0, 1, 0, 1, 1, 1, 0, 0, 0, 1, 1, 0, 0, 1, 0, 1, 0, 0, 0, 1, 1, 0, 0, 0, 0, 0, 0, 0, 0, 0, 1, 0, 1, 1, 1, 0, 0, 1, 0, 1, 0, 0, 1, 1, 0, 1, 1, 0, 0, 0, 0, 0, 0, 0, 1, 1, 0, 0, 1, 0, 0, 1, 0, 0, 0, 0, 1, 0, 1, 0, 0, 1, 0, 1, 0, 0, 0, 0, 1, 0, 1, 0, 0, 1, 0, 0, 0, 0, 1, 1, 1, 0, 1, 1, 0, 1, 0, 0, 1, 1, 1, 1, 0, 0, 0, 1, 1, 1, 0, 1, 0, 1, 1, 0, 1, 0, 0, 0, 1, 1, 1, 0, 1, 1, 0, 1, 1, 1, 1, 0, 0, 0, 0, 1, 1, 1, 1, 0, 0, 1, 1, 0, 0, 1, 0, 0, 0, 0, 1, 0, 0, 0, 1, 0, 0, 1, 1, 0, 1, 1, 0, 0, 0, 0, 0, 0, 1, 1, 0, 0, 0, 1, 0, 0, 0, 1, 0, 0, 1, 0, 1, 1, 1, 1, 1, 0, 0, 0, 0, 1, 0, 0, 0, 0, 0, 1, 1, 1, 1, 0, 0, 0, 0, 0, 1, 1, 0, 1, 0, 0, 1, 0, 1, 0, 0, 0, 0, 0, 0, 0, 1, 0, 0, 1, 1, 1, 0, 0, 0, 0, 1, 1, 1, 1, 0, 0, 1, 0, 0, 0, 1, 0, 1, 0, 1, 1, 0, 0, 1, 0, 0, 1, 0, 1, 0, 0, 1, 1, 0, 1, 0, 1, 1, 0, 1, 0, 0, 0, 0, 1, 0, 0, 1, 0, 0, 0, 0, 0, 0, 1, 0, 0, 0, 1, 1, 1, 1, 1, 0, 1, 1, 1, 1, 1, 1, 1, 1, 0, 0, 0, 0, 1, 1, 1, 0, 0, 0, 0, 1, 0, 1, 0, 0, 1, 0, 1, 0, 0, 1, 1, 1, 1, 1, 0, 1, 0, 0, 0, 0, 0, 0, 1, 1, 1, 0, 1, 1, 0, 1, 0, 1, 0, 1, 1, 1, 0, 0, 0, 0, 1, 0, 0, 0, 0, 1, 0, 0, 0, 0, 0, 1, 0, 0, 0, 0, 1, 1, 0, 0, 1, 0, 0, 1, 0, 0, 1, 0, 0, 1, 1, 1, 1, 1, 0, 0, 1, 0, 1, 0, 1, 0, 0, 1, 1, 1, 0, 1, 1, 1, 0, 1, 0, 1, 1, 0, 1, 1, 0, 1, 0, 0, 0, 0, 0, 1, 1, 1, 0, 1, 0, 0, 0, 1, 0, 0, 0, 0, 0, 1, 0, 0, 0, 0, 1, 1, 1, 0, 0, 1, 0, 1, 0, 0, 1, 0, 0, 0, 1, 1, 1, 0, 0]"
     ]
    }
   ],
   "source": [
    "total_points = csv_df[:, \"total_points\"]\n",
    "cost = csv_df[:, \"now_cost\"]\n",
    "\n",
    "gk = csv_df[:, \"GK\"]\n",
    "def = csv_df[:, \"DEF\"]\n",
    "fwd = csv_df[:, \"FWD\"]\n",
    "mid = csv_df[:, \"MID\"]\n",
    "\n",
    "\n",
    "print(total_points, fwd, mid)"
   ]
  },
  {
   "cell_type": "code",
   "execution_count": 5,
   "id": "8563302f",
   "metadata": {},
   "outputs": [
    {
     "data": {
      "text/plain": [
       "A JuMP Model\n",
       "Feasibility problem with:\n",
       "Variables: 0\n",
       "Model mode: AUTOMATIC\n",
       "CachingOptimizer state: EMPTY_OPTIMIZER\n",
       "Solver name: Mosek"
      ]
     },
     "execution_count": 5,
     "metadata": {},
     "output_type": "execute_result"
    }
   ],
   "source": [
    "m = Model(Mosek.Optimizer)"
   ]
  },
  {
   "cell_type": "code",
   "execution_count": 6,
   "id": "b6f00715",
   "metadata": {},
   "outputs": [
    {
     "data": {
      "text/plain": [
       "556-element Vector{VariableRef}:\n",
       " x[1]\n",
       " x[2]\n",
       " x[3]\n",
       " x[4]\n",
       " x[5]\n",
       " x[6]\n",
       " x[7]\n",
       " x[8]\n",
       " x[9]\n",
       " x[10]\n",
       " x[11]\n",
       " x[12]\n",
       " x[13]\n",
       " ⋮\n",
       " x[545]\n",
       " x[546]\n",
       " x[547]\n",
       " x[548]\n",
       " x[549]\n",
       " x[550]\n",
       " x[551]\n",
       " x[552]\n",
       " x[553]\n",
       " x[554]\n",
       " x[555]\n",
       " x[556]"
      ]
     },
     "execution_count": 6,
     "metadata": {},
     "output_type": "execute_result"
    }
   ],
   "source": [
    "@variable(m, x[1:length(total_points)],Bin)"
   ]
  },
  {
   "cell_type": "code",
   "execution_count": 7,
   "id": "3b432fe1",
   "metadata": {},
   "outputs": [
    {
     "data": {
      "text/latex": [
       "$$ x_{14} + x_{18} + x_{24} + x_{27} + x_{32} + x_{39} + x_{51} + x_{56} + x_{63} + x_{76} + x_{90} + x_{123} + x_{129} + x_{131} + x_{132} + x_{133} + x_{136} + x_{152} + x_{154} + x_{156} + x_{161} + x_{181} + x_{186} + x_{187} + x_{207} + x_{215} + x_{222} + x_{254} + x_{259} + x_{266} + x_{273} + x_{282} + x_{293} + x_{297} + x_{304} + x_{305} + x_{306} + x_{311} + x_{318} + x_{323} + x_{339} + x_{357} + x_{359} + x_{368} + x_{382} + x_{414} + x_{433} + x_{442} + x_{462} + x_{472} + x_{479} + x_{514} + x_{522} + x_{530} + x_{535} + x_{541} + x_{555} = 1.0 $$"
      ],
      "text/plain": [
       "x[14] + x[18] + x[24] + x[27] + x[32] + x[39] + x[51] + x[56] + x[63] + x[76] + x[90] + x[123] + x[129] + x[131] + x[132] + x[133] + x[136] + x[152] + x[154] + x[156] + x[161] + x[181] + x[186] + x[187] + x[207] + x[215] + x[222] + x[254] + x[259] + x[266] + x[273] + x[282] + x[293] + x[297] + x[304] + x[305] + x[306] + x[311] + x[318] + x[323] + x[339] + x[357] + x[359] + x[368] + x[382] + x[414] + x[433] + x[442] + x[462] + x[472] + x[479] + x[514] + x[522] + x[530] + x[535] + x[541] + x[555] == 1.0"
      ]
     },
     "execution_count": 7,
     "metadata": {},
     "output_type": "execute_result"
    }
   ],
   "source": [
    "@constraint(m, gk' * x .== 1)"
   ]
  },
  {
   "cell_type": "code",
   "execution_count": 8,
   "id": "f6c85f48",
   "metadata": {},
   "outputs": [
    {
     "data": {
      "text/latex": [
       "$$ x_{2} + x_{4} + x_{10} + x_{11} + x_{19} + x_{30} + x_{33} + x_{34} + x_{38} + x_{43} + x_{46} + x_{50} + x_{52} + x_{53} + x_{57} + x_{59} + x_{60} + x_{61} + x_{62} + x_{64} + x_{65} + x_{66} + x_{67} + x_{68} + x_{69} + x_{71} + x_{72} + x_{74} + x_{79} + x_{80} + x_{82} + x_{89} + x_{92} + x_{93} + x_{95} + x_{99} + x_{100} + x_{103} + x_{105} + x_{107} + x_{111} + x_{112} + x_{113} + x_{116} + x_{117} + x_{119} + x_{122} + x_{128} + x_{134} + x_{140} + x_{141} + x_{146} + x_{157} + x_{158} + x_{164} + x_{165} + x_{167} + x_{168} + x_{169} + x_{170} + x_{172} + x_{175} + x_{177} + x_{182} + x_{184} + x_{189} + x_{190} + x_{192} + x_{196} + x_{202} + x_{208} + x_{209} + x_{213} + x_{220} + x_{226} + x_{229} + x_{234} + x_{235} + x_{236} + x_{237} + x_{242} + x_{243} + x_{247} + x_{249} + x_{250} + x_{251} + x_{252} + x_{255} + x_{262} + x_{265} + x_{267} + x_{268} + x_{269} + x_{274} + x_{275} + x_{277} + x_{278} + x_{284} + x_{292} + x_{295} + x_{298} + x_{313} + x_{314} + x_{316} + x_{319} + x_{320} + x_{321} + x_{322} + x_{324} + x_{326} + x_{327} + x_{331} + x_{333} + x_{334} + x_{340} + x_{342} + x_{343} + x_{344} + x_{346} + x_{348} + x_{351} + x_{352} + x_{354} + x_{360} + x_{363} + x_{370} + x_{371} + x_{372} + x_{373} + x_{375} + x_{376} + x_{378} + x_{379} + x_{381} + x_{386} + x_{393} + x_{402} + x_{404} + x_{405} + x_{409} + x_{410} + x_{412} + x_{416} + x_{417} + x_{419} + x_{428} + x_{430} + x_{435} + x_{439} + x_{446} + x_{450} + x_{452} + x_{453} + x_{455} + x_{456} + x_{458} + x_{460} + x_{464} + x_{467} + x_{468} + x_{473} + x_{475} + x_{476} + x_{478} + x_{481} + x_{488} + x_{489} + x_{491} + x_{493} + x_{495} + x_{506} + x_{512} + x_{516} + x_{517} + x_{518} + x_{524} + x_{525} + x_{528} + x_{529} + x_{531} + x_{532} + x_{534} + x_{536} + x_{542} + x_{544} + x_{546} + x_{547} + x_{549} + x_{550} + x_{551} + x_{556} \\leq 5.0 $$"
      ],
      "text/plain": [
       "x[2] + x[4] + x[10] + x[11] + x[19] + x[30] + x[33] + x[34] + x[38] + x[43] + x[46] + x[50] + x[52] + x[53] + x[57] + x[59] + x[60] + x[61] + x[62] + x[64] + x[65] + x[66] + x[67] + x[68] + x[69] + x[71] + x[72] + x[74] + x[79] + x[80] + x[82] + x[89] + x[92] + x[93] + x[95] + x[99] + x[100] + x[103] + x[105] + x[107] + x[111] + x[112] + x[113] + x[116] + x[117] + x[119] + x[122] + x[128] + x[134] + x[140] + x[141] + x[146] + x[157] + x[158] + x[164] + x[165] + x[167] + x[168] + x[169] + x[170] + x[172] + x[175] + x[177] + x[182] + x[184] + x[189] + x[190] + x[192] + x[196] + x[202] + x[208] + x[209] + x[213] + x[220] + x[226] + x[229] + x[234] + x[235] + x[236] + x[237] + x[242] + x[243] + x[247] + x[249] + x[250] + x[251] + x[252] + x[255] + x[262] + x[265] + x[267] + x[268] + x[269] + x[274] + x[275] + x[277] + x[278] + x[284] + x[292] + x[295] + x[298] + x[313] + x[314] + x[316] + x[319] + x[320] + x[321] + x[322] + x[324] + x[326] + x[327] + x[331] + x[333] + x[334] + x[340] + x[342] + x[343] + x[344] + x[346] + x[348] + x[351] + x[352] + x[354] + x[360] + x[363] + x[370] + x[371] + x[372] + x[373] + x[375] + x[376] + x[378] + x[379] + x[381] + x[386] + x[393] + x[402] + x[404] + x[405] + x[409] + x[410] + x[412] + x[416] + x[417] + x[419] + x[428] + x[430] + x[435] + x[439] + x[446] + x[450] + x[452] + x[453] + x[455] + x[456] + x[458] + x[460] + x[464] + x[467] + x[468] + x[473] + x[475] + x[476] + x[478] + x[481] + x[488] + x[489] + x[491] + x[493] + x[495] + x[506] + x[512] + x[516] + x[517] + x[518] + x[524] + x[525] + x[528] + x[529] + x[531] + x[532] + x[534] + x[536] + x[542] + x[544] + x[546] + x[547] + x[549] + x[550] + x[551] + x[556] <= 5.0"
      ]
     },
     "execution_count": 8,
     "metadata": {},
     "output_type": "execute_result"
    }
   ],
   "source": [
    "@constraint(m, def' * x .<= 5)"
   ]
  },
  {
   "cell_type": "code",
   "execution_count": 9,
   "id": "3b49c509",
   "metadata": {},
   "outputs": [
    {
     "data": {
      "text/latex": [
       "$$ x_{3} + x_{5} + x_{7} + x_{9} + x_{12} + x_{15} + x_{16} + x_{17} + x_{20} + x_{22} + x_{23} + x_{25} + x_{31} + x_{35} + x_{36} + x_{37} + x_{40} + x_{41} + x_{44} + x_{49} + x_{54} + x_{55} + x_{58} + x_{70} + x_{73} + x_{75} + x_{77} + x_{78} + x_{81} + x_{83} + x_{84} + x_{85} + x_{86} + x_{87} + x_{91} + x_{96} + x_{101} + x_{102} + x_{104} + x_{106} + x_{108} + x_{109} + x_{110} + x_{114} + x_{115} + x_{118} + x_{120} + x_{124} + x_{125} + x_{135} + x_{137} + x_{138} + x_{139} + x_{142} + x_{144} + x_{147} + x_{148} + x_{150} + x_{151} + x_{159} + x_{160} + x_{163} + x_{166} + x_{171} + x_{173} + x_{176} + x_{178} + x_{183} + x_{185} + x_{188} + x_{193} + x_{194} + x_{195} + x_{197} + x_{198} + x_{200} + x_{203} + x_{204} + x_{205} + x_{206} + x_{210} + x_{211} + x_{212} + x_{214} + x_{216} + x_{217} + x_{219} + x_{223} + x_{224} + x_{225} + x_{227} + x_{228} + x_{230} + x_{231} + x_{232} + x_{233} + x_{238} + x_{239} + x_{240} + x_{241} + x_{244} + x_{245} + x_{248} + x_{253} + x_{257} + x_{260} + x_{261} + x_{263} + x_{264} + x_{271} + x_{272} + x_{276} + x_{280} + x_{283} + x_{285} + x_{286} + x_{287} + x_{288} + x_{289} + x_{294} + x_{300} + x_{301} + x_{302} + x_{303} + x_{309} + x_{310} + x_{312} + x_{315} + x_{317} + x_{325} + x_{328} + x_{329} + x_{330} + x_{335} + x_{336} + x_{337} + x_{338} + x_{341} + x_{345} + x_{347} + x_{349} + x_{350} + x_{353} + x_{356} + x_{358} + x_{361} + x_{362} + x_{364} + x_{366} + x_{367} + x_{369} + x_{374} + x_{377} + x_{384} + x_{388} + x_{389} + x_{390} + x_{391} + x_{392} + x_{394} + x_{395} + x_{396} + x_{397} + x_{398} + x_{399} + x_{400} + x_{401} + x_{406} + x_{407} + x_{408} + x_{413} + x_{415} + x_{418} + x_{420} + x_{423} + x_{424} + x_{425} + x_{426} + x_{427} + x_{429} + x_{436} + x_{437} + x_{438} + x_{440} + x_{441} + x_{443} + x_{445} + x_{447} + x_{448} + x_{449} + x_{454} + x_{459} + x_{465} + x_{470} + x_{471} + x_{474} + x_{477} + x_{480} + x_{483} + x_{484} + x_{485} + x_{486} + x_{487} + x_{490} + x_{492} + x_{494} + x_{497} + x_{498} + x_{499} + x_{501} + x_{502} + x_{503} + x_{505} + x_{507} + x_{508} + x_{510} + x_{511} + x_{513} + x_{519} + x_{520} + x_{521} + x_{523} + x_{527} + x_{533} + x_{538} + x_{539} + x_{540} + x_{543} + x_{545} + x_{548} + x_{552} + x_{553} + x_{554} \\leq 5.0 $$"
      ],
      "text/plain": [
       "x[3] + x[5] + x[7] + x[9] + x[12] + x[15] + x[16] + x[17] + x[20] + x[22] + x[23] + x[25] + x[31] + x[35] + x[36] + x[37] + x[40] + x[41] + x[44] + x[49] + x[54] + x[55] + x[58] + x[70] + x[73] + x[75] + x[77] + x[78] + x[81] + x[83] + x[84] + x[85] + x[86] + x[87] + x[91] + x[96] + x[101] + x[102] + x[104] + x[106] + x[108] + x[109] + x[110] + x[114] + x[115] + x[118] + x[120] + x[124] + x[125] + x[135] + x[137] + x[138] + x[139] + x[142] + x[144] + x[147] + x[148] + x[150] + x[151] + x[159] + x[160] + x[163] + x[166] + x[171] + x[173] + x[176] + x[178] + x[183] + x[185] + x[188] + x[193] + x[194] + x[195] + x[197] + x[198] + x[200] + x[203] + x[204] + x[205] + x[206] + x[210] + x[211] + x[212] + x[214] + x[216] + x[217] + x[219] + x[223] + x[224] + x[225] + x[227] + x[228] + x[230] + x[231] + x[232] + x[233] + x[238] + x[239] + x[240] + x[241] + x[244] + x[245] + x[248] + x[253] + x[257] + x[260] + x[261] + x[263] + x[264] + x[271] + x[272] + x[276] + x[280] + x[283] + x[285] + x[286] + x[287] + x[288] + x[289] + x[294] + x[300] + x[301] + x[302] + x[303] + x[309] + x[310] + x[312] + x[315] + x[317] + x[325] + x[328] + x[329] + x[330] + x[335] + x[336] + x[337] + x[338] + x[341] + x[345] + x[347] + x[349] + x[350] + x[353] + x[356] + x[358] + x[361] + x[362] + x[364] + x[366] + x[367] + x[369] + x[374] + x[377] + x[384] + x[388] + x[389] + x[390] + x[391] + x[392] + x[394] + x[395] + x[396] + x[397] + x[398] + x[399] + x[400] + x[401] + x[406] + x[407] + x[408] + x[413] + x[415] + x[418] + x[420] + x[423] + x[424] + x[425] + x[426] + x[427] + x[429] + x[436] + x[437] + x[438] + x[440] + x[441] + x[443] + x[445] + x[447] + x[448] + x[449] + x[454] + x[459] + x[465] + x[470] + x[471] + x[474] + x[477] + x[480] + x[483] + x[484] + x[485] + x[486] + x[487] + x[490] + x[492] + x[494] + x[497] + x[498] + x[499] + x[501] + x[502] + x[503] + x[505] + x[507] + x[508] + x[510] + x[511] + x[513] + x[519] + x[520] + x[521] + x[523] + x[527] + x[533] + x[538] + x[539] + x[540] + x[543] + x[545] + x[548] + x[552] + x[553] + x[554] <= 5.0"
      ]
     },
     "execution_count": 9,
     "metadata": {},
     "output_type": "execute_result"
    }
   ],
   "source": [
    "@constraint(m, mid' * x .<= 5)"
   ]
  },
  {
   "cell_type": "code",
   "execution_count": 10,
   "id": "f8e26cbc",
   "metadata": {},
   "outputs": [
    {
     "data": {
      "text/latex": [
       "$$ x_{1} + x_{6} + x_{8} + x_{13} + x_{21} + x_{26} + x_{28} + x_{29} + x_{42} + x_{45} + x_{47} + x_{48} + x_{88} + x_{94} + x_{97} + x_{98} + x_{121} + x_{126} + x_{127} + x_{130} + x_{143} + x_{145} + x_{149} + x_{153} + x_{155} + x_{162} + x_{174} + x_{179} + x_{180} + x_{191} + x_{199} + x_{201} + x_{218} + x_{221} + x_{246} + x_{256} + x_{258} + x_{270} + x_{279} + x_{281} + x_{290} + x_{291} + x_{296} + x_{299} + x_{307} + x_{308} + x_{332} + x_{355} + x_{365} + x_{380} + x_{383} + x_{385} + x_{387} + x_{403} + x_{411} + x_{421} + x_{422} + x_{431} + x_{432} + x_{434} + x_{444} + x_{451} + x_{457} + x_{461} + x_{463} + x_{466} + x_{469} + x_{482} + x_{496} + x_{500} + x_{504} + x_{509} + x_{515} + x_{526} + x_{537} \\leq 3.0 $$"
      ],
      "text/plain": [
       "x[1] + x[6] + x[8] + x[13] + x[21] + x[26] + x[28] + x[29] + x[42] + x[45] + x[47] + x[48] + x[88] + x[94] + x[97] + x[98] + x[121] + x[126] + x[127] + x[130] + x[143] + x[145] + x[149] + x[153] + x[155] + x[162] + x[174] + x[179] + x[180] + x[191] + x[199] + x[201] + x[218] + x[221] + x[246] + x[256] + x[258] + x[270] + x[279] + x[281] + x[290] + x[291] + x[296] + x[299] + x[307] + x[308] + x[332] + x[355] + x[365] + x[380] + x[383] + x[385] + x[387] + x[403] + x[411] + x[421] + x[422] + x[431] + x[432] + x[434] + x[444] + x[451] + x[457] + x[461] + x[463] + x[466] + x[469] + x[482] + x[496] + x[500] + x[504] + x[509] + x[515] + x[526] + x[537] <= 3.0"
      ]
     },
     "execution_count": 10,
     "metadata": {},
     "output_type": "execute_result"
    }
   ],
   "source": [
    "@constraint(m, fwd' * x .<= 3)"
   ]
  },
  {
   "cell_type": "code",
   "execution_count": 11,
   "id": "174b5aab",
   "metadata": {
    "scrolled": true
   },
   "outputs": [
    {
     "data": {
      "text/latex": [
       "$$ x_{1} + x_{2} + x_{3} + x_{4} + x_{5} + x_{6} + x_{7} + x_{8} + x_{9} + x_{10} + x_{11} + x_{12} + x_{13} + x_{14} + x_{15} + x_{16} + x_{17} + x_{18} + x_{19} + x_{20} + x_{21} + x_{22} + x_{23} + x_{24} + x_{25} + x_{26} + x_{27} + x_{28} + x_{29} + x_{30} + x_{31} + x_{32} + x_{33} + x_{34} + x_{35} + x_{36} + x_{37} + x_{38} + x_{39} + x_{40} + x_{41} + x_{42} + x_{43} + x_{44} + x_{45} + x_{46} + x_{47} + x_{48} + x_{49} + x_{50} + x_{51} + x_{52} + x_{53} + x_{54} + x_{55} + x_{56} + x_{57} + x_{58} + x_{59} + x_{60} + x_{61} + x_{62} + x_{63} + x_{64} + x_{65} + x_{66} + x_{67} + x_{68} + x_{69} + x_{70} + x_{71} + x_{72} + x_{73} + x_{74} + x_{75} + x_{76} + x_{77} + x_{78} + x_{79} + x_{80} + x_{81} + x_{82} + x_{83} + x_{84} + x_{85} + x_{86} + x_{87} + x_{88} + x_{89} + x_{90} + x_{91} + x_{92} + x_{93} + x_{94} + x_{95} + x_{96} + x_{97} + x_{98} + x_{99} + x_{100} + x_{101} + x_{102} + x_{103} + x_{104} + x_{105} + x_{106} + x_{107} + x_{108} + x_{109} + x_{110} + x_{111} + x_{112} + x_{113} + x_{114} + x_{115} + x_{116} + x_{117} + x_{118} + x_{119} + x_{120} + x_{121} + x_{122} + x_{123} + x_{124} + x_{125} + x_{126} + x_{127} + x_{128} + x_{129} + x_{130} + x_{131} + x_{132} + x_{133} + x_{134} + x_{135} + x_{136} + x_{137} + x_{138} + x_{139} + x_{140} + x_{141} + x_{142} + x_{143} + x_{144} + x_{145} + x_{146} + x_{147} + x_{148} + x_{149} + x_{150} + x_{151} + x_{152} + x_{153} + x_{154} + x_{155} + x_{156} + x_{157} + x_{158} + x_{159} + x_{160} + x_{161} + x_{162} + x_{163} + x_{164} + x_{165} + x_{166} + x_{167} + x_{168} + x_{169} + x_{170} + x_{171} + x_{172} + x_{173} + x_{174} + x_{175} + x_{176} + x_{177} + x_{178} + x_{179} + x_{180} + x_{181} + x_{182} + x_{183} + x_{184} + x_{185} + x_{186} + x_{187} + x_{188} + x_{189} + x_{190} + x_{191} + x_{192} + x_{193} + x_{194} + x_{195} + x_{196} + x_{197} + x_{198} + x_{199} + x_{200} + x_{201} + x_{202} + x_{203} + x_{204} + x_{205} + x_{206} + x_{207} + x_{208} + x_{209} + x_{210} + x_{211} + x_{212} + x_{213} + x_{214} + x_{215} + x_{216} + x_{217} + x_{218} + x_{219} + x_{220} + x_{221} + x_{222} + x_{223} + x_{224} + x_{225} + x_{226} + x_{227} + x_{228} + x_{229} + x_{230} + x_{231} + x_{232} + x_{233} + x_{234} + x_{235} + x_{236} + x_{237} + x_{238} + x_{239} + x_{240} + x_{241} + x_{242} + x_{243} + x_{244} + x_{245} + x_{246} + x_{247} + x_{248} + x_{249} + x_{250} + x_{251} + x_{252} + x_{253} + x_{254} + x_{255} + x_{256} + x_{257} + x_{258} + x_{259} + x_{260} + x_{261} + x_{262} + x_{263} + x_{264} + x_{265} + x_{266} + x_{267} + x_{268} + x_{269} + x_{270} + x_{271} + x_{272} + x_{273} + x_{274} + x_{275} + x_{276} + x_{277} + x_{278} + x_{279} + x_{280} + x_{281} + x_{282} + x_{283} + x_{284} + x_{285} + x_{286} + x_{287} + x_{288} + x_{289} + x_{290} + x_{291} + x_{292} + x_{293} + x_{294} + x_{295} + x_{296} + x_{297} + x_{298} + x_{299} + x_{300} + x_{301} + x_{302} + x_{303} + x_{304} + x_{305} + x_{306} + x_{307} + x_{308} + x_{309} + x_{310} + x_{311} + x_{312} + x_{313} + x_{314} + x_{315} + x_{316} + x_{317} + x_{318} + x_{319} + x_{320} + x_{321} + x_{322} + x_{323} + x_{324} + x_{325} + x_{326} + x_{327} + x_{328} + x_{329} + x_{330} + x_{331} + x_{332} + x_{333} + x_{334} + x_{335} + x_{336} + x_{337} + x_{338} + x_{339} + x_{340} + x_{341} + x_{342} + x_{343} + x_{344} + x_{345} + x_{346} + x_{347} + x_{348} + x_{349} + x_{350} + x_{351} + x_{352} + x_{353} + x_{354} + x_{355} + x_{356} + x_{357} + x_{358} + x_{359} + x_{360} + x_{361} + x_{362} + x_{363} + x_{364} + x_{365} + x_{366} + x_{367} + x_{368} + x_{369} + x_{370} + x_{371} + x_{372} + x_{373} + x_{374} + x_{375} + x_{376} + x_{377} + x_{378} + x_{379} + x_{380} + x_{381} + x_{382} + x_{383} + x_{384} + x_{385} + x_{386} + x_{387} + x_{388} + x_{389} + x_{390} + x_{391} + x_{392} + x_{393} + x_{394} + x_{395} + x_{396} + x_{397} + x_{398} + x_{399} + x_{400} + x_{401} + x_{402} + x_{403} + x_{404} + x_{405} + x_{406} + x_{407} + x_{408} + x_{409} + x_{410} + x_{411} + x_{412} + x_{413} + x_{414} + x_{415} + x_{416} + x_{417} + x_{418} + x_{419} + x_{420} + x_{421} + x_{422} + x_{423} + x_{424} + x_{425} + x_{426} + x_{427} + x_{428} + x_{429} + x_{430} + x_{431} + x_{432} + x_{433} + x_{434} + x_{435} + x_{436} + x_{437} + x_{438} + x_{439} + x_{440} + x_{441} + x_{442} + x_{443} + x_{444} + x_{445} + x_{446} + x_{447} + x_{448} + x_{449} + x_{450} + x_{451} + x_{452} + x_{453} + x_{454} + x_{455} + x_{456} + x_{457} + x_{458} + x_{459} + x_{460} + x_{461} + x_{462} + x_{463} + x_{464} + x_{465} + x_{466} + x_{467} + x_{468} + x_{469} + x_{470} + x_{471} + x_{472} + x_{473} + x_{474} + x_{475} + x_{476} + x_{477} + x_{478} + x_{479} + x_{480} + x_{481} + x_{482} + x_{483} + x_{484} + x_{485} + x_{486} + x_{487} + x_{488} + x_{489} + x_{490} + x_{491} + x_{492} + x_{493} + x_{494} + x_{495} + x_{496} + x_{497} + x_{498} + x_{499} + x_{500} + x_{501} + x_{502} + x_{503} + x_{504} + x_{505} + x_{506} + x_{507} + x_{508} + x_{509} + x_{510} + x_{511} + x_{512} + x_{513} + x_{514} + x_{515} + x_{516} + x_{517} + x_{518} + x_{519} + x_{520} + x_{521} + x_{522} + x_{523} + x_{524} + x_{525} + x_{526} + x_{527} + x_{528} + x_{529} + x_{530} + x_{531} + x_{532} + x_{533} + x_{534} + x_{535} + x_{536} + x_{537} + x_{538} + x_{539} + x_{540} + x_{541} + x_{542} + x_{543} + x_{544} + x_{545} + x_{546} + x_{547} + x_{548} + x_{549} + x_{550} + x_{551} + x_{552} + x_{553} + x_{554} + x_{555} + x_{556} = 11.0 $$"
      ],
      "text/plain": [
       "x[1] + x[2] + x[3] + x[4] + x[5] + x[6] + x[7] + x[8] + x[9] + x[10] + x[11] + x[12] + x[13] + x[14] + x[15] + x[16] + x[17] + x[18] + x[19] + x[20] + x[21] + x[22] + x[23] + x[24] + x[25] + x[26] + x[27] + x[28] + x[29] + x[30] + x[31] + x[32] + x[33] + x[34] + x[35] + x[36] + x[37] + x[38] + x[39] + x[40] + x[41] + x[42] + x[43] + x[44] + x[45] + x[46] + x[47] + x[48] + x[49] + x[50] + x[51] + x[52] + x[53] + x[54] + x[55] + x[56] + x[57] + x[58] + x[59] + x[60] + x[61] + x[62] + x[63] + x[64] + x[65] + x[66] + x[67] + x[68] + x[69] + x[70] + x[71] + x[72] + x[73] + x[74] + x[75] + x[76] + x[77] + x[78] + x[79] + x[80] + x[81] + x[82] + x[83] + x[84] + x[85] + x[86] + x[87] + x[88] + x[89] + x[90] + x[91] + x[92] + x[93] + x[94] + x[95] + x[96] + x[97] + x[98] + x[99] + x[100] + x[101] + x[102] + x[103] + x[104] + x[105] + x[106] + x[107] + x[108] + x[109] + x[110] + x[111] + x[112] + x[113] + x[114] + x[115] + x[116] + x[117] + x[118] + x[119] + x[120] + x[121] + x[122] + x[123] + x[124] + x[125] + x[126] + x[127] + x[128] + x[129] + x[130] + x[131] + x[132] + x[133] + x[134] + x[135] + x[136] + x[137] + x[138] + x[139] + x[140] + x[141] + x[142] + x[143] + x[144] + x[145] + x[146] + x[147] + x[148] + x[149] + x[150] + x[151] + x[152] + x[153] + x[154] + x[155] + x[156] + x[157] + x[158] + x[159] + x[160] + x[161] + x[162] + x[163] + x[164] + x[165] + x[166] + x[167] + x[168] + x[169] + x[170] + x[171] + x[172] + x[173] + x[174] + x[175] + x[176] + x[177] + x[178] + x[179] + x[180] + x[181] + x[182] + x[183] + x[184] + x[185] + x[186] + x[187] + x[188] + x[189] + x[190] + x[191] + x[192] + x[193] + x[194] + x[195] + x[196] + x[197] + x[198] + x[199] + x[200] + x[201] + x[202] + x[203] + x[204] + x[205] + x[206] + x[207] + x[208] + x[209] + x[210] + x[211] + x[212] + x[213] + x[214] + x[215] + x[216] + x[217] + x[218] + x[219] + x[220] + x[221] + x[222] + x[223] + x[224] + x[225] + x[226] + x[227] + x[228] + x[229] + x[230] + x[231] + x[232] + x[233] + x[234] + x[235] + x[236] + x[237] + x[238] + x[239] + x[240] + x[241] + x[242] + x[243] + x[244] + x[245] + x[246] + x[247] + x[248] + x[249] + x[250] + x[251] + x[252] + x[253] + x[254] + x[255] + x[256] + x[257] + x[258] + x[259] + x[260] + x[261] + x[262] + x[263] + x[264] + x[265] + x[266] + x[267] + x[268] + x[269] + x[270] + x[271] + x[272] + x[273] + x[274] + x[275] + x[276] + x[277] + x[278] + x[279] + x[280] + x[281] + x[282] + x[283] + x[284] + x[285] + x[286] + x[287] + x[288] + x[289] + x[290] + x[291] + x[292] + x[293] + x[294] + x[295] + x[296] + x[297] + x[298] + x[299] + x[300] + x[301] + x[302] + x[303] + x[304] + x[305] + x[306] + x[307] + x[308] + x[309] + x[310] + x[311] + x[312] + x[313] + x[314] + x[315] + x[316] + x[317] + x[318] + x[319] + x[320] + x[321] + x[322] + x[323] + x[324] + x[325] + x[326] + x[327] + x[328] + x[329] + x[330] + x[331] + x[332] + x[333] + x[334] + x[335] + x[336] + x[337] + x[338] + x[339] + x[340] + x[341] + x[342] + x[343] + x[344] + x[345] + x[346] + x[347] + x[348] + x[349] + x[350] + x[351] + x[352] + x[353] + x[354] + x[355] + x[356] + x[357] + x[358] + x[359] + x[360] + x[361] + x[362] + x[363] + x[364] + x[365] + x[366] + x[367] + x[368] + x[369] + x[370] + x[371] + x[372] + x[373] + x[374] + x[375] + x[376] + x[377] + x[378] + x[379] + x[380] + x[381] + x[382] + x[383] + x[384] + x[385] + x[386] + x[387] + x[388] + x[389] + x[390] + x[391] + x[392] + x[393] + x[394] + x[395] + x[396] + x[397] + x[398] + x[399] + x[400] + x[401] + x[402] + x[403] + x[404] + x[405] + x[406] + x[407] + x[408] + x[409] + x[410] + x[411] + x[412] + x[413] + x[414] + x[415] + x[416] + x[417] + x[418] + x[419] + x[420] + x[421] + x[422] + x[423] + x[424] + x[425] + x[426] + x[427] + x[428] + x[429] + x[430] + x[431] + x[432] + x[433] + x[434] + x[435] + x[436] + x[437] + x[438] + x[439] + x[440] + x[441] + x[442] + x[443] + x[444] + x[445] + x[446] + x[447] + x[448] + x[449] + x[450] + x[451] + x[452] + x[453] + x[454] + x[455] + x[456] + x[457] + x[458] + x[459] + x[460] + x[461] + x[462] + x[463] + x[464] + x[465] + x[466] + x[467] + x[468] + x[469] + x[470] + x[471] + x[472] + x[473] + x[474] + x[475] + x[476] + x[477] + x[478] + x[479] + x[480] + x[481] + x[482] + x[483] + x[484] + x[485] + x[486] + x[487] + x[488] + x[489] + x[490] + x[491] + x[492] + x[493] + x[494] + x[495] + x[496] + x[497] + x[498] + x[499] + x[500] + x[501] + x[502] + x[503] + x[504] + x[505] + x[506] + x[507] + x[508] + x[509] + x[510] + x[511] + x[512] + x[513] + x[514] + x[515] + x[516] + x[517] + x[518] + x[519] + x[520] + x[521] + x[522] + x[523] + x[524] + x[525] + x[526] + x[527] + x[528] + x[529] + x[530] + x[531] + x[532] + x[533] + x[534] + x[535] + x[536] + x[537] + x[538] + x[539] + x[540] + x[541] + x[542] + x[543] + x[544] + x[545] + x[546] + x[547] + x[548] + x[549] + x[550] + x[551] + x[552] + x[553] + x[554] + x[555] + x[556] == 11.0"
      ]
     },
     "execution_count": 11,
     "metadata": {},
     "output_type": "execute_result"
    }
   ],
   "source": [
    "@constraint(m, sum(x) == 11)"
   ]
  },
  {
   "cell_type": "code",
   "execution_count": 23,
   "id": "c14bd30e",
   "metadata": {},
   "outputs": [
    {
     "data": {
      "text/latex": [
       "$$ 53 x_{1} + 54 x_{2} + 44 x_{3} + 51 x_{4} + 53 x_{5} + 57 x_{6} + 45 x_{7} + 48 x_{8} + 53 x_{9} + 43 x_{10} + 43 x_{11} + 56 x_{12} + 45 x_{13} + 43 x_{14} + 52 x_{15} + 48 x_{16} + 58 x_{17} + 43 x_{18} + 49 x_{19} + 58 x_{20} + 81 x_{21} + 51 x_{22} + 55 x_{23} + 61 x_{24} + 43 x_{25} + 67 x_{26} + 47 x_{27} + 45 x_{28} + 54 x_{29} + 46 x_{30} + 50 x_{31} + 39 x_{32} + 39 x_{33} + 73 x_{34} + 50 x_{35} + 52 x_{36} + 49 x_{37} + 49 x_{38} + 40 x_{39} + 48 x_{40} + 47 x_{41} + 76 x_{42} + 61 x_{43} + 56 x_{44} + 53 x_{45} + 44 x_{46} + 52 x_{47} + 48 x_{48} + 52 x_{49} + 47 x_{50} + 40 x_{51} + 44 x_{52} + 60 x_{53} + 45 x_{54} + 57 x_{55} + 45 x_{56} + 39 x_{57} + 62 x_{58} + 40 x_{59} + 40 x_{60} + 45 x_{61} + 45 x_{62} + 42 x_{63} + 44 x_{64} + 47 x_{65} + 39 x_{66} + 46 x_{67} + 46 x_{68} + 45 x_{69} + 45 x_{70} + 56 x_{71} + 52 x_{72} + 55 x_{73} + 40 x_{74} + 70 x_{75} + 45 x_{76} + 57 x_{77} + 43 x_{78} + 45 x_{79} + 39 x_{80} + 48 x_{81} + 39 x_{82} + 116 x_{83} + 57 x_{84} + 52 x_{85} + 67 x_{86} + 53 x_{87} + 71 x_{88} + 42 x_{89} + 43 x_{90} + 45 x_{91} + 39 x_{92} + 44 x_{93} + 65 x_{94} + 45 x_{95} + 44 x_{96} + 63 x_{97} + 59 x_{98} + 43 x_{99} + 40 x_{100} + 50 x_{101} + 79 x_{102} + 44 x_{103} + 48 x_{104} + 44 x_{105} + 45 x_{106} + 47 x_{107} + 45 x_{108} + 60 x_{109} + 49 x_{110} + 42 x_{111} + 49 x_{112} + 48 x_{113} + 45 x_{114} + 50 x_{115} + 42 x_{116} + 56 x_{117} + 44 x_{118} + 44 x_{119} + 47 x_{120} + 45 x_{121} + 40 x_{122} + 40 x_{123} + 55 x_{124} + 60 x_{125} + 45 x_{126} + 77 x_{127} + 42 x_{128} + 40 x_{129} + 60 x_{130} + 43 x_{131} + 44 x_{132} + 50 x_{133} + 42 x_{134} + 45 x_{135} + 47 x_{136} + 50 x_{137} + 54 x_{138} + 49 x_{139} + 45 x_{140} + 44 x_{141} + 83 x_{142} + 48 x_{143} + 45 x_{144} + 77 x_{145} + 44 x_{146} + 57 x_{147} + 43 x_{148} + 52 x_{149} + 55 x_{150} + 59 x_{151} + 62 x_{152} + 84 x_{153} + 61 x_{154} + 57 x_{155} + 40 x_{156} + 45 x_{157} + 43 x_{158} + 57 x_{159} + 61 x_{160} + 55 x_{161} + 58 x_{162} + 59 x_{163} + 49 x_{164} + 47 x_{165} + 60 x_{166} + 41 x_{167} + 45 x_{168} + 44 x_{169} + 49 x_{170} + 42 x_{171} + 41 x_{172} + 54 x_{173} + 56 x_{174} + 43 x_{175} + 47 x_{176} + 42 x_{177} + 67 x_{178} + 50 x_{179} + 47 x_{180} + 45 x_{181} + 43 x_{182} + 56 x_{183} + 43 x_{184} + 49 x_{185} + 44 x_{186} + 43 x_{187} + 49 x_{188} + 40 x_{189} + 45 x_{190} + 86 x_{191} + 53 x_{192} + 53 x_{193} + 59 x_{194} + 48 x_{195} + 44 x_{196} + 67 x_{197} + 73 x_{198} + 54 x_{199} + 44 x_{200} + 125 x_{201} + 54 x_{202} + 44 x_{203} + 65 x_{204} + 53 x_{205} + 112 x_{206} + 55 x_{207} + 48 x_{208} + 47 x_{209} + 54 x_{210} + 45 x_{211} + 45 x_{212} + 51 x_{213} + 71 x_{214} + 48 x_{215} + 52 x_{216} + 45 x_{217} + 50 x_{218} + 57 x_{219} + 42 x_{220} + 69 x_{221} + 44 x_{222} + 44 x_{223} + 75 x_{224} + 55 x_{225} + 44 x_{226} + 46 x_{227} + 47 x_{228} + 43 x_{229} + 50 x_{230} + 89 x_{231} + 47 x_{232} + 45 x_{233} + 44 x_{234} + 39 x_{235} + 42 x_{236} + 49 x_{237} + 69 x_{238} + 43 x_{239} + 49 x_{240} + 69 x_{241} + 49 x_{242} + 43 x_{243} + 64 x_{244} + 44 x_{245} + 103 x_{246} + 44 x_{247} + 44 x_{248} + 47 x_{249} + 42 x_{250} + 42 x_{251} + 40 x_{252} + 69 x_{253} + 39 x_{254} + 39 x_{255} + 51 x_{256} + 44 x_{257} + 53 x_{258} + 39 x_{259} + 48 x_{260} + 54 x_{261} + 42 x_{262} + 67 x_{263} + 44 x_{264} + 47 x_{265} + 45 x_{266} + 42 x_{267} + 53 x_{268} + 45 x_{269} + 59 x_{270} + 54 x_{271} + 56 x_{272} + 43 x_{273} + 52 x_{274} + 45 x_{275} + 53 x_{276} + 43 x_{277} + 54 x_{278} + 58 x_{279} + 49 x_{280} + 54 x_{281} + 48 x_{282} + 57 x_{283} + 47 x_{284} + 45 x_{285} + 53 x_{286} + 45 x_{287} + 43 x_{288} + 50 x_{289} + 56 x_{290} + 54 x_{291} + 42 x_{292} + 52 x_{293} + 49 x_{294} + 72 x_{295} + 54 x_{296} + 40 x_{297} + 42 x_{298} + 49 x_{299} + 47 x_{300} + 55 x_{301} + 79 x_{302} + 47 x_{303} + 45 x_{304} + 40 x_{305} + 50 x_{306} + 45 x_{307} + 70 x_{308} + 52 x_{309} + 49 x_{310} + 45 x_{311} + 121 x_{312} + 40 x_{313} + 39 x_{314} + 51 x_{315} + 49 x_{316} + 44 x_{317} + 45 x_{318} + 45 x_{319} + 37 x_{320} + 44 x_{321} + 44 x_{322} + 43 x_{323} + 54 x_{324} + 43 x_{325} + 54 x_{326} + 48 x_{327} + 46 x_{328} + 59 x_{329} + 63 x_{330} + 48 x_{331} + 44 x_{332} + 44 x_{333} + 50 x_{334} + 59 x_{335} + 45 x_{336} + 52 x_{337} + 44 x_{338} + 50 x_{339} + 43 x_{340} + 44 x_{341} + 50 x_{342} + 43 x_{343} + 43 x_{344} + 44 x_{345} + 41 x_{346} + 54 x_{347} + 49 x_{348} + 56 x_{349} + 52 x_{350} + 45 x_{351} + 40 x_{352} + 50 x_{353} + 57 x_{354} + 53 x_{355} + 94 x_{356} + 39 x_{357} + 43 x_{358} + 44 x_{359} + 38 x_{360} + 44 x_{361} + 71 x_{362} + 42 x_{363} + 77 x_{364} + 52 x_{365} + 49 x_{366} + 51 x_{367} + 45 x_{368} + 49 x_{369} + 45 x_{370} + 49 x_{371} + 47 x_{372} + 53 x_{373} + 45 x_{374} + 44 x_{375} + 40 x_{376} + 45 x_{377} + 43 x_{378} + 45 x_{379} + 55 x_{380} + 46 x_{381} + 39 x_{382} + 45 x_{383} + 53 x_{384} + 73 x_{385} + 40 x_{386} + 55 x_{387} + 50 x_{388} + 52 x_{389} + 54 x_{390} + 44 x_{391} + 131 x_{392} + 45 x_{393} + 45 x_{394} + 45 x_{395} + 50 x_{396} + 52 x_{397} + 43 x_{398} + 49 x_{399} + 50 x_{400} + 43 x_{401} + 47 x_{402} + 45 x_{403} + 43 x_{404} + 45 x_{405} + 59 x_{406} + 47 x_{407} + 50 x_{408} + 43 x_{409} + 42 x_{410} + 62 x_{411} + 38 x_{412} + 43 x_{413} + 53 x_{414} + 69 x_{415} + 43 x_{416} + 48 x_{417} + 43 x_{418} + 53 x_{419} + 44 x_{420} + 65 x_{421} + 75 x_{422} + 49 x_{423} + 45 x_{424} + 45 x_{425} + 59 x_{426} + 55 x_{427} + 42 x_{428} + 56 x_{429} + 43 x_{430} + 77 x_{431} + 50 x_{432} + 39 x_{433} + 70 x_{434} + 45 x_{435} + 74 x_{436} + 62 x_{437} + 53 x_{438} + 39 x_{439} + 79 x_{440} + 55 x_{441} + 42 x_{442} + 48 x_{443} + 96 x_{444} + 48 x_{445} + 45 x_{446} + 47 x_{447} + 105 x_{448} + 63 x_{449} + 41 x_{450} + 75 x_{451} + 39 x_{452} + 65 x_{453} + 50 x_{454} + 44 x_{455} + 52 x_{456} + 76 x_{457} + 45 x_{458} + 86 x_{459} + 41 x_{460} + 45 x_{461} + 45 x_{462} + 87 x_{463} + 43 x_{464} + 55 x_{465} + 63 x_{466} + 48 x_{467} + 48 x_{468} + 114 x_{469} + 52 x_{470} + 54 x_{471} + 50 x_{472} + 46 x_{473} + 51 x_{474} + 44 x_{475} + 44 x_{476} + 52 x_{477} + 62 x_{478} + 40 x_{479} + 118 x_{480} + 44 x_{481} + 46 x_{482} + 52 x_{483} + 47 x_{484} + 59 x_{485} + 45 x_{486} + 54 x_{487} + 42 x_{488} + 49 x_{489} + 43 x_{490} + 49 x_{491} + 55 x_{492} + 50 x_{493} + 49 x_{494} + 40 x_{495} + 54 x_{496} + 53 x_{497} + 48 x_{498} + 59 x_{499} + 45 x_{500} + 58 x_{501} + 49 x_{502} + 51 x_{503} + 65 x_{504} + 57 x_{505} + 45 x_{506} + 51 x_{507} + 45 x_{508} + 61 x_{509} + 58 x_{510} + 53 x_{511} + 56 x_{512} + 50 x_{513} + 45 x_{514} + 85 x_{515} + 53 x_{516} + 42 x_{517} + 50 x_{518} + 53 x_{519} + 48 x_{520} + 48 x_{521} + 39 x_{522} + 57 x_{523} + 84 x_{524} + 47 x_{525} + 54 x_{526} + 48 x_{527} + 45 x_{528} + 50 x_{529} + 46 x_{530} + 48 x_{531} + 68 x_{532} + 49 x_{533} + 47 x_{534} + 45 x_{535} + 43 x_{536} + 54 x_{537} + 48 x_{538} + 69 x_{539} + 47 x_{540} + 43 x_{541} + 45 x_{542} + 45 x_{543} + 43 x_{544} + 63 x_{545} + 49 x_{546} + 39 x_{547} + 59 x_{548} + 39 x_{549} + 49 x_{550} + 44 x_{551} + 57 x_{552} + 64 x_{553} + 44 x_{554} + 44 x_{555} + 49 x_{556} \\leq 1000.0 $$"
      ],
      "text/plain": [
       "53 x[1] + 54 x[2] + 44 x[3] + 51 x[4] + 53 x[5] + 57 x[6] + 45 x[7] + 48 x[8] + 53 x[9] + 43 x[10] + 43 x[11] + 56 x[12] + 45 x[13] + 43 x[14] + 52 x[15] + 48 x[16] + 58 x[17] + 43 x[18] + 49 x[19] + 58 x[20] + 81 x[21] + 51 x[22] + 55 x[23] + 61 x[24] + 43 x[25] + 67 x[26] + 47 x[27] + 45 x[28] + 54 x[29] + 46 x[30] + 50 x[31] + 39 x[32] + 39 x[33] + 73 x[34] + 50 x[35] + 52 x[36] + 49 x[37] + 49 x[38] + 40 x[39] + 48 x[40] + 47 x[41] + 76 x[42] + 61 x[43] + 56 x[44] + 53 x[45] + 44 x[46] + 52 x[47] + 48 x[48] + 52 x[49] + 47 x[50] + 40 x[51] + 44 x[52] + 60 x[53] + 45 x[54] + 57 x[55] + 45 x[56] + 39 x[57] + 62 x[58] + 40 x[59] + 40 x[60] + 45 x[61] + 45 x[62] + 42 x[63] + 44 x[64] + 47 x[65] + 39 x[66] + 46 x[67] + 46 x[68] + 45 x[69] + 45 x[70] + 56 x[71] + 52 x[72] + 55 x[73] + 40 x[74] + 70 x[75] + 45 x[76] + 57 x[77] + 43 x[78] + 45 x[79] + 39 x[80] + 48 x[81] + 39 x[82] + 116 x[83] + 57 x[84] + 52 x[85] + 67 x[86] + 53 x[87] + 71 x[88] + 42 x[89] + 43 x[90] + 45 x[91] + 39 x[92] + 44 x[93] + 65 x[94] + 45 x[95] + 44 x[96] + 63 x[97] + 59 x[98] + 43 x[99] + 40 x[100] + 50 x[101] + 79 x[102] + 44 x[103] + 48 x[104] + 44 x[105] + 45 x[106] + 47 x[107] + 45 x[108] + 60 x[109] + 49 x[110] + 42 x[111] + 49 x[112] + 48 x[113] + 45 x[114] + 50 x[115] + 42 x[116] + 56 x[117] + 44 x[118] + 44 x[119] + 47 x[120] + 45 x[121] + 40 x[122] + 40 x[123] + 55 x[124] + 60 x[125] + 45 x[126] + 77 x[127] + 42 x[128] + 40 x[129] + 60 x[130] + 43 x[131] + 44 x[132] + 50 x[133] + 42 x[134] + 45 x[135] + 47 x[136] + 50 x[137] + 54 x[138] + 49 x[139] + 45 x[140] + 44 x[141] + 83 x[142] + 48 x[143] + 45 x[144] + 77 x[145] + 44 x[146] + 57 x[147] + 43 x[148] + 52 x[149] + 55 x[150] + 59 x[151] + 62 x[152] + 84 x[153] + 61 x[154] + 57 x[155] + 40 x[156] + 45 x[157] + 43 x[158] + 57 x[159] + 61 x[160] + 55 x[161] + 58 x[162] + 59 x[163] + 49 x[164] + 47 x[165] + 60 x[166] + 41 x[167] + 45 x[168] + 44 x[169] + 49 x[170] + 42 x[171] + 41 x[172] + 54 x[173] + 56 x[174] + 43 x[175] + 47 x[176] + 42 x[177] + 67 x[178] + 50 x[179] + 47 x[180] + 45 x[181] + 43 x[182] + 56 x[183] + 43 x[184] + 49 x[185] + 44 x[186] + 43 x[187] + 49 x[188] + 40 x[189] + 45 x[190] + 86 x[191] + 53 x[192] + 53 x[193] + 59 x[194] + 48 x[195] + 44 x[196] + 67 x[197] + 73 x[198] + 54 x[199] + 44 x[200] + 125 x[201] + 54 x[202] + 44 x[203] + 65 x[204] + 53 x[205] + 112 x[206] + 55 x[207] + 48 x[208] + 47 x[209] + 54 x[210] + 45 x[211] + 45 x[212] + 51 x[213] + 71 x[214] + 48 x[215] + 52 x[216] + 45 x[217] + 50 x[218] + 57 x[219] + 42 x[220] + 69 x[221] + 44 x[222] + 44 x[223] + 75 x[224] + 55 x[225] + 44 x[226] + 46 x[227] + 47 x[228] + 43 x[229] + 50 x[230] + 89 x[231] + 47 x[232] + 45 x[233] + 44 x[234] + 39 x[235] + 42 x[236] + 49 x[237] + 69 x[238] + 43 x[239] + 49 x[240] + 69 x[241] + 49 x[242] + 43 x[243] + 64 x[244] + 44 x[245] + 103 x[246] + 44 x[247] + 44 x[248] + 47 x[249] + 42 x[250] + 42 x[251] + 40 x[252] + 69 x[253] + 39 x[254] + 39 x[255] + 51 x[256] + 44 x[257] + 53 x[258] + 39 x[259] + 48 x[260] + 54 x[261] + 42 x[262] + 67 x[263] + 44 x[264] + 47 x[265] + 45 x[266] + 42 x[267] + 53 x[268] + 45 x[269] + 59 x[270] + 54 x[271] + 56 x[272] + 43 x[273] + 52 x[274] + 45 x[275] + 53 x[276] + 43 x[277] + 54 x[278] + 58 x[279] + 49 x[280] + 54 x[281] + 48 x[282] + 57 x[283] + 47 x[284] + 45 x[285] + 53 x[286] + 45 x[287] + 43 x[288] + 50 x[289] + 56 x[290] + 54 x[291] + 42 x[292] + 52 x[293] + 49 x[294] + 72 x[295] + 54 x[296] + 40 x[297] + 42 x[298] + 49 x[299] + 47 x[300] + 55 x[301] + 79 x[302] + 47 x[303] + 45 x[304] + 40 x[305] + 50 x[306] + 45 x[307] + 70 x[308] + 52 x[309] + 49 x[310] + 45 x[311] + 121 x[312] + 40 x[313] + 39 x[314] + 51 x[315] + 49 x[316] + 44 x[317] + 45 x[318] + 45 x[319] + 37 x[320] + 44 x[321] + 44 x[322] + 43 x[323] + 54 x[324] + 43 x[325] + 54 x[326] + 48 x[327] + 46 x[328] + 59 x[329] + 63 x[330] + 48 x[331] + 44 x[332] + 44 x[333] + 50 x[334] + 59 x[335] + 45 x[336] + 52 x[337] + 44 x[338] + 50 x[339] + 43 x[340] + 44 x[341] + 50 x[342] + 43 x[343] + 43 x[344] + 44 x[345] + 41 x[346] + 54 x[347] + 49 x[348] + 56 x[349] + 52 x[350] + 45 x[351] + 40 x[352] + 50 x[353] + 57 x[354] + 53 x[355] + 94 x[356] + 39 x[357] + 43 x[358] + 44 x[359] + 38 x[360] + 44 x[361] + 71 x[362] + 42 x[363] + 77 x[364] + 52 x[365] + 49 x[366] + 51 x[367] + 45 x[368] + 49 x[369] + 45 x[370] + 49 x[371] + 47 x[372] + 53 x[373] + 45 x[374] + 44 x[375] + 40 x[376] + 45 x[377] + 43 x[378] + 45 x[379] + 55 x[380] + 46 x[381] + 39 x[382] + 45 x[383] + 53 x[384] + 73 x[385] + 40 x[386] + 55 x[387] + 50 x[388] + 52 x[389] + 54 x[390] + 44 x[391] + 131 x[392] + 45 x[393] + 45 x[394] + 45 x[395] + 50 x[396] + 52 x[397] + 43 x[398] + 49 x[399] + 50 x[400] + 43 x[401] + 47 x[402] + 45 x[403] + 43 x[404] + 45 x[405] + 59 x[406] + 47 x[407] + 50 x[408] + 43 x[409] + 42 x[410] + 62 x[411] + 38 x[412] + 43 x[413] + 53 x[414] + 69 x[415] + 43 x[416] + 48 x[417] + 43 x[418] + 53 x[419] + 44 x[420] + 65 x[421] + 75 x[422] + 49 x[423] + 45 x[424] + 45 x[425] + 59 x[426] + 55 x[427] + 42 x[428] + 56 x[429] + 43 x[430] + 77 x[431] + 50 x[432] + 39 x[433] + 70 x[434] + 45 x[435] + 74 x[436] + 62 x[437] + 53 x[438] + 39 x[439] + 79 x[440] + 55 x[441] + 42 x[442] + 48 x[443] + 96 x[444] + 48 x[445] + 45 x[446] + 47 x[447] + 105 x[448] + 63 x[449] + 41 x[450] + 75 x[451] + 39 x[452] + 65 x[453] + 50 x[454] + 44 x[455] + 52 x[456] + 76 x[457] + 45 x[458] + 86 x[459] + 41 x[460] + 45 x[461] + 45 x[462] + 87 x[463] + 43 x[464] + 55 x[465] + 63 x[466] + 48 x[467] + 48 x[468] + 114 x[469] + 52 x[470] + 54 x[471] + 50 x[472] + 46 x[473] + 51 x[474] + 44 x[475] + 44 x[476] + 52 x[477] + 62 x[478] + 40 x[479] + 118 x[480] + 44 x[481] + 46 x[482] + 52 x[483] + 47 x[484] + 59 x[485] + 45 x[486] + 54 x[487] + 42 x[488] + 49 x[489] + 43 x[490] + 49 x[491] + 55 x[492] + 50 x[493] + 49 x[494] + 40 x[495] + 54 x[496] + 53 x[497] + 48 x[498] + 59 x[499] + 45 x[500] + 58 x[501] + 49 x[502] + 51 x[503] + 65 x[504] + 57 x[505] + 45 x[506] + 51 x[507] + 45 x[508] + 61 x[509] + 58 x[510] + 53 x[511] + 56 x[512] + 50 x[513] + 45 x[514] + 85 x[515] + 53 x[516] + 42 x[517] + 50 x[518] + 53 x[519] + 48 x[520] + 48 x[521] + 39 x[522] + 57 x[523] + 84 x[524] + 47 x[525] + 54 x[526] + 48 x[527] + 45 x[528] + 50 x[529] + 46 x[530] + 48 x[531] + 68 x[532] + 49 x[533] + 47 x[534] + 45 x[535] + 43 x[536] + 54 x[537] + 48 x[538] + 69 x[539] + 47 x[540] + 43 x[541] + 45 x[542] + 45 x[543] + 43 x[544] + 63 x[545] + 49 x[546] + 39 x[547] + 59 x[548] + 39 x[549] + 49 x[550] + 44 x[551] + 57 x[552] + 64 x[553] + 44 x[554] + 44 x[555] + 49 x[556] <= 1000.0"
      ]
     },
     "execution_count": 23,
     "metadata": {},
     "output_type": "execute_result"
    }
   ],
   "source": [
    "@constraint(m, cost' * x .<= 1000)"
   ]
  },
  {
   "cell_type": "code",
   "execution_count": 12,
   "id": "1b0fd8d6",
   "metadata": {
    "scrolled": true
   },
   "outputs": [
    {
     "data": {
      "text/latex": [
       "$$ 5 x_{1} + 115 x_{2} + 41 x_{4} + 90 x_{5} + 57 x_{6} + 38 x_{7} + 36 x_{8} + 44 x_{9} + 25 x_{10} + 59 x_{11} + 44 x_{12} + 12 x_{15} + 32 x_{16} + 78 x_{17} + 55 x_{18} + 67 x_{19} + 42 x_{20} + 90 x_{21} + 93 x_{22} + 176 x_{24} + 58 x_{25} + 116 x_{26} + 2 x_{27} + 69 x_{30} + 14 x_{33} + 186 x_{34} + 25 x_{35} + 66 x_{36} + 18 x_{37} + 40 x_{38} + 31 x_{39} + 59 x_{40} + 100 x_{41} + 14 x_{42} + 150 x_{43} + 22 x_{44} + 92 x_{45} + 29 x_{46} + 32 x_{47} + 3 x_{48} + 63 x_{49} + 50 x_{50} + 13 x_{51} + 14 x_{52} + 160 x_{53} + 35 x_{55} + 35 x_{58} + 105 x_{61} + 105 x_{62} + 81 x_{63} + 53 x_{64} + 45 x_{65} + 48 x_{66} + 74 x_{67} + 107 x_{68} + 55 x_{71} + 3 x_{72} + 155 x_{75} + 10 x_{76} + 13 x_{77} + 49 x_{78} + 36 x_{81} + 36 x_{82} + 151 x_{83} + 9 x_{84} + 119 x_{85} + 179 x_{86} + 49 x_{87} + 75 x_{88} + 42 x_{89} + 8 x_{90} + 16 x_{91} + 10 x_{92} + 78 x_{93} + 103 x_{94} + 77 x_{95} + x_{96} + 91 x_{97} + 58 x_{98} + 21 x_{99} + 101 x_{101} + 77 x_{102} + 16 x_{104} + 14 x_{105} + 9 x_{106} + 138 x_{107} + 140 x_{109} + 50 x_{111} + 90 x_{112} + 63 x_{113} + 6 x_{114} + 40 x_{115} + 48 x_{116} + 87 x_{117} + 4 x_{118} + 92 x_{119} + 11 x_{120} + x_{121} + 55 x_{122} + 25 x_{123} + 70 x_{124} + 91 x_{125} + 106 x_{127} + 7 x_{128} + 3 x_{129} + 89 x_{130} + 95 x_{132} + 132 x_{133} + 93 x_{134} + 95 x_{137} + 106 x_{138} + 77 x_{140} + 39 x_{141} + 175 x_{142} + 22 x_{143} + 64 x_{145} + 3 x_{146} + 31 x_{147} + 89 x_{148} + 7 x_{149} + 84 x_{150} + 31 x_{151} + 155 x_{152} + 34 x_{153} + 130 x_{154} + 55 x_{155} + x_{157} + 58 x_{158} + 125 x_{159} + 107 x_{160} + 129 x_{161} + 134 x_{162} + 58 x_{163} + 2 x_{164} + 132 x_{165} + 37 x_{167} + 90 x_{169} + 78 x_{170} + 18 x_{171} + 88 x_{172} + 97 x_{173} + 30 x_{174} + 11 x_{175} + 45 x_{176} + 67 x_{177} + 26 x_{178} + 2 x_{180} + 53 x_{182} + 66 x_{183} + 5 x_{184} + 35 x_{185} + 57 x_{186} + 9 x_{187} + 93 x_{188} + 120 x_{191} + 146 x_{192} + 110 x_{193} + 11 x_{194} + 60 x_{195} + 71 x_{196} + 79 x_{198} + 8 x_{200} + 192 x_{201} + 69 x_{202} + 33 x_{203} + 137 x_{204} + 12 x_{205} + 258 x_{206} + 158 x_{207} + 22 x_{209} + x_{210} + 44 x_{212} + 33 x_{213} + 124 x_{214} + 106 x_{215} + 31 x_{216} + 28 x_{217} + 81 x_{219} + 30 x_{220} + 139 x_{221} + 30 x_{222} + 48 x_{223} + 86 x_{224} + 117 x_{225} + 12 x_{226} + 62 x_{227} + 109 x_{228} + 9 x_{229} + x_{230} + 91 x_{231} + 4 x_{232} + 58 x_{233} + 47 x_{234} + 10 x_{236} + 29 x_{237} + 181 x_{238} + 54 x_{239} + 38 x_{240} + 83 x_{242} + 17 x_{243} + 159 x_{244} + 19 x_{245} + 133 x_{246} + 94 x_{247} + 11 x_{249} + 29 x_{250} + 7 x_{252} + 206 x_{253} + 2 x_{254} + 38 x_{255} + 60 x_{256} + 3 x_{257} + 61 x_{258} + x_{259} + 8 x_{260} + 86 x_{261} + 28 x_{262} + 29 x_{263} + 4 x_{264} + 124 x_{265} + 3 x_{267} + 170 x_{268} + 73 x_{269} + 83 x_{270} + 33 x_{271} + 110 x_{272} + 3 x_{273} + 70 x_{274} + 38 x_{275} + 63 x_{276} + 21 x_{277} + 39 x_{278} + 77 x_{279} + 110 x_{280} + 116 x_{282} + 106 x_{283} + 22 x_{284} + 79 x_{286} + 92 x_{288} + 87 x_{290} + 60 x_{291} + 54 x_{292} + 146 x_{293} + 96 x_{294} + 201 x_{295} + 60 x_{296} + 95 x_{298} + 62 x_{299} + 10 x_{300} + 54 x_{301} + 112 x_{302} + 39 x_{303} + 20 x_{304} + 131 x_{306} + x_{307} + 80 x_{308} + 26 x_{309} + 69 x_{310} + 19 x_{311} + 196 x_{312} + 7 x_{313} + 14 x_{314} + 41 x_{315} + 106 x_{316} + 70 x_{317} + 42 x_{320} + 20 x_{321} + 81 x_{322} + 2 x_{323} + 66 x_{324} + 85 x_{326} + 82 x_{327} + 76 x_{328} + 141 x_{329} + 37 x_{330} + 92 x_{331} + 60 x_{333} + 83 x_{334} + 87 x_{335} + 19 x_{337} + 23 x_{338} + 136 x_{339} + 55 x_{340} + 7 x_{341} + 46 x_{342} + 50 x_{343} + 22 x_{344} + 4 x_{345} + 41 x_{346} + x_{347} + 30 x_{348} + 92 x_{349} + 40 x_{350} + 123 x_{351} + 128 x_{354} + 11 x_{355} + 63 x_{356} + 19 x_{358} + 96 x_{359} + 22 x_{361} + 71 x_{362} + 62 x_{363} + 169 x_{364} + 46 x_{365} + 76 x_{366} + 61 x_{367} + 54 x_{369} + 67 x_{370} + 20 x_{371} + 101 x_{372} + 147 x_{373} + 65 x_{375} + 55 x_{378} + 106 x_{379} + 102 x_{381} + 73 x_{384} + 140 x_{385} + 59 x_{388} + 70 x_{389} + 90 x_{390} + 27 x_{391} + 265 x_{392} + 58 x_{393} + 27 x_{394} + x_{395} + 13 x_{396} + 13 x_{397} + 85 x_{398} + 79 x_{399} + 65 x_{400} + 24 x_{401} + 54 x_{402} + 55 x_{404} + x_{405} + 79 x_{406} + 29 x_{407} + 59 x_{409} + 98 x_{411} + 4 x_{412} + 52 x_{413} + 130 x_{414} + 45 x_{415} + 49 x_{416} + 94 x_{417} + 10 x_{418} + 59 x_{419} + 34 x_{420} + 131 x_{422} + 88 x_{424} + 117 x_{426} + x_{428} + 88 x_{429} + 35 x_{430} + 28 x_{431} + 70 x_{434} + 7 x_{435} + 65 x_{436} + 22 x_{437} + 7 x_{438} + 137 x_{440} + 70 x_{443} + 44 x_{444} + 109 x_{445} + 122 x_{446} + 18 x_{447} + 163 x_{448} + 145 x_{449} + 87 x_{450} + 101 x_{451} + 141 x_{453} + x_{454} + 35 x_{456} + 125 x_{457} + 108 x_{458} + 135 x_{459} + 29 x_{460} + 126 x_{462} + 62 x_{463} + 23 x_{464} + 127 x_{465} + 85 x_{466} + 38 x_{467} + 109 x_{468} + 87 x_{469} + 14 x_{470} + 52 x_{471} + 4 x_{473} + 78 x_{474} + 7 x_{475} + 56 x_{476} + 95 x_{477} + 141 x_{478} + 183 x_{480} + 20 x_{481} + 15 x_{482} + 30 x_{483} + 138 x_{485} + 68 x_{487} + 79 x_{489} + 48 x_{490} + 81 x_{492} + 104 x_{493} + 35 x_{494} + 48 x_{495} + 19 x_{496} + 61 x_{497} + 13 x_{498} + 55 x_{499} + 57 x_{501} + 80 x_{502} + 28 x_{503} + 22 x_{505} + 74 x_{506} + x_{507} + 2 x_{508} + 142 x_{509} + 12 x_{510} + 69 x_{511} + 130 x_{512} + 71 x_{513} + 90 x_{514} + 62 x_{515} + 75 x_{516} + 80 x_{517} + 10 x_{519} + 48 x_{520} + 12 x_{521} + 114 x_{523} + 208 x_{524} + 99 x_{525} + 2 x_{526} + 34 x_{527} + 109 x_{528} + 118 x_{529} + 119 x_{530} + 66 x_{531} + 183 x_{532} + 90 x_{533} + 70 x_{534} + 4 x_{535} + 17 x_{536} + x_{537} + 41 x_{538} + 150 x_{539} + 34 x_{540} + 5 x_{543} + 18 x_{544} + 17 x_{546} + 9 x_{549} + 24 x_{550} + 92 x_{552} + 120 x_{553} + 66 x_{554} + 7 x_{555} + 66 x_{556} $$"
      ],
      "text/plain": [
       "5 x[1] + 115 x[2] + 41 x[4] + 90 x[5] + 57 x[6] + 38 x[7] + 36 x[8] + 44 x[9] + 25 x[10] + 59 x[11] + 44 x[12] + 12 x[15] + 32 x[16] + 78 x[17] + 55 x[18] + 67 x[19] + 42 x[20] + 90 x[21] + 93 x[22] + 176 x[24] + 58 x[25] + 116 x[26] + 2 x[27] + 69 x[30] + 14 x[33] + 186 x[34] + 25 x[35] + 66 x[36] + 18 x[37] + 40 x[38] + 31 x[39] + 59 x[40] + 100 x[41] + 14 x[42] + 150 x[43] + 22 x[44] + 92 x[45] + 29 x[46] + 32 x[47] + 3 x[48] + 63 x[49] + 50 x[50] + 13 x[51] + 14 x[52] + 160 x[53] + 35 x[55] + 35 x[58] + 105 x[61] + 105 x[62] + 81 x[63] + 53 x[64] + 45 x[65] + 48 x[66] + 74 x[67] + 107 x[68] + 55 x[71] + 3 x[72] + 155 x[75] + 10 x[76] + 13 x[77] + 49 x[78] + 36 x[81] + 36 x[82] + 151 x[83] + 9 x[84] + 119 x[85] + 179 x[86] + 49 x[87] + 75 x[88] + 42 x[89] + 8 x[90] + 16 x[91] + 10 x[92] + 78 x[93] + 103 x[94] + 77 x[95] + x[96] + 91 x[97] + 58 x[98] + 21 x[99] + 101 x[101] + 77 x[102] + 16 x[104] + 14 x[105] + 9 x[106] + 138 x[107] + 140 x[109] + 50 x[111] + 90 x[112] + 63 x[113] + 6 x[114] + 40 x[115] + 48 x[116] + 87 x[117] + 4 x[118] + 92 x[119] + 11 x[120] + x[121] + 55 x[122] + 25 x[123] + 70 x[124] + 91 x[125] + 106 x[127] + 7 x[128] + 3 x[129] + 89 x[130] + 95 x[132] + 132 x[133] + 93 x[134] + 95 x[137] + 106 x[138] + 77 x[140] + 39 x[141] + 175 x[142] + 22 x[143] + 64 x[145] + 3 x[146] + 31 x[147] + 89 x[148] + 7 x[149] + 84 x[150] + 31 x[151] + 155 x[152] + 34 x[153] + 130 x[154] + 55 x[155] + x[157] + 58 x[158] + 125 x[159] + 107 x[160] + 129 x[161] + 134 x[162] + 58 x[163] + 2 x[164] + 132 x[165] + 37 x[167] + 90 x[169] + 78 x[170] + 18 x[171] + 88 x[172] + 97 x[173] + 30 x[174] + 11 x[175] + 45 x[176] + 67 x[177] + 26 x[178] + 2 x[180] + 53 x[182] + 66 x[183] + 5 x[184] + 35 x[185] + 57 x[186] + 9 x[187] + 93 x[188] + 120 x[191] + 146 x[192] + 110 x[193] + 11 x[194] + 60 x[195] + 71 x[196] + 79 x[198] + 8 x[200] + 192 x[201] + 69 x[202] + 33 x[203] + 137 x[204] + 12 x[205] + 258 x[206] + 158 x[207] + 22 x[209] + x[210] + 44 x[212] + 33 x[213] + 124 x[214] + 106 x[215] + 31 x[216] + 28 x[217] + 81 x[219] + 30 x[220] + 139 x[221] + 30 x[222] + 48 x[223] + 86 x[224] + 117 x[225] + 12 x[226] + 62 x[227] + 109 x[228] + 9 x[229] + x[230] + 91 x[231] + 4 x[232] + 58 x[233] + 47 x[234] + 10 x[236] + 29 x[237] + 181 x[238] + 54 x[239] + 38 x[240] + 83 x[242] + 17 x[243] + 159 x[244] + 19 x[245] + 133 x[246] + 94 x[247] + 11 x[249] + 29 x[250] + 7 x[252] + 206 x[253] + 2 x[254] + 38 x[255] + 60 x[256] + 3 x[257] + 61 x[258] + x[259] + 8 x[260] + 86 x[261] + 28 x[262] + 29 x[263] + 4 x[264] + 124 x[265] + 3 x[267] + 170 x[268] + 73 x[269] + 83 x[270] + 33 x[271] + 110 x[272] + 3 x[273] + 70 x[274] + 38 x[275] + 63 x[276] + 21 x[277] + 39 x[278] + 77 x[279] + 110 x[280] + 116 x[282] + 106 x[283] + 22 x[284] + 79 x[286] + 92 x[288] + 87 x[290] + 60 x[291] + 54 x[292] + 146 x[293] + 96 x[294] + 201 x[295] + 60 x[296] + 95 x[298] + 62 x[299] + 10 x[300] + 54 x[301] + 112 x[302] + 39 x[303] + 20 x[304] + 131 x[306] + x[307] + 80 x[308] + 26 x[309] + 69 x[310] + 19 x[311] + 196 x[312] + 7 x[313] + 14 x[314] + 41 x[315] + 106 x[316] + 70 x[317] + 42 x[320] + 20 x[321] + 81 x[322] + 2 x[323] + 66 x[324] + 85 x[326] + 82 x[327] + 76 x[328] + 141 x[329] + 37 x[330] + 92 x[331] + 60 x[333] + 83 x[334] + 87 x[335] + 19 x[337] + 23 x[338] + 136 x[339] + 55 x[340] + 7 x[341] + 46 x[342] + 50 x[343] + 22 x[344] + 4 x[345] + 41 x[346] + x[347] + 30 x[348] + 92 x[349] + 40 x[350] + 123 x[351] + 128 x[354] + 11 x[355] + 63 x[356] + 19 x[358] + 96 x[359] + 22 x[361] + 71 x[362] + 62 x[363] + 169 x[364] + 46 x[365] + 76 x[366] + 61 x[367] + 54 x[369] + 67 x[370] + 20 x[371] + 101 x[372] + 147 x[373] + 65 x[375] + 55 x[378] + 106 x[379] + 102 x[381] + 73 x[384] + 140 x[385] + 59 x[388] + 70 x[389] + 90 x[390] + 27 x[391] + 265 x[392] + 58 x[393] + 27 x[394] + x[395] + 13 x[396] + 13 x[397] + 85 x[398] + 79 x[399] + 65 x[400] + 24 x[401] + 54 x[402] + 55 x[404] + x[405] + 79 x[406] + 29 x[407] + 59 x[409] + 98 x[411] + 4 x[412] + 52 x[413] + 130 x[414] + 45 x[415] + 49 x[416] + 94 x[417] + 10 x[418] + 59 x[419] + 34 x[420] + 131 x[422] + 88 x[424] + 117 x[426] + x[428] + 88 x[429] + 35 x[430] + 28 x[431] + 70 x[434] + 7 x[435] + 65 x[436] + 22 x[437] + 7 x[438] + 137 x[440] + 70 x[443] + 44 x[444] + 109 x[445] + 122 x[446] + 18 x[447] + 163 x[448] + 145 x[449] + 87 x[450] + 101 x[451] + 141 x[453] + x[454] + 35 x[456] + 125 x[457] + 108 x[458] + 135 x[459] + 29 x[460] + 126 x[462] + 62 x[463] + 23 x[464] + 127 x[465] + 85 x[466] + 38 x[467] + 109 x[468] + 87 x[469] + 14 x[470] + 52 x[471] + 4 x[473] + 78 x[474] + 7 x[475] + 56 x[476] + 95 x[477] + 141 x[478] + 183 x[480] + 20 x[481] + 15 x[482] + 30 x[483] + 138 x[485] + 68 x[487] + 79 x[489] + 48 x[490] + 81 x[492] + 104 x[493] + 35 x[494] + 48 x[495] + 19 x[496] + 61 x[497] + 13 x[498] + 55 x[499] + 57 x[501] + 80 x[502] + 28 x[503] + 22 x[505] + 74 x[506] + x[507] + 2 x[508] + 142 x[509] + 12 x[510] + 69 x[511] + 130 x[512] + 71 x[513] + 90 x[514] + 62 x[515] + 75 x[516] + 80 x[517] + 10 x[519] + 48 x[520] + 12 x[521] + 114 x[523] + 208 x[524] + 99 x[525] + 2 x[526] + 34 x[527] + 109 x[528] + 118 x[529] + 119 x[530] + 66 x[531] + 183 x[532] + 90 x[533] + 70 x[534] + 4 x[535] + 17 x[536] + x[537] + 41 x[538] + 150 x[539] + 34 x[540] + 5 x[543] + 18 x[544] + 17 x[546] + 9 x[549] + 24 x[550] + 92 x[552] + 120 x[553] + 66 x[554] + 7 x[555] + 66 x[556]"
      ]
     },
     "execution_count": 12,
     "metadata": {},
     "output_type": "execute_result"
    }
   ],
   "source": [
    "@objective(m, Max, total_points' * x)"
   ]
  },
  {
   "cell_type": "code",
   "execution_count": 24,
   "id": "d3792a23",
   "metadata": {},
   "outputs": [
    {
     "data": {
      "text/latex": [
       "$$ \\begin{aligned}\n",
       "\\max\\quad & 5 x_{1} + 115 x_{2} + 41 x_{4} + 90 x_{5} + 57 x_{6} + 38 x_{7} + 36 x_{8} + 44 x_{9} + 25 x_{10} + 59 x_{11} + 44 x_{12} + 12 x_{15} + 32 x_{16} + 78 x_{17} + 55 x_{18} + 67 x_{19} + 42 x_{20} + 90 x_{21} + 93 x_{22} + 176 x_{24} + 58 x_{25} + 116 x_{26} + 2 x_{27} + 69 x_{30} + 14 x_{33} + 186 x_{34} + 25 x_{35} + 66 x_{36} + 18 x_{37} + 40 x_{38} + 31 x_{39} + 59 x_{40} + 100 x_{41} + 14 x_{42} + 150 x_{43} + 22 x_{44} + 92 x_{45} + 29 x_{46} + 32 x_{47} + 3 x_{48} + 63 x_{49} + 50 x_{50} + 13 x_{51} + 14 x_{52} + 160 x_{53} + 35 x_{55} + 35 x_{58} + 105 x_{61} + 105 x_{62} + 81 x_{63} + 53 x_{64} + 45 x_{65} + 48 x_{66} + 74 x_{67} + 107 x_{68} + 55 x_{71} + 3 x_{72} + 155 x_{75} + 10 x_{76} + 13 x_{77} + 49 x_{78} + 36 x_{81} + 36 x_{82} + 151 x_{83} + 9 x_{84} + 119 x_{85} + 179 x_{86} + 49 x_{87} + 75 x_{88} + 42 x_{89} + 8 x_{90} + 16 x_{91} + 10 x_{92} + 78 x_{93} + 103 x_{94} + 77 x_{95} + x_{96} + 91 x_{97} + 58 x_{98} + 21 x_{99} + 101 x_{101} + 77 x_{102} + 16 x_{104} + 14 x_{105} + 9 x_{106} + 138 x_{107} + 140 x_{109} + 50 x_{111} + 90 x_{112} + 63 x_{113} + 6 x_{114} + 40 x_{115} + 48 x_{116} + 87 x_{117} + 4 x_{118} + 92 x_{119} + 11 x_{120} + x_{121} + 55 x_{122} + 25 x_{123} + 70 x_{124} + 91 x_{125} + 106 x_{127} + 7 x_{128} + 3 x_{129} + 89 x_{130} + 95 x_{132} + 132 x_{133} + 93 x_{134} + 95 x_{137} + 106 x_{138} + 77 x_{140} + 39 x_{141} + 175 x_{142} + 22 x_{143} + 64 x_{145} + 3 x_{146} + 31 x_{147} + 89 x_{148} + 7 x_{149} + 84 x_{150} + 31 x_{151} + 155 x_{152} + 34 x_{153} + 130 x_{154} + 55 x_{155} + x_{157} + 58 x_{158} + 125 x_{159} + 107 x_{160} + 129 x_{161} + 134 x_{162} + 58 x_{163} + 2 x_{164} + 132 x_{165} + 37 x_{167} + 90 x_{169} + 78 x_{170} + 18 x_{171} + 88 x_{172} + 97 x_{173} + 30 x_{174} + 11 x_{175} + 45 x_{176} + 67 x_{177} + 26 x_{178} + 2 x_{180} + 53 x_{182} + 66 x_{183} + 5 x_{184} + 35 x_{185} + 57 x_{186} + 9 x_{187} + 93 x_{188} + 120 x_{191} + 146 x_{192} + 110 x_{193} + 11 x_{194} + 60 x_{195} + 71 x_{196} + 79 x_{198} + 8 x_{200} + 192 x_{201} + 69 x_{202} + 33 x_{203} + 137 x_{204} + 12 x_{205} + 258 x_{206} + 158 x_{207} + 22 x_{209} + x_{210} + 44 x_{212} + 33 x_{213} + 124 x_{214} + 106 x_{215} + 31 x_{216} + 28 x_{217} + 81 x_{219} + 30 x_{220} + 139 x_{221} + 30 x_{222} + 48 x_{223} + 86 x_{224} + 117 x_{225} + 12 x_{226} + 62 x_{227} + 109 x_{228} + 9 x_{229} + x_{230} + 91 x_{231} + 4 x_{232} + 58 x_{233} + 47 x_{234} + 10 x_{236} + 29 x_{237} + 181 x_{238} + 54 x_{239} + 38 x_{240} + 83 x_{242} + 17 x_{243} + 159 x_{244} + 19 x_{245} + 133 x_{246} + 94 x_{247} + 11 x_{249} + 29 x_{250} + 7 x_{252} + 206 x_{253} + 2 x_{254} + 38 x_{255} + 60 x_{256} + 3 x_{257} + 61 x_{258} + x_{259} + 8 x_{260} + 86 x_{261} + 28 x_{262} + 29 x_{263} + 4 x_{264} + 124 x_{265} + 3 x_{267} + 170 x_{268} + 73 x_{269} + 83 x_{270} + 33 x_{271} + 110 x_{272} + 3 x_{273} + 70 x_{274} + 38 x_{275} + 63 x_{276} + 21 x_{277} + 39 x_{278} + 77 x_{279} + 110 x_{280} + 116 x_{282} + 106 x_{283} + 22 x_{284} + 79 x_{286} + 92 x_{288} + 87 x_{290} + 60 x_{291} + 54 x_{292} + 146 x_{293} + 96 x_{294} + 201 x_{295} + 60 x_{296} + 95 x_{298} + 62 x_{299} + 10 x_{300} + 54 x_{301} + 112 x_{302} + 39 x_{303} + 20 x_{304} + 131 x_{306} + x_{307} + 80 x_{308} + 26 x_{309} + 69 x_{310} + 19 x_{311} + 196 x_{312} + 7 x_{313} + 14 x_{314} + 41 x_{315} + 106 x_{316} + 70 x_{317} + 42 x_{320} + 20 x_{321} + 81 x_{322} + 2 x_{323} + 66 x_{324} + 85 x_{326} + 82 x_{327} + 76 x_{328} + 141 x_{329} + 37 x_{330} + 92 x_{331} + 60 x_{333} + 83 x_{334} + 87 x_{335} + 19 x_{337} + 23 x_{338} + 136 x_{339} + 55 x_{340} + 7 x_{341} + 46 x_{342} + 50 x_{343} + 22 x_{344} + 4 x_{345} + 41 x_{346} + x_{347} + 30 x_{348} + 92 x_{349} + 40 x_{350} + 123 x_{351} + 128 x_{354} + 11 x_{355} + 63 x_{356} + 19 x_{358} + 96 x_{359} + 22 x_{361} + 71 x_{362} + 62 x_{363} + 169 x_{364} + 46 x_{365} + 76 x_{366} + 61 x_{367} + 54 x_{369} + 67 x_{370} + 20 x_{371} + 101 x_{372} + 147 x_{373} + 65 x_{375} + 55 x_{378} + 106 x_{379} + 102 x_{381} + 73 x_{384} + 140 x_{385} + 59 x_{388} + 70 x_{389} + 90 x_{390} + 27 x_{391} + 265 x_{392} + 58 x_{393} + 27 x_{394} + x_{395} + 13 x_{396} + 13 x_{397} + 85 x_{398} + 79 x_{399} + 65 x_{400} + 24 x_{401} + 54 x_{402} + 55 x_{404} + x_{405} + 79 x_{406} + 29 x_{407} + 59 x_{409} + 98 x_{411} + 4 x_{412} + 52 x_{413} + 130 x_{414} + 45 x_{415} + 49 x_{416} + 94 x_{417} + 10 x_{418} + 59 x_{419} + 34 x_{420} + 131 x_{422} + 88 x_{424} + 117 x_{426} + x_{428} + 88 x_{429} + 35 x_{430} + 28 x_{431} + 70 x_{434} + 7 x_{435} + 65 x_{436} + 22 x_{437} + 7 x_{438} + 137 x_{440} + 70 x_{443} + 44 x_{444} + 109 x_{445} + 122 x_{446} + 18 x_{447} + 163 x_{448} + 145 x_{449} + 87 x_{450} + 101 x_{451} + 141 x_{453} + x_{454} + 35 x_{456} + 125 x_{457} + 108 x_{458} + 135 x_{459} + 29 x_{460} + 126 x_{462} + 62 x_{463} + 23 x_{464} + 127 x_{465} + 85 x_{466} + 38 x_{467} + 109 x_{468} + 87 x_{469} + 14 x_{470} + 52 x_{471} + 4 x_{473} + 78 x_{474} + 7 x_{475} + 56 x_{476} + 95 x_{477} + 141 x_{478} + 183 x_{480} + 20 x_{481} + 15 x_{482} + 30 x_{483} + 138 x_{485} + 68 x_{487} + 79 x_{489} + 48 x_{490} + 81 x_{492} + 104 x_{493} + 35 x_{494} + 48 x_{495} + 19 x_{496} + 61 x_{497} + 13 x_{498} + 55 x_{499} + 57 x_{501} + 80 x_{502} + 28 x_{503} + 22 x_{505} + 74 x_{506} + x_{507} + 2 x_{508} + 142 x_{509} + 12 x_{510} + 69 x_{511} + 130 x_{512} + 71 x_{513} + 90 x_{514} + 62 x_{515} + 75 x_{516} + 80 x_{517} + 10 x_{519} + 48 x_{520} + 12 x_{521} + 114 x_{523} + 208 x_{524} + 99 x_{525} + 2 x_{526} + 34 x_{527} + 109 x_{528} + 118 x_{529} + 119 x_{530} + 66 x_{531} + 183 x_{532} + 90 x_{533} + 70 x_{534} + 4 x_{535} + 17 x_{536} + x_{537} + 41 x_{538} + 150 x_{539} + 34 x_{540} + 5 x_{543} + 18 x_{544} + 17 x_{546} + 9 x_{549} + 24 x_{550} + 92 x_{552} + 120 x_{553} + 66 x_{554} + 7 x_{555} + 66 x_{556}\\\\\n",
       "\\text{Subject to} \\quad & x_{14} + x_{18} + x_{24} + x_{27} + x_{32} + x_{39} + x_{51} + x_{56} + x_{63} + x_{76} + x_{90} + x_{123} + x_{129} + x_{131} + x_{132} + x_{133} + x_{136} + x_{152} + x_{154} + x_{156} + x_{161} + x_{181} + x_{186} + x_{187} + x_{207} + x_{215} + x_{222} + x_{254} + x_{259} + x_{266} + x_{273} + x_{282} + x_{293} + x_{297} + x_{304} + x_{305} + x_{306} + x_{311} + x_{318} + x_{323} + x_{339} + x_{357} + x_{359} + x_{368} + x_{382} + x_{414} + x_{433} + x_{442} + x_{462} + x_{472} + x_{479} + x_{514} + x_{522} + x_{530} + x_{535} + x_{541} + x_{555} = 1.0\\\\\n",
       " & x_{1} + x_{2} + x_{3} + x_{4} + x_{5} + x_{6} + x_{7} + x_{8} + x_{9} + x_{10} + x_{11} + x_{12} + x_{13} + x_{14} + x_{15} + x_{16} + x_{17} + x_{18} + x_{19} + x_{20} + x_{21} + x_{22} + x_{23} + x_{24} + x_{25} + x_{26} + x_{27} + x_{28} + x_{29} + x_{30} + x_{31} + x_{32} + x_{33} + x_{34} + x_{35} + x_{36} + x_{37} + x_{38} + x_{39} + x_{40} + x_{41} + x_{42} + x_{43} + x_{44} + x_{45} + x_{46} + x_{47} + x_{48} + x_{49} + x_{50} + x_{51} + x_{52} + x_{53} + x_{54} + x_{55} + x_{56} + x_{57} + x_{58} + x_{59} + x_{60} + x_{61} + x_{62} + x_{63} + x_{64} + x_{65} + x_{66} + x_{67} + x_{68} + x_{69} + x_{70} + x_{71} + x_{72} + x_{73} + x_{74} + x_{75} + x_{76} + x_{77} + x_{78} + x_{79} + x_{80} + x_{81} + x_{82} + x_{83} + x_{84} + x_{85} + x_{86} + x_{87} + x_{88} + x_{89} + x_{90} + x_{91} + x_{92} + x_{93} + x_{94} + x_{95} + x_{96} + x_{97} + x_{98} + x_{99} + x_{100} + x_{101} + x_{102} + x_{103} + x_{104} + x_{105} + x_{106} + x_{107} + x_{108} + x_{109} + x_{110} + x_{111} + x_{112} + x_{113} + x_{114} + x_{115} + x_{116} + x_{117} + x_{118} + x_{119} + x_{120} + x_{121} + x_{122} + x_{123} + x_{124} + x_{125} + x_{126} + x_{127} + x_{128} + x_{129} + x_{130} + x_{131} + x_{132} + x_{133} + x_{134} + x_{135} + x_{136} + x_{137} + x_{138} + x_{139} + x_{140} + x_{141} + x_{142} + x_{143} + x_{144} + x_{145} + x_{146} + x_{147} + x_{148} + x_{149} + x_{150} + x_{151} + x_{152} + x_{153} + x_{154} + x_{155} + x_{156} + x_{157} + x_{158} + x_{159} + x_{160} + x_{161} + x_{162} + x_{163} + x_{164} + x_{165} + x_{166} + x_{167} + x_{168} + x_{169} + x_{170} + x_{171} + x_{172} + x_{173} + x_{174} + x_{175} + x_{176} + x_{177} + x_{178} + x_{179} + x_{180} + x_{181} + x_{182} + x_{183} + x_{184} + x_{185} + x_{186} + x_{187} + x_{188} + x_{189} + x_{190} + x_{191} + x_{192} + x_{193} + x_{194} + x_{195} + x_{196} + x_{197} + x_{198} + x_{199} + x_{200} + x_{201} + x_{202} + x_{203} + x_{204} + x_{205} + x_{206} + x_{207} + x_{208} + x_{209} + x_{210} + x_{211} + x_{212} + x_{213} + x_{214} + x_{215} + x_{216} + x_{217} + x_{218} + x_{219} + x_{220} + x_{221} + x_{222} + x_{223} + x_{224} + x_{225} + x_{226} + x_{227} + x_{228} + x_{229} + x_{230} + x_{231} + x_{232} + x_{233} + x_{234} + x_{235} + x_{236} + x_{237} + x_{238} + x_{239} + x_{240} + x_{241} + x_{242} + x_{243} + x_{244} + x_{245} + x_{246} + x_{247} + x_{248} + x_{249} + x_{250} + x_{251} + x_{252} + x_{253} + x_{254} + x_{255} + x_{256} + x_{257} + x_{258} + x_{259} + x_{260} + x_{261} + x_{262} + x_{263} + x_{264} + x_{265} + x_{266} + x_{267} + x_{268} + x_{269} + x_{270} + x_{271} + x_{272} + x_{273} + x_{274} + x_{275} + x_{276} + x_{277} + x_{278} + x_{279} + x_{280} + x_{281} + x_{282} + x_{283} + x_{284} + x_{285} + x_{286} + x_{287} + x_{288} + x_{289} + x_{290} + x_{291} + x_{292} + x_{293} + x_{294} + x_{295} + x_{296} + x_{297} + x_{298} + x_{299} + x_{300} + x_{301} + x_{302} + x_{303} + x_{304} + x_{305} + x_{306} + x_{307} + x_{308} + x_{309} + x_{310} + x_{311} + x_{312} + x_{313} + x_{314} + x_{315} + x_{316} + x_{317} + x_{318} + x_{319} + x_{320} + x_{321} + x_{322} + x_{323} + x_{324} + x_{325} + x_{326} + x_{327} + x_{328} + x_{329} + x_{330} + x_{331} + x_{332} + x_{333} + x_{334} + x_{335} + x_{336} + x_{337} + x_{338} + x_{339} + x_{340} + x_{341} + x_{342} + x_{343} + x_{344} + x_{345} + x_{346} + x_{347} + x_{348} + x_{349} + x_{350} + x_{351} + x_{352} + x_{353} + x_{354} + x_{355} + x_{356} + x_{357} + x_{358} + x_{359} + x_{360} + x_{361} + x_{362} + x_{363} + x_{364} + x_{365} + x_{366} + x_{367} + x_{368} + x_{369} + x_{370} + x_{371} + x_{372} + x_{373} + x_{374} + x_{375} + x_{376} + x_{377} + x_{378} + x_{379} + x_{380} + x_{381} + x_{382} + x_{383} + x_{384} + x_{385} + x_{386} + x_{387} + x_{388} + x_{389} + x_{390} + x_{391} + x_{392} + x_{393} + x_{394} + x_{395} + x_{396} + x_{397} + x_{398} + x_{399} + x_{400} + x_{401} + x_{402} + x_{403} + x_{404} + x_{405} + x_{406} + x_{407} + x_{408} + x_{409} + x_{410} + x_{411} + x_{412} + x_{413} + x_{414} + x_{415} + x_{416} + x_{417} + x_{418} + x_{419} + x_{420} + x_{421} + x_{422} + x_{423} + x_{424} + x_{425} + x_{426} + x_{427} + x_{428} + x_{429} + x_{430} + x_{431} + x_{432} + x_{433} + x_{434} + x_{435} + x_{436} + x_{437} + x_{438} + x_{439} + x_{440} + x_{441} + x_{442} + x_{443} + x_{444} + x_{445} + x_{446} + x_{447} + x_{448} + x_{449} + x_{450} + x_{451} + x_{452} + x_{453} + x_{454} + x_{455} + x_{456} + x_{457} + x_{458} + x_{459} + x_{460} + x_{461} + x_{462} + x_{463} + x_{464} + x_{465} + x_{466} + x_{467} + x_{468} + x_{469} + x_{470} + x_{471} + x_{472} + x_{473} + x_{474} + x_{475} + x_{476} + x_{477} + x_{478} + x_{479} + x_{480} + x_{481} + x_{482} + x_{483} + x_{484} + x_{485} + x_{486} + x_{487} + x_{488} + x_{489} + x_{490} + x_{491} + x_{492} + x_{493} + x_{494} + x_{495} + x_{496} + x_{497} + x_{498} + x_{499} + x_{500} + x_{501} + x_{502} + x_{503} + x_{504} + x_{505} + x_{506} + x_{507} + x_{508} + x_{509} + x_{510} + x_{511} + x_{512} + x_{513} + x_{514} + x_{515} + x_{516} + x_{517} + x_{518} + x_{519} + x_{520} + x_{521} + x_{522} + x_{523} + x_{524} + x_{525} + x_{526} + x_{527} + x_{528} + x_{529} + x_{530} + x_{531} + x_{532} + x_{533} + x_{534} + x_{535} + x_{536} + x_{537} + x_{538} + x_{539} + x_{540} + x_{541} + x_{542} + x_{543} + x_{544} + x_{545} + x_{546} + x_{547} + x_{548} + x_{549} + x_{550} + x_{551} + x_{552} + x_{553} + x_{554} + x_{555} + x_{556} = 11.0\\\\\n",
       " & x_{2} + x_{4} + x_{10} + x_{11} + x_{19} + x_{30} + x_{33} + x_{34} + x_{38} + x_{43} + x_{46} + x_{50} + x_{52} + x_{53} + x_{57} + x_{59} + x_{60} + x_{61} + x_{62} + x_{64} + x_{65} + x_{66} + x_{67} + x_{68} + x_{69} + x_{71} + x_{72} + x_{74} + x_{79} + x_{80} + x_{82} + x_{89} + x_{92} + x_{93} + x_{95} + x_{99} + x_{100} + x_{103} + x_{105} + x_{107} + x_{111} + x_{112} + x_{113} + x_{116} + x_{117} + x_{119} + x_{122} + x_{128} + x_{134} + x_{140} + x_{141} + x_{146} + x_{157} + x_{158} + x_{164} + x_{165} + x_{167} + x_{168} + x_{169} + x_{170} + x_{172} + x_{175} + x_{177} + x_{182} + x_{184} + x_{189} + x_{190} + x_{192} + x_{196} + x_{202} + x_{208} + x_{209} + x_{213} + x_{220} + x_{226} + x_{229} + x_{234} + x_{235} + x_{236} + x_{237} + x_{242} + x_{243} + x_{247} + x_{249} + x_{250} + x_{251} + x_{252} + x_{255} + x_{262} + x_{265} + x_{267} + x_{268} + x_{269} + x_{274} + x_{275} + x_{277} + x_{278} + x_{284} + x_{292} + x_{295} + x_{298} + x_{313} + x_{314} + x_{316} + x_{319} + x_{320} + x_{321} + x_{322} + x_{324} + x_{326} + x_{327} + x_{331} + x_{333} + x_{334} + x_{340} + x_{342} + x_{343} + x_{344} + x_{346} + x_{348} + x_{351} + x_{352} + x_{354} + x_{360} + x_{363} + x_{370} + x_{371} + x_{372} + x_{373} + x_{375} + x_{376} + x_{378} + x_{379} + x_{381} + x_{386} + x_{393} + x_{402} + x_{404} + x_{405} + x_{409} + x_{410} + x_{412} + x_{416} + x_{417} + x_{419} + x_{428} + x_{430} + x_{435} + x_{439} + x_{446} + x_{450} + x_{452} + x_{453} + x_{455} + x_{456} + x_{458} + x_{460} + x_{464} + x_{467} + x_{468} + x_{473} + x_{475} + x_{476} + x_{478} + x_{481} + x_{488} + x_{489} + x_{491} + x_{493} + x_{495} + x_{506} + x_{512} + x_{516} + x_{517} + x_{518} + x_{524} + x_{525} + x_{528} + x_{529} + x_{531} + x_{532} + x_{534} + x_{536} + x_{542} + x_{544} + x_{546} + x_{547} + x_{549} + x_{550} + x_{551} + x_{556} \\leq 5.0\\\\\n",
       " & x_{3} + x_{5} + x_{7} + x_{9} + x_{12} + x_{15} + x_{16} + x_{17} + x_{20} + x_{22} + x_{23} + x_{25} + x_{31} + x_{35} + x_{36} + x_{37} + x_{40} + x_{41} + x_{44} + x_{49} + x_{54} + x_{55} + x_{58} + x_{70} + x_{73} + x_{75} + x_{77} + x_{78} + x_{81} + x_{83} + x_{84} + x_{85} + x_{86} + x_{87} + x_{91} + x_{96} + x_{101} + x_{102} + x_{104} + x_{106} + x_{108} + x_{109} + x_{110} + x_{114} + x_{115} + x_{118} + x_{120} + x_{124} + x_{125} + x_{135} + x_{137} + x_{138} + x_{139} + x_{142} + x_{144} + x_{147} + x_{148} + x_{150} + x_{151} + x_{159} + x_{160} + x_{163} + x_{166} + x_{171} + x_{173} + x_{176} + x_{178} + x_{183} + x_{185} + x_{188} + x_{193} + x_{194} + x_{195} + x_{197} + x_{198} + x_{200} + x_{203} + x_{204} + x_{205} + x_{206} + x_{210} + x_{211} + x_{212} + x_{214} + x_{216} + x_{217} + x_{219} + x_{223} + x_{224} + x_{225} + x_{227} + x_{228} + x_{230} + x_{231} + x_{232} + x_{233} + x_{238} + x_{239} + x_{240} + x_{241} + x_{244} + x_{245} + x_{248} + x_{253} + x_{257} + x_{260} + x_{261} + x_{263} + x_{264} + x_{271} + x_{272} + x_{276} + x_{280} + x_{283} + x_{285} + x_{286} + x_{287} + x_{288} + x_{289} + x_{294} + x_{300} + x_{301} + x_{302} + x_{303} + x_{309} + x_{310} + x_{312} + x_{315} + x_{317} + x_{325} + x_{328} + x_{329} + x_{330} + x_{335} + x_{336} + x_{337} + x_{338} + x_{341} + x_{345} + x_{347} + x_{349} + x_{350} + x_{353} + x_{356} + x_{358} + x_{361} + x_{362} + x_{364} + x_{366} + x_{367} + x_{369} + x_{374} + x_{377} + x_{384} + x_{388} + x_{389} + x_{390} + x_{391} + x_{392} + x_{394} + x_{395} + x_{396} + x_{397} + x_{398} + x_{399} + x_{400} + x_{401} + x_{406} + x_{407} + x_{408} + x_{413} + x_{415} + x_{418} + x_{420} + x_{423} + x_{424} + x_{425} + x_{426} + x_{427} + x_{429} + x_{436} + x_{437} + x_{438} + x_{440} + x_{441} + x_{443} + x_{445} + x_{447} + x_{448} + x_{449} + x_{454} + x_{459} + x_{465} + x_{470} + x_{471} + x_{474} + x_{477} + x_{480} + x_{483} + x_{484} + x_{485} + x_{486} + x_{487} + x_{490} + x_{492} + x_{494} + x_{497} + x_{498} + x_{499} + x_{501} + x_{502} + x_{503} + x_{505} + x_{507} + x_{508} + x_{510} + x_{511} + x_{513} + x_{519} + x_{520} + x_{521} + x_{523} + x_{527} + x_{533} + x_{538} + x_{539} + x_{540} + x_{543} + x_{545} + x_{548} + x_{552} + x_{553} + x_{554} \\leq 5.0\\\\\n",
       " & x_{1} + x_{6} + x_{8} + x_{13} + x_{21} + x_{26} + x_{28} + x_{29} + x_{42} + x_{45} + x_{47} + x_{48} + x_{88} + x_{94} + x_{97} + x_{98} + x_{121} + x_{126} + x_{127} + x_{130} + x_{143} + x_{145} + x_{149} + x_{153} + x_{155} + x_{162} + x_{174} + x_{179} + x_{180} + x_{191} + x_{199} + x_{201} + x_{218} + x_{221} + x_{246} + x_{256} + x_{258} + x_{270} + x_{279} + x_{281} + x_{290} + x_{291} + x_{296} + x_{299} + x_{307} + x_{308} + x_{332} + x_{355} + x_{365} + x_{380} + x_{383} + x_{385} + x_{387} + x_{403} + x_{411} + x_{421} + x_{422} + x_{431} + x_{432} + x_{434} + x_{444} + x_{451} + x_{457} + x_{461} + x_{463} + x_{466} + x_{469} + x_{482} + x_{496} + x_{500} + x_{504} + x_{509} + x_{515} + x_{526} + x_{537} \\leq 3.0\\\\\n",
       " & 53 x_{1} + 54 x_{2} + 44 x_{3} + 51 x_{4} + 53 x_{5} + 57 x_{6} + 45 x_{7} + 48 x_{8} + 53 x_{9} + 43 x_{10} + 43 x_{11} + 56 x_{12} + 45 x_{13} + 43 x_{14} + 52 x_{15} + 48 x_{16} + 58 x_{17} + 43 x_{18} + 49 x_{19} + 58 x_{20} + 81 x_{21} + 51 x_{22} + 55 x_{23} + 61 x_{24} + 43 x_{25} + 67 x_{26} + 47 x_{27} + 45 x_{28} + 54 x_{29} + 46 x_{30} + 50 x_{31} + 39 x_{32} + 39 x_{33} + 73 x_{34} + 50 x_{35} + 52 x_{36} + 49 x_{37} + 49 x_{38} + 40 x_{39} + 48 x_{40} + 47 x_{41} + 76 x_{42} + 61 x_{43} + 56 x_{44} + 53 x_{45} + 44 x_{46} + 52 x_{47} + 48 x_{48} + 52 x_{49} + 47 x_{50} + 40 x_{51} + 44 x_{52} + 60 x_{53} + 45 x_{54} + 57 x_{55} + 45 x_{56} + 39 x_{57} + 62 x_{58} + 40 x_{59} + 40 x_{60} + 45 x_{61} + 45 x_{62} + 42 x_{63} + 44 x_{64} + 47 x_{65} + 39 x_{66} + 46 x_{67} + 46 x_{68} + 45 x_{69} + 45 x_{70} + 56 x_{71} + 52 x_{72} + 55 x_{73} + 40 x_{74} + 70 x_{75} + 45 x_{76} + 57 x_{77} + 43 x_{78} + 45 x_{79} + 39 x_{80} + 48 x_{81} + 39 x_{82} + 116 x_{83} + 57 x_{84} + 52 x_{85} + 67 x_{86} + 53 x_{87} + 71 x_{88} + 42 x_{89} + 43 x_{90} + 45 x_{91} + 39 x_{92} + 44 x_{93} + 65 x_{94} + 45 x_{95} + 44 x_{96} + 63 x_{97} + 59 x_{98} + 43 x_{99} + 40 x_{100} + 50 x_{101} + 79 x_{102} + 44 x_{103} + 48 x_{104} + 44 x_{105} + 45 x_{106} + 47 x_{107} + 45 x_{108} + 60 x_{109} + 49 x_{110} + 42 x_{111} + 49 x_{112} + 48 x_{113} + 45 x_{114} + 50 x_{115} + 42 x_{116} + 56 x_{117} + 44 x_{118} + 44 x_{119} + 47 x_{120} + 45 x_{121} + 40 x_{122} + 40 x_{123} + 55 x_{124} + 60 x_{125} + 45 x_{126} + 77 x_{127} + 42 x_{128} + 40 x_{129} + 60 x_{130} + 43 x_{131} + 44 x_{132} + 50 x_{133} + 42 x_{134} + 45 x_{135} + 47 x_{136} + 50 x_{137} + 54 x_{138} + 49 x_{139} + 45 x_{140} + 44 x_{141} + 83 x_{142} + 48 x_{143} + 45 x_{144} + 77 x_{145} + 44 x_{146} + 57 x_{147} + 43 x_{148} + 52 x_{149} + 55 x_{150} + 59 x_{151} + 62 x_{152} + 84 x_{153} + 61 x_{154} + 57 x_{155} + 40 x_{156} + 45 x_{157} + 43 x_{158} + 57 x_{159} + 61 x_{160} + 55 x_{161} + 58 x_{162} + 59 x_{163} + 49 x_{164} + 47 x_{165} + 60 x_{166} + 41 x_{167} + 45 x_{168} + 44 x_{169} + 49 x_{170} + 42 x_{171} + 41 x_{172} + 54 x_{173} + 56 x_{174} + 43 x_{175} + 47 x_{176} + 42 x_{177} + 67 x_{178} + 50 x_{179} + 47 x_{180} + 45 x_{181} + 43 x_{182} + 56 x_{183} + 43 x_{184} + 49 x_{185} + 44 x_{186} + 43 x_{187} + 49 x_{188} + 40 x_{189} + 45 x_{190} + 86 x_{191} + 53 x_{192} + 53 x_{193} + 59 x_{194} + 48 x_{195} + 44 x_{196} + 67 x_{197} + 73 x_{198} + 54 x_{199} + 44 x_{200} + 125 x_{201} + 54 x_{202} + 44 x_{203} + 65 x_{204} + 53 x_{205} + 112 x_{206} + 55 x_{207} + 48 x_{208} + 47 x_{209} + 54 x_{210} + 45 x_{211} + 45 x_{212} + 51 x_{213} + 71 x_{214} + 48 x_{215} + 52 x_{216} + 45 x_{217} + 50 x_{218} + 57 x_{219} + 42 x_{220} + 69 x_{221} + 44 x_{222} + 44 x_{223} + 75 x_{224} + 55 x_{225} + 44 x_{226} + 46 x_{227} + 47 x_{228} + 43 x_{229} + 50 x_{230} + 89 x_{231} + 47 x_{232} + 45 x_{233} + 44 x_{234} + 39 x_{235} + 42 x_{236} + 49 x_{237} + 69 x_{238} + 43 x_{239} + 49 x_{240} + 69 x_{241} + 49 x_{242} + 43 x_{243} + 64 x_{244} + 44 x_{245} + 103 x_{246} + 44 x_{247} + 44 x_{248} + 47 x_{249} + 42 x_{250} + 42 x_{251} + 40 x_{252} + 69 x_{253} + 39 x_{254} + 39 x_{255} + 51 x_{256} + 44 x_{257} + 53 x_{258} + 39 x_{259} + 48 x_{260} + 54 x_{261} + 42 x_{262} + 67 x_{263} + 44 x_{264} + 47 x_{265} + 45 x_{266} + 42 x_{267} + 53 x_{268} + 45 x_{269} + 59 x_{270} + 54 x_{271} + 56 x_{272} + 43 x_{273} + 52 x_{274} + 45 x_{275} + 53 x_{276} + 43 x_{277} + 54 x_{278} + 58 x_{279} + 49 x_{280} + 54 x_{281} + 48 x_{282} + 57 x_{283} + 47 x_{284} + 45 x_{285} + 53 x_{286} + 45 x_{287} + 43 x_{288} + 50 x_{289} + 56 x_{290} + 54 x_{291} + 42 x_{292} + 52 x_{293} + 49 x_{294} + 72 x_{295} + 54 x_{296} + 40 x_{297} + 42 x_{298} + 49 x_{299} + 47 x_{300} + 55 x_{301} + 79 x_{302} + 47 x_{303} + 45 x_{304} + 40 x_{305} + 50 x_{306} + 45 x_{307} + 70 x_{308} + 52 x_{309} + 49 x_{310} + 45 x_{311} + 121 x_{312} + 40 x_{313} + 39 x_{314} + 51 x_{315} + 49 x_{316} + 44 x_{317} + 45 x_{318} + 45 x_{319} + 37 x_{320} + 44 x_{321} + 44 x_{322} + 43 x_{323} + 54 x_{324} + 43 x_{325} + 54 x_{326} + 48 x_{327} + 46 x_{328} + 59 x_{329} + 63 x_{330} + 48 x_{331} + 44 x_{332} + 44 x_{333} + 50 x_{334} + 59 x_{335} + 45 x_{336} + 52 x_{337} + 44 x_{338} + 50 x_{339} + 43 x_{340} + 44 x_{341} + 50 x_{342} + 43 x_{343} + 43 x_{344} + 44 x_{345} + 41 x_{346} + 54 x_{347} + 49 x_{348} + 56 x_{349} + 52 x_{350} + 45 x_{351} + 40 x_{352} + 50 x_{353} + 57 x_{354} + 53 x_{355} + 94 x_{356} + 39 x_{357} + 43 x_{358} + 44 x_{359} + 38 x_{360} + 44 x_{361} + 71 x_{362} + 42 x_{363} + 77 x_{364} + 52 x_{365} + 49 x_{366} + 51 x_{367} + 45 x_{368} + 49 x_{369} + 45 x_{370} + 49 x_{371} + 47 x_{372} + 53 x_{373} + 45 x_{374} + 44 x_{375} + 40 x_{376} + 45 x_{377} + 43 x_{378} + 45 x_{379} + 55 x_{380} + 46 x_{381} + 39 x_{382} + 45 x_{383} + 53 x_{384} + 73 x_{385} + 40 x_{386} + 55 x_{387} + 50 x_{388} + 52 x_{389} + 54 x_{390} + 44 x_{391} + 131 x_{392} + 45 x_{393} + 45 x_{394} + 45 x_{395} + 50 x_{396} + 52 x_{397} + 43 x_{398} + 49 x_{399} + 50 x_{400} + 43 x_{401} + 47 x_{402} + 45 x_{403} + 43 x_{404} + 45 x_{405} + 59 x_{406} + 47 x_{407} + 50 x_{408} + 43 x_{409} + 42 x_{410} + 62 x_{411} + 38 x_{412} + 43 x_{413} + 53 x_{414} + 69 x_{415} + 43 x_{416} + 48 x_{417} + 43 x_{418} + 53 x_{419} + 44 x_{420} + 65 x_{421} + 75 x_{422} + 49 x_{423} + 45 x_{424} + 45 x_{425} + 59 x_{426} + 55 x_{427} + 42 x_{428} + 56 x_{429} + 43 x_{430} + 77 x_{431} + 50 x_{432} + 39 x_{433} + 70 x_{434} + 45 x_{435} + 74 x_{436} + 62 x_{437} + 53 x_{438} + 39 x_{439} + 79 x_{440} + 55 x_{441} + 42 x_{442} + 48 x_{443} + 96 x_{444} + 48 x_{445} + 45 x_{446} + 47 x_{447} + 105 x_{448} + 63 x_{449} + 41 x_{450} + 75 x_{451} + 39 x_{452} + 65 x_{453} + 50 x_{454} + 44 x_{455} + 52 x_{456} + 76 x_{457} + 45 x_{458} + 86 x_{459} + 41 x_{460} + 45 x_{461} + 45 x_{462} + 87 x_{463} + 43 x_{464} + 55 x_{465} + 63 x_{466} + 48 x_{467} + 48 x_{468} + 114 x_{469} + 52 x_{470} + 54 x_{471} + 50 x_{472} + 46 x_{473} + 51 x_{474} + 44 x_{475} + 44 x_{476} + 52 x_{477} + 62 x_{478} + 40 x_{479} + 118 x_{480} + 44 x_{481} + 46 x_{482} + 52 x_{483} + 47 x_{484} + 59 x_{485} + 45 x_{486} + 54 x_{487} + 42 x_{488} + 49 x_{489} + 43 x_{490} + 49 x_{491} + 55 x_{492} + 50 x_{493} + 49 x_{494} + 40 x_{495} + 54 x_{496} + 53 x_{497} + 48 x_{498} + 59 x_{499} + 45 x_{500} + 58 x_{501} + 49 x_{502} + 51 x_{503} + 65 x_{504} + 57 x_{505} + 45 x_{506} + 51 x_{507} + 45 x_{508} + 61 x_{509} + 58 x_{510} + 53 x_{511} + 56 x_{512} + 50 x_{513} + 45 x_{514} + 85 x_{515} + 53 x_{516} + 42 x_{517} + 50 x_{518} + 53 x_{519} + 48 x_{520} + 48 x_{521} + 39 x_{522} + 57 x_{523} + 84 x_{524} + 47 x_{525} + 54 x_{526} + 48 x_{527} + 45 x_{528} + 50 x_{529} + 46 x_{530} + 48 x_{531} + 68 x_{532} + 49 x_{533} + 47 x_{534} + 45 x_{535} + 43 x_{536} + 54 x_{537} + 48 x_{538} + 69 x_{539} + 47 x_{540} + 43 x_{541} + 45 x_{542} + 45 x_{543} + 43 x_{544} + 63 x_{545} + 49 x_{546} + 39 x_{547} + 59 x_{548} + 39 x_{549} + 49 x_{550} + 44 x_{551} + 57 x_{552} + 64 x_{553} + 44 x_{554} + 44 x_{555} + 49 x_{556} \\leq 1000.0\\\\\n",
       " & x_{1} \\in \\{0, 1\\}\\\\\n",
       " & x_{2} \\in \\{0, 1\\}\\\\\n",
       " & x_{3} \\in \\{0, 1\\}\\\\\n",
       " & x_{4} \\in \\{0, 1\\}\\\\\n",
       " & x_{5} \\in \\{0, 1\\}\\\\\n",
       " & x_{6} \\in \\{0, 1\\}\\\\\n",
       " & x_{7} \\in \\{0, 1\\}\\\\\n",
       " & x_{8} \\in \\{0, 1\\}\\\\\n",
       " & x_{9} \\in \\{0, 1\\}\\\\\n",
       " & x_{10} \\in \\{0, 1\\}\\\\\n",
       " & x_{11} \\in \\{0, 1\\}\\\\\n",
       " & x_{12} \\in \\{0, 1\\}\\\\\n",
       " & x_{13} \\in \\{0, 1\\}\\\\\n",
       " & x_{14} \\in \\{0, 1\\}\\\\\n",
       " & x_{15} \\in \\{0, 1\\}\\\\\n",
       " & x_{16} \\in \\{0, 1\\}\\\\\n",
       " & x_{17} \\in \\{0, 1\\}\\\\\n",
       " & x_{18} \\in \\{0, 1\\}\\\\\n",
       " & x_{19} \\in \\{0, 1\\}\\\\\n",
       " & x_{20} \\in \\{0, 1\\}\\\\\n",
       " & x_{21} \\in \\{0, 1\\}\\\\\n",
       " & x_{22} \\in \\{0, 1\\}\\\\\n",
       " & x_{23} \\in \\{0, 1\\}\\\\\n",
       " & x_{24} \\in \\{0, 1\\}\\\\\n",
       " & x_{25} \\in \\{0, 1\\}\\\\\n",
       " & x_{26} \\in \\{0, 1\\}\\\\\n",
       " & x_{27} \\in \\{0, 1\\}\\\\\n",
       " & x_{28} \\in \\{0, 1\\}\\\\\n",
       " & x_{29} \\in \\{0, 1\\}\\\\\n",
       " & x_{30} \\in \\{0, 1\\}\\\\\n",
       " & x_{31} \\in \\{0, 1\\}\\\\\n",
       " & x_{32} \\in \\{0, 1\\}\\\\\n",
       " & x_{33} \\in \\{0, 1\\}\\\\\n",
       " & x_{34} \\in \\{0, 1\\}\\\\\n",
       " & x_{35} \\in \\{0, 1\\}\\\\\n",
       " & x_{36} \\in \\{0, 1\\}\\\\\n",
       " & x_{37} \\in \\{0, 1\\}\\\\\n",
       " & x_{38} \\in \\{0, 1\\}\\\\\n",
       " & x_{39} \\in \\{0, 1\\}\\\\\n",
       " & x_{40} \\in \\{0, 1\\}\\\\\n",
       " & x_{41} \\in \\{0, 1\\}\\\\\n",
       " & x_{42} \\in \\{0, 1\\}\\\\\n",
       " & x_{43} \\in \\{0, 1\\}\\\\\n",
       " & x_{44} \\in \\{0, 1\\}\\\\\n",
       " & x_{45} \\in \\{0, 1\\}\\\\\n",
       " & x_{46} \\in \\{0, 1\\}\\\\\n",
       " & x_{47} \\in \\{0, 1\\}\\\\\n",
       " & x_{48} \\in \\{0, 1\\}\\\\\n",
       " & x_{49} \\in \\{0, 1\\}\\\\\n",
       " & x_{50} \\in \\{0, 1\\}\\\\\n",
       " & x_{51} \\in \\{0, 1\\}\\\\\n",
       " & x_{52} \\in \\{0, 1\\}\\\\\n",
       " & x_{53} \\in \\{0, 1\\}\\\\\n",
       " & x_{54} \\in \\{0, 1\\}\\\\\n",
       " & x_{55} \\in \\{0, 1\\}\\\\\n",
       " & x_{56} \\in \\{0, 1\\}\\\\\n",
       " & x_{57} \\in \\{0, 1\\}\\\\\n",
       " & x_{58} \\in \\{0, 1\\}\\\\\n",
       " & x_{59} \\in \\{0, 1\\}\\\\\n",
       " & x_{60} \\in \\{0, 1\\}\\\\\n",
       " & x_{61} \\in \\{0, 1\\}\\\\\n",
       " & x_{62} \\in \\{0, 1\\}\\\\\n",
       " & x_{63} \\in \\{0, 1\\}\\\\\n",
       " & x_{64} \\in \\{0, 1\\}\\\\\n",
       " & x_{65} \\in \\{0, 1\\}\\\\\n",
       " & x_{66} \\in \\{0, 1\\}\\\\\n",
       " & x_{67} \\in \\{0, 1\\}\\\\\n",
       " & x_{68} \\in \\{0, 1\\}\\\\\n",
       " & x_{69} \\in \\{0, 1\\}\\\\\n",
       " & x_{70} \\in \\{0, 1\\}\\\\\n",
       " & x_{71} \\in \\{0, 1\\}\\\\\n",
       " & x_{72} \\in \\{0, 1\\}\\\\\n",
       " & x_{73} \\in \\{0, 1\\}\\\\\n",
       " & x_{74} \\in \\{0, 1\\}\\\\\n",
       " & x_{75} \\in \\{0, 1\\}\\\\\n",
       " & x_{76} \\in \\{0, 1\\}\\\\\n",
       " & x_{77} \\in \\{0, 1\\}\\\\\n",
       " & x_{78} \\in \\{0, 1\\}\\\\\n",
       " & x_{79} \\in \\{0, 1\\}\\\\\n",
       " & x_{80} \\in \\{0, 1\\}\\\\\n",
       " & x_{81} \\in \\{0, 1\\}\\\\\n",
       " & x_{82} \\in \\{0, 1\\}\\\\\n",
       " & x_{83} \\in \\{0, 1\\}\\\\\n",
       " & x_{84} \\in \\{0, 1\\}\\\\\n",
       " & x_{85} \\in \\{0, 1\\}\\\\\n",
       " & x_{86} \\in \\{0, 1\\}\\\\\n",
       " & x_{87} \\in \\{0, 1\\}\\\\\n",
       " & x_{88} \\in \\{0, 1\\}\\\\\n",
       " & x_{89} \\in \\{0, 1\\}\\\\\n",
       " & x_{90} \\in \\{0, 1\\}\\\\\n",
       " & x_{91} \\in \\{0, 1\\}\\\\\n",
       " & x_{92} \\in \\{0, 1\\}\\\\\n",
       " & x_{93} \\in \\{0, 1\\}\\\\\n",
       " & x_{94} \\in \\{0, 1\\}\\\\\n",
       " & x_{95} \\in \\{0, 1\\}\\\\\n",
       " & x_{96} \\in \\{0, 1\\}\\\\\n",
       " & x_{97} \\in \\{0, 1\\}\\\\\n",
       " & x_{98} \\in \\{0, 1\\}\\\\\n",
       " & x_{99} \\in \\{0, 1\\}\\\\\n",
       " & x_{100} \\in \\{0, 1\\}\\\\\n",
       " & x_{101} \\in \\{0, 1\\}\\\\\n",
       " & x_{102} \\in \\{0, 1\\}\\\\\n",
       " & x_{103} \\in \\{0, 1\\}\\\\\n",
       " & x_{104} \\in \\{0, 1\\}\\\\\n",
       " & x_{105} \\in \\{0, 1\\}\\\\\n",
       " & x_{106} \\in \\{0, 1\\}\\\\\n",
       " & x_{107} \\in \\{0, 1\\}\\\\\n",
       " & x_{108} \\in \\{0, 1\\}\\\\\n",
       " & x_{109} \\in \\{0, 1\\}\\\\\n",
       " & x_{110} \\in \\{0, 1\\}\\\\\n",
       " & x_{111} \\in \\{0, 1\\}\\\\\n",
       " & x_{112} \\in \\{0, 1\\}\\\\\n",
       " & x_{113} \\in \\{0, 1\\}\\\\\n",
       " & x_{114} \\in \\{0, 1\\}\\\\\n",
       " & x_{115} \\in \\{0, 1\\}\\\\\n",
       " & x_{116} \\in \\{0, 1\\}\\\\\n",
       " & x_{117} \\in \\{0, 1\\}\\\\\n",
       " & x_{118} \\in \\{0, 1\\}\\\\\n",
       " & x_{119} \\in \\{0, 1\\}\\\\\n",
       " & x_{120} \\in \\{0, 1\\}\\\\\n",
       " & x_{121} \\in \\{0, 1\\}\\\\\n",
       " & x_{122} \\in \\{0, 1\\}\\\\\n",
       " & x_{123} \\in \\{0, 1\\}\\\\\n",
       " & x_{124} \\in \\{0, 1\\}\\\\\n",
       " & x_{125} \\in \\{0, 1\\}\\\\\n",
       " & x_{126} \\in \\{0, 1\\}\\\\\n",
       " & x_{127} \\in \\{0, 1\\}\\\\\n",
       " & x_{128} \\in \\{0, 1\\}\\\\\n",
       " & x_{129} \\in \\{0, 1\\}\\\\\n",
       " & x_{130} \\in \\{0, 1\\}\\\\\n",
       " & x_{131} \\in \\{0, 1\\}\\\\\n",
       " & x_{132} \\in \\{0, 1\\}\\\\\n",
       " & x_{133} \\in \\{0, 1\\}\\\\\n",
       " & x_{134} \\in \\{0, 1\\}\\\\\n",
       " & x_{135} \\in \\{0, 1\\}\\\\\n",
       " & x_{136} \\in \\{0, 1\\}\\\\\n",
       " & x_{137} \\in \\{0, 1\\}\\\\\n",
       " & x_{138} \\in \\{0, 1\\}\\\\\n",
       " & x_{139} \\in \\{0, 1\\}\\\\\n",
       " & x_{140} \\in \\{0, 1\\}\\\\\n",
       " & x_{141} \\in \\{0, 1\\}\\\\\n",
       " & x_{142} \\in \\{0, 1\\}\\\\\n",
       " & x_{143} \\in \\{0, 1\\}\\\\\n",
       " & x_{144} \\in \\{0, 1\\}\\\\\n",
       " & x_{145} \\in \\{0, 1\\}\\\\\n",
       " & x_{146} \\in \\{0, 1\\}\\\\\n",
       " & x_{147} \\in \\{0, 1\\}\\\\\n",
       " & x_{148} \\in \\{0, 1\\}\\\\\n",
       " & x_{149} \\in \\{0, 1\\}\\\\\n",
       " & x_{150} \\in \\{0, 1\\}\\\\\n",
       " & x_{151} \\in \\{0, 1\\}\\\\\n",
       " & x_{152} \\in \\{0, 1\\}\\\\\n",
       " & x_{153} \\in \\{0, 1\\}\\\\\n",
       " & x_{154} \\in \\{0, 1\\}\\\\\n",
       " & x_{155} \\in \\{0, 1\\}\\\\\n",
       " & x_{156} \\in \\{0, 1\\}\\\\\n",
       " & x_{157} \\in \\{0, 1\\}\\\\\n",
       " & x_{158} \\in \\{0, 1\\}\\\\\n",
       " & x_{159} \\in \\{0, 1\\}\\\\\n",
       " & x_{160} \\in \\{0, 1\\}\\\\\n",
       " & x_{161} \\in \\{0, 1\\}\\\\\n",
       " & x_{162} \\in \\{0, 1\\}\\\\\n",
       " & x_{163} \\in \\{0, 1\\}\\\\\n",
       " & x_{164} \\in \\{0, 1\\}\\\\\n",
       " & x_{165} \\in \\{0, 1\\}\\\\\n",
       " & x_{166} \\in \\{0, 1\\}\\\\\n",
       " & x_{167} \\in \\{0, 1\\}\\\\\n",
       " & x_{168} \\in \\{0, 1\\}\\\\\n",
       " & x_{169} \\in \\{0, 1\\}\\\\\n",
       " & x_{170} \\in \\{0, 1\\}\\\\\n",
       " & x_{171} \\in \\{0, 1\\}\\\\\n",
       " & x_{172} \\in \\{0, 1\\}\\\\\n",
       " & x_{173} \\in \\{0, 1\\}\\\\\n",
       " & x_{174} \\in \\{0, 1\\}\\\\\n",
       " & x_{175} \\in \\{0, 1\\}\\\\\n",
       " & x_{176} \\in \\{0, 1\\}\\\\\n",
       " & x_{177} \\in \\{0, 1\\}\\\\\n",
       " & x_{178} \\in \\{0, 1\\}\\\\\n",
       " & x_{179} \\in \\{0, 1\\}\\\\\n",
       " & x_{180} \\in \\{0, 1\\}\\\\\n",
       " & x_{181} \\in \\{0, 1\\}\\\\\n",
       " & x_{182} \\in \\{0, 1\\}\\\\\n",
       " & x_{183} \\in \\{0, 1\\}\\\\\n",
       " & x_{184} \\in \\{0, 1\\}\\\\\n",
       " & x_{185} \\in \\{0, 1\\}\\\\\n",
       " & x_{186} \\in \\{0, 1\\}\\\\\n",
       " & x_{187} \\in \\{0, 1\\}\\\\\n",
       " & x_{188} \\in \\{0, 1\\}\\\\\n",
       " & x_{189} \\in \\{0, 1\\}\\\\\n",
       " & x_{190} \\in \\{0, 1\\}\\\\\n",
       " & x_{191} \\in \\{0, 1\\}\\\\\n",
       " & x_{192} \\in \\{0, 1\\}\\\\\n",
       " & x_{193} \\in \\{0, 1\\}\\\\\n",
       " & x_{194} \\in \\{0, 1\\}\\\\\n",
       " & x_{195} \\in \\{0, 1\\}\\\\\n",
       " & x_{196} \\in \\{0, 1\\}\\\\\n",
       " & x_{197} \\in \\{0, 1\\}\\\\\n",
       " & x_{198} \\in \\{0, 1\\}\\\\\n",
       " & x_{199} \\in \\{0, 1\\}\\\\\n",
       " & x_{200} \\in \\{0, 1\\}\\\\\n",
       " & x_{201} \\in \\{0, 1\\}\\\\\n",
       " & x_{202} \\in \\{0, 1\\}\\\\\n",
       " & x_{203} \\in \\{0, 1\\}\\\\\n",
       " & x_{204} \\in \\{0, 1\\}\\\\\n",
       " & x_{205} \\in \\{0, 1\\}\\\\\n",
       " & x_{206} \\in \\{0, 1\\}\\\\\n",
       " & x_{207} \\in \\{0, 1\\}\\\\\n",
       " & x_{208} \\in \\{0, 1\\}\\\\\n",
       " & x_{209} \\in \\{0, 1\\}\\\\\n",
       " & x_{210} \\in \\{0, 1\\}\\\\\n",
       " & x_{211} \\in \\{0, 1\\}\\\\\n",
       " & x_{212} \\in \\{0, 1\\}\\\\\n",
       " & x_{213} \\in \\{0, 1\\}\\\\\n",
       " & x_{214} \\in \\{0, 1\\}\\\\\n",
       " & x_{215} \\in \\{0, 1\\}\\\\\n",
       " & x_{216} \\in \\{0, 1\\}\\\\\n",
       " & x_{217} \\in \\{0, 1\\}\\\\\n",
       " & x_{218} \\in \\{0, 1\\}\\\\\n",
       " & x_{219} \\in \\{0, 1\\}\\\\\n",
       " & x_{220} \\in \\{0, 1\\}\\\\\n",
       " & x_{221} \\in \\{0, 1\\}\\\\\n",
       " & x_{222} \\in \\{0, 1\\}\\\\\n",
       " & x_{223} \\in \\{0, 1\\}\\\\\n",
       " & x_{224} \\in \\{0, 1\\}\\\\\n",
       " & x_{225} \\in \\{0, 1\\}\\\\\n",
       " & x_{226} \\in \\{0, 1\\}\\\\\n",
       " & x_{227} \\in \\{0, 1\\}\\\\\n",
       " & x_{228} \\in \\{0, 1\\}\\\\\n",
       " & x_{229} \\in \\{0, 1\\}\\\\\n",
       " & x_{230} \\in \\{0, 1\\}\\\\\n",
       " & x_{231} \\in \\{0, 1\\}\\\\\n",
       " & x_{232} \\in \\{0, 1\\}\\\\\n",
       " & x_{233} \\in \\{0, 1\\}\\\\\n",
       " & x_{234} \\in \\{0, 1\\}\\\\\n",
       " & x_{235} \\in \\{0, 1\\}\\\\\n",
       " & x_{236} \\in \\{0, 1\\}\\\\\n",
       " & x_{237} \\in \\{0, 1\\}\\\\\n",
       " & x_{238} \\in \\{0, 1\\}\\\\\n",
       " & x_{239} \\in \\{0, 1\\}\\\\\n",
       " & x_{240} \\in \\{0, 1\\}\\\\\n",
       " & x_{241} \\in \\{0, 1\\}\\\\\n",
       " & x_{242} \\in \\{0, 1\\}\\\\\n",
       " & x_{243} \\in \\{0, 1\\}\\\\\n",
       " & x_{244} \\in \\{0, 1\\}\\\\\n",
       " & x_{245} \\in \\{0, 1\\}\\\\\n",
       " & x_{246} \\in \\{0, 1\\}\\\\\n",
       " & x_{247} \\in \\{0, 1\\}\\\\\n",
       " & x_{248} \\in \\{0, 1\\}\\\\\n",
       " & x_{249} \\in \\{0, 1\\}\\\\\n",
       " & x_{250} \\in \\{0, 1\\}\\\\\n",
       " & x_{251} \\in \\{0, 1\\}\\\\\n",
       " & x_{252} \\in \\{0, 1\\}\\\\\n",
       " & x_{253} \\in \\{0, 1\\}\\\\\n",
       " & x_{254} \\in \\{0, 1\\}\\\\\n",
       " & x_{255} \\in \\{0, 1\\}\\\\\n",
       " & x_{256} \\in \\{0, 1\\}\\\\\n",
       " & x_{257} \\in \\{0, 1\\}\\\\\n",
       " & x_{258} \\in \\{0, 1\\}\\\\\n",
       " & x_{259} \\in \\{0, 1\\}\\\\\n",
       " & x_{260} \\in \\{0, 1\\}\\\\\n",
       " & x_{261} \\in \\{0, 1\\}\\\\\n",
       " & x_{262} \\in \\{0, 1\\}\\\\\n",
       " & x_{263} \\in \\{0, 1\\}\\\\\n",
       " & x_{264} \\in \\{0, 1\\}\\\\\n",
       " & x_{265} \\in \\{0, 1\\}\\\\\n",
       " & x_{266} \\in \\{0, 1\\}\\\\\n",
       " & x_{267} \\in \\{0, 1\\}\\\\\n",
       " & x_{268} \\in \\{0, 1\\}\\\\\n",
       " & x_{269} \\in \\{0, 1\\}\\\\\n",
       " & x_{270} \\in \\{0, 1\\}\\\\\n",
       " & x_{271} \\in \\{0, 1\\}\\\\\n",
       " & x_{272} \\in \\{0, 1\\}\\\\\n",
       " & x_{273} \\in \\{0, 1\\}\\\\\n",
       " & x_{274} \\in \\{0, 1\\}\\\\\n",
       " & x_{275} \\in \\{0, 1\\}\\\\\n",
       " & x_{276} \\in \\{0, 1\\}\\\\\n",
       " & x_{277} \\in \\{0, 1\\}\\\\\n",
       " & x_{278} \\in \\{0, 1\\}\\\\\n",
       " & x_{279} \\in \\{0, 1\\}\\\\\n",
       " & x_{280} \\in \\{0, 1\\}\\\\\n",
       " & x_{281} \\in \\{0, 1\\}\\\\\n",
       " & x_{282} \\in \\{0, 1\\}\\\\\n",
       " & x_{283} \\in \\{0, 1\\}\\\\\n",
       " & x_{284} \\in \\{0, 1\\}\\\\\n",
       " & x_{285} \\in \\{0, 1\\}\\\\\n",
       " & x_{286} \\in \\{0, 1\\}\\\\\n",
       " & x_{287} \\in \\{0, 1\\}\\\\\n",
       " & x_{288} \\in \\{0, 1\\}\\\\\n",
       " & x_{289} \\in \\{0, 1\\}\\\\\n",
       " & x_{290} \\in \\{0, 1\\}\\\\\n",
       " & x_{291} \\in \\{0, 1\\}\\\\\n",
       " & x_{292} \\in \\{0, 1\\}\\\\\n",
       " & x_{293} \\in \\{0, 1\\}\\\\\n",
       " & x_{294} \\in \\{0, 1\\}\\\\\n",
       " & x_{295} \\in \\{0, 1\\}\\\\\n",
       " & x_{296} \\in \\{0, 1\\}\\\\\n",
       " & x_{297} \\in \\{0, 1\\}\\\\\n",
       " & x_{298} \\in \\{0, 1\\}\\\\\n",
       " & x_{299} \\in \\{0, 1\\}\\\\\n",
       " & x_{300} \\in \\{0, 1\\}\\\\\n",
       " & x_{301} \\in \\{0, 1\\}\\\\\n",
       " & x_{302} \\in \\{0, 1\\}\\\\\n",
       " & x_{303} \\in \\{0, 1\\}\\\\\n",
       " & x_{304} \\in \\{0, 1\\}\\\\\n",
       " & x_{305} \\in \\{0, 1\\}\\\\\n",
       " & x_{306} \\in \\{0, 1\\}\\\\\n",
       " & x_{307} \\in \\{0, 1\\}\\\\\n",
       " & x_{308} \\in \\{0, 1\\}\\\\\n",
       " & x_{309} \\in \\{0, 1\\}\\\\\n",
       " & x_{310} \\in \\{0, 1\\}\\\\\n",
       " & x_{311} \\in \\{0, 1\\}\\\\\n",
       " & x_{312} \\in \\{0, 1\\}\\\\\n",
       " & x_{313} \\in \\{0, 1\\}\\\\\n",
       " & x_{314} \\in \\{0, 1\\}\\\\\n",
       " & x_{315} \\in \\{0, 1\\}\\\\\n",
       " & x_{316} \\in \\{0, 1\\}\\\\\n",
       " & x_{317} \\in \\{0, 1\\}\\\\\n",
       " & x_{318} \\in \\{0, 1\\}\\\\\n",
       " & x_{319} \\in \\{0, 1\\}\\\\\n",
       " & x_{320} \\in \\{0, 1\\}\\\\\n",
       " & x_{321} \\in \\{0, 1\\}\\\\\n",
       " & x_{322} \\in \\{0, 1\\}\\\\\n",
       " & x_{323} \\in \\{0, 1\\}\\\\\n",
       " & x_{324} \\in \\{0, 1\\}\\\\\n",
       " & x_{325} \\in \\{0, 1\\}\\\\\n",
       " & x_{326} \\in \\{0, 1\\}\\\\\n",
       " & x_{327} \\in \\{0, 1\\}\\\\\n",
       " & x_{328} \\in \\{0, 1\\}\\\\\n",
       " & x_{329} \\in \\{0, 1\\}\\\\\n",
       " & x_{330} \\in \\{0, 1\\}\\\\\n",
       " & x_{331} \\in \\{0, 1\\}\\\\\n",
       " & x_{332} \\in \\{0, 1\\}\\\\\n",
       " & x_{333} \\in \\{0, 1\\}\\\\\n",
       " & x_{334} \\in \\{0, 1\\}\\\\\n",
       " & x_{335} \\in \\{0, 1\\}\\\\\n",
       " & x_{336} \\in \\{0, 1\\}\\\\\n",
       " & x_{337} \\in \\{0, 1\\}\\\\\n",
       " & x_{338} \\in \\{0, 1\\}\\\\\n",
       " & x_{339} \\in \\{0, 1\\}\\\\\n",
       " & x_{340} \\in \\{0, 1\\}\\\\\n",
       " & x_{341} \\in \\{0, 1\\}\\\\\n",
       " & x_{342} \\in \\{0, 1\\}\\\\\n",
       " & x_{343} \\in \\{0, 1\\}\\\\\n",
       " & x_{344} \\in \\{0, 1\\}\\\\\n",
       " & x_{345} \\in \\{0, 1\\}\\\\\n",
       " & x_{346} \\in \\{0, 1\\}\\\\\n",
       " & x_{347} \\in \\{0, 1\\}\\\\\n",
       " & x_{348} \\in \\{0, 1\\}\\\\\n",
       " & x_{349} \\in \\{0, 1\\}\\\\\n",
       " & x_{350} \\in \\{0, 1\\}\\\\\n",
       " & x_{351} \\in \\{0, 1\\}\\\\\n",
       " & x_{352} \\in \\{0, 1\\}\\\\\n",
       " & x_{353} \\in \\{0, 1\\}\\\\\n",
       " & x_{354} \\in \\{0, 1\\}\\\\\n",
       " & x_{355} \\in \\{0, 1\\}\\\\\n",
       " & x_{356} \\in \\{0, 1\\}\\\\\n",
       " & x_{357} \\in \\{0, 1\\}\\\\\n",
       " & x_{358} \\in \\{0, 1\\}\\\\\n",
       " & x_{359} \\in \\{0, 1\\}\\\\\n",
       " & x_{360} \\in \\{0, 1\\}\\\\\n",
       " & x_{361} \\in \\{0, 1\\}\\\\\n",
       " & x_{362} \\in \\{0, 1\\}\\\\\n",
       " & x_{363} \\in \\{0, 1\\}\\\\\n",
       " & x_{364} \\in \\{0, 1\\}\\\\\n",
       " & x_{365} \\in \\{0, 1\\}\\\\\n",
       " & x_{366} \\in \\{0, 1\\}\\\\\n",
       " & x_{367} \\in \\{0, 1\\}\\\\\n",
       " & x_{368} \\in \\{0, 1\\}\\\\\n",
       " & x_{369} \\in \\{0, 1\\}\\\\\n",
       " & x_{370} \\in \\{0, 1\\}\\\\\n",
       " & x_{371} \\in \\{0, 1\\}\\\\\n",
       " & x_{372} \\in \\{0, 1\\}\\\\\n",
       " & x_{373} \\in \\{0, 1\\}\\\\\n",
       " & x_{374} \\in \\{0, 1\\}\\\\\n",
       " & x_{375} \\in \\{0, 1\\}\\\\\n",
       " & x_{376} \\in \\{0, 1\\}\\\\\n",
       " & x_{377} \\in \\{0, 1\\}\\\\\n",
       " & x_{378} \\in \\{0, 1\\}\\\\\n",
       " & x_{379} \\in \\{0, 1\\}\\\\\n",
       " & x_{380} \\in \\{0, 1\\}\\\\\n",
       " & x_{381} \\in \\{0, 1\\}\\\\\n",
       " & x_{382} \\in \\{0, 1\\}\\\\\n",
       " & x_{383} \\in \\{0, 1\\}\\\\\n",
       " & x_{384} \\in \\{0, 1\\}\\\\\n",
       " & x_{385} \\in \\{0, 1\\}\\\\\n",
       " & x_{386} \\in \\{0, 1\\}\\\\\n",
       " & x_{387} \\in \\{0, 1\\}\\\\\n",
       " & x_{388} \\in \\{0, 1\\}\\\\\n",
       " & x_{389} \\in \\{0, 1\\}\\\\\n",
       " & x_{390} \\in \\{0, 1\\}\\\\\n",
       " & x_{391} \\in \\{0, 1\\}\\\\\n",
       " & x_{392} \\in \\{0, 1\\}\\\\\n",
       " & x_{393} \\in \\{0, 1\\}\\\\\n",
       " & x_{394} \\in \\{0, 1\\}\\\\\n",
       " & x_{395} \\in \\{0, 1\\}\\\\\n",
       " & x_{396} \\in \\{0, 1\\}\\\\\n",
       " & x_{397} \\in \\{0, 1\\}\\\\\n",
       " & x_{398} \\in \\{0, 1\\}\\\\\n",
       " & x_{399} \\in \\{0, 1\\}\\\\\n",
       " & x_{400} \\in \\{0, 1\\}\\\\\n",
       " & x_{401} \\in \\{0, 1\\}\\\\\n",
       " & x_{402} \\in \\{0, 1\\}\\\\\n",
       " & x_{403} \\in \\{0, 1\\}\\\\\n",
       " & x_{404} \\in \\{0, 1\\}\\\\\n",
       " & x_{405} \\in \\{0, 1\\}\\\\\n",
       " & x_{406} \\in \\{0, 1\\}\\\\\n",
       " & x_{407} \\in \\{0, 1\\}\\\\\n",
       " & x_{408} \\in \\{0, 1\\}\\\\\n",
       " & x_{409} \\in \\{0, 1\\}\\\\\n",
       " & x_{410} \\in \\{0, 1\\}\\\\\n",
       " & x_{411} \\in \\{0, 1\\}\\\\\n",
       " & x_{412} \\in \\{0, 1\\}\\\\\n",
       " & x_{413} \\in \\{0, 1\\}\\\\\n",
       " & x_{414} \\in \\{0, 1\\}\\\\\n",
       " & x_{415} \\in \\{0, 1\\}\\\\\n",
       " & x_{416} \\in \\{0, 1\\}\\\\\n",
       " & x_{417} \\in \\{0, 1\\}\\\\\n",
       " & x_{418} \\in \\{0, 1\\}\\\\\n",
       " & x_{419} \\in \\{0, 1\\}\\\\\n",
       " & x_{420} \\in \\{0, 1\\}\\\\\n",
       " & x_{421} \\in \\{0, 1\\}\\\\\n",
       " & x_{422} \\in \\{0, 1\\}\\\\\n",
       " & x_{423} \\in \\{0, 1\\}\\\\\n",
       " & x_{424} \\in \\{0, 1\\}\\\\\n",
       " & x_{425} \\in \\{0, 1\\}\\\\\n",
       " & x_{426} \\in \\{0, 1\\}\\\\\n",
       " & x_{427} \\in \\{0, 1\\}\\\\\n",
       " & x_{428} \\in \\{0, 1\\}\\\\\n",
       " & x_{429} \\in \\{0, 1\\}\\\\\n",
       " & x_{430} \\in \\{0, 1\\}\\\\\n",
       " & x_{431} \\in \\{0, 1\\}\\\\\n",
       " & x_{432} \\in \\{0, 1\\}\\\\\n",
       " & x_{433} \\in \\{0, 1\\}\\\\\n",
       " & x_{434} \\in \\{0, 1\\}\\\\\n",
       " & x_{435} \\in \\{0, 1\\}\\\\\n",
       " & x_{436} \\in \\{0, 1\\}\\\\\n",
       " & x_{437} \\in \\{0, 1\\}\\\\\n",
       " & x_{438} \\in \\{0, 1\\}\\\\\n",
       " & x_{439} \\in \\{0, 1\\}\\\\\n",
       " & x_{440} \\in \\{0, 1\\}\\\\\n",
       " & x_{441} \\in \\{0, 1\\}\\\\\n",
       " & x_{442} \\in \\{0, 1\\}\\\\\n",
       " & x_{443} \\in \\{0, 1\\}\\\\\n",
       " & x_{444} \\in \\{0, 1\\}\\\\\n",
       " & x_{445} \\in \\{0, 1\\}\\\\\n",
       " & x_{446} \\in \\{0, 1\\}\\\\\n",
       " & x_{447} \\in \\{0, 1\\}\\\\\n",
       " & x_{448} \\in \\{0, 1\\}\\\\\n",
       " & x_{449} \\in \\{0, 1\\}\\\\\n",
       " & x_{450} \\in \\{0, 1\\}\\\\\n",
       " & x_{451} \\in \\{0, 1\\}\\\\\n",
       " & x_{452} \\in \\{0, 1\\}\\\\\n",
       " & x_{453} \\in \\{0, 1\\}\\\\\n",
       " & x_{454} \\in \\{0, 1\\}\\\\\n",
       " & x_{455} \\in \\{0, 1\\}\\\\\n",
       " & x_{456} \\in \\{0, 1\\}\\\\\n",
       " & x_{457} \\in \\{0, 1\\}\\\\\n",
       " & x_{458} \\in \\{0, 1\\}\\\\\n",
       " & x_{459} \\in \\{0, 1\\}\\\\\n",
       " & x_{460} \\in \\{0, 1\\}\\\\\n",
       " & x_{461} \\in \\{0, 1\\}\\\\\n",
       " & x_{462} \\in \\{0, 1\\}\\\\\n",
       " & x_{463} \\in \\{0, 1\\}\\\\\n",
       " & x_{464} \\in \\{0, 1\\}\\\\\n",
       " & x_{465} \\in \\{0, 1\\}\\\\\n",
       " & x_{466} \\in \\{0, 1\\}\\\\\n",
       " & x_{467} \\in \\{0, 1\\}\\\\\n",
       " & x_{468} \\in \\{0, 1\\}\\\\\n",
       " & x_{469} \\in \\{0, 1\\}\\\\\n",
       " & x_{470} \\in \\{0, 1\\}\\\\\n",
       " & x_{471} \\in \\{0, 1\\}\\\\\n",
       " & x_{472} \\in \\{0, 1\\}\\\\\n",
       " & x_{473} \\in \\{0, 1\\}\\\\\n",
       " & x_{474} \\in \\{0, 1\\}\\\\\n",
       " & x_{475} \\in \\{0, 1\\}\\\\\n",
       " & x_{476} \\in \\{0, 1\\}\\\\\n",
       " & x_{477} \\in \\{0, 1\\}\\\\\n",
       " & x_{478} \\in \\{0, 1\\}\\\\\n",
       " & x_{479} \\in \\{0, 1\\}\\\\\n",
       " & x_{480} \\in \\{0, 1\\}\\\\\n",
       " & x_{481} \\in \\{0, 1\\}\\\\\n",
       " & x_{482} \\in \\{0, 1\\}\\\\\n",
       " & x_{483} \\in \\{0, 1\\}\\\\\n",
       " & x_{484} \\in \\{0, 1\\}\\\\\n",
       " & x_{485} \\in \\{0, 1\\}\\\\\n",
       " & x_{486} \\in \\{0, 1\\}\\\\\n",
       " & x_{487} \\in \\{0, 1\\}\\\\\n",
       " & x_{488} \\in \\{0, 1\\}\\\\\n",
       " & x_{489} \\in \\{0, 1\\}\\\\\n",
       " & x_{490} \\in \\{0, 1\\}\\\\\n",
       " & x_{491} \\in \\{0, 1\\}\\\\\n",
       " & x_{492} \\in \\{0, 1\\}\\\\\n",
       " & x_{493} \\in \\{0, 1\\}\\\\\n",
       " & x_{494} \\in \\{0, 1\\}\\\\\n",
       " & x_{495} \\in \\{0, 1\\}\\\\\n",
       " & x_{496} \\in \\{0, 1\\}\\\\\n",
       " & x_{497} \\in \\{0, 1\\}\\\\\n",
       " & x_{498} \\in \\{0, 1\\}\\\\\n",
       " & x_{499} \\in \\{0, 1\\}\\\\\n",
       " & x_{500} \\in \\{0, 1\\}\\\\\n",
       " & x_{501} \\in \\{0, 1\\}\\\\\n",
       " & x_{502} \\in \\{0, 1\\}\\\\\n",
       " & x_{503} \\in \\{0, 1\\}\\\\\n",
       " & x_{504} \\in \\{0, 1\\}\\\\\n",
       " & x_{505} \\in \\{0, 1\\}\\\\\n",
       " & x_{506} \\in \\{0, 1\\}\\\\\n",
       " & x_{507} \\in \\{0, 1\\}\\\\\n",
       " & x_{508} \\in \\{0, 1\\}\\\\\n",
       " & x_{509} \\in \\{0, 1\\}\\\\\n",
       " & x_{510} \\in \\{0, 1\\}\\\\\n",
       " & x_{511} \\in \\{0, 1\\}\\\\\n",
       " & x_{512} \\in \\{0, 1\\}\\\\\n",
       " & x_{513} \\in \\{0, 1\\}\\\\\n",
       " & x_{514} \\in \\{0, 1\\}\\\\\n",
       " & x_{515} \\in \\{0, 1\\}\\\\\n",
       " & x_{516} \\in \\{0, 1\\}\\\\\n",
       " & x_{517} \\in \\{0, 1\\}\\\\\n",
       " & x_{518} \\in \\{0, 1\\}\\\\\n",
       " & x_{519} \\in \\{0, 1\\}\\\\\n",
       " & x_{520} \\in \\{0, 1\\}\\\\\n",
       " & x_{521} \\in \\{0, 1\\}\\\\\n",
       " & x_{522} \\in \\{0, 1\\}\\\\\n",
       " & x_{523} \\in \\{0, 1\\}\\\\\n",
       " & x_{524} \\in \\{0, 1\\}\\\\\n",
       " & x_{525} \\in \\{0, 1\\}\\\\\n",
       " & x_{526} \\in \\{0, 1\\}\\\\\n",
       " & x_{527} \\in \\{0, 1\\}\\\\\n",
       " & x_{528} \\in \\{0, 1\\}\\\\\n",
       " & x_{529} \\in \\{0, 1\\}\\\\\n",
       " & x_{530} \\in \\{0, 1\\}\\\\\n",
       " & x_{531} \\in \\{0, 1\\}\\\\\n",
       " & x_{532} \\in \\{0, 1\\}\\\\\n",
       " & x_{533} \\in \\{0, 1\\}\\\\\n",
       " & x_{534} \\in \\{0, 1\\}\\\\\n",
       " & x_{535} \\in \\{0, 1\\}\\\\\n",
       " & x_{536} \\in \\{0, 1\\}\\\\\n",
       " & x_{537} \\in \\{0, 1\\}\\\\\n",
       " & x_{538} \\in \\{0, 1\\}\\\\\n",
       " & x_{539} \\in \\{0, 1\\}\\\\\n",
       " & x_{540} \\in \\{0, 1\\}\\\\\n",
       " & x_{541} \\in \\{0, 1\\}\\\\\n",
       " & x_{542} \\in \\{0, 1\\}\\\\\n",
       " & x_{543} \\in \\{0, 1\\}\\\\\n",
       " & x_{544} \\in \\{0, 1\\}\\\\\n",
       " & x_{545} \\in \\{0, 1\\}\\\\\n",
       " & x_{546} \\in \\{0, 1\\}\\\\\n",
       " & x_{547} \\in \\{0, 1\\}\\\\\n",
       " & x_{548} \\in \\{0, 1\\}\\\\\n",
       " & x_{549} \\in \\{0, 1\\}\\\\\n",
       " & x_{550} \\in \\{0, 1\\}\\\\\n",
       " & x_{551} \\in \\{0, 1\\}\\\\\n",
       " & x_{552} \\in \\{0, 1\\}\\\\\n",
       " & x_{553} \\in \\{0, 1\\}\\\\\n",
       " & x_{554} \\in \\{0, 1\\}\\\\\n",
       " & x_{555} \\in \\{0, 1\\}\\\\\n",
       " & x_{556} \\in \\{0, 1\\}\\\\\n",
       "\\end{aligned} $$"
      ]
     },
     "metadata": {},
     "output_type": "display_data"
    }
   ],
   "source": [
    "print(m)"
   ]
  },
  {
   "cell_type": "code",
   "execution_count": 25,
   "id": "a371aefe",
   "metadata": {},
   "outputs": [
    {
     "name": "stdout",
     "output_type": "stream",
     "text": [
      "Problem\n",
      "  Name                   :                 \n",
      "  Objective sense        : maximize        \n",
      "  Type                   : LO (linear optimization problem)\n",
      "  Constraints            : 562             \n",
      "  Affine conic cons.     : 0               \n",
      "  Disjunctive cons.      : 0               \n",
      "  Cones                  : 0               \n",
      "  Scalar variables       : 556             \n",
      "  Matrix variables       : 0               \n",
      "  Integer variables      : 556             \n",
      "\n",
      "Optimizer started.\n",
      "Mixed integer optimizer started.\n",
      "Threads used: 4\n",
      "Presolve started.\n",
      "Presolve terminated. Time = 0.02, probing time =  0.02\n",
      "Presolved problem: 414 variables, 6 constraints, 1242 non-zeros\n",
      "Presolved problem: 22 general integer, 392 binary, 0 continuous\n",
      "Clique table size: 1\n",
      "BRANCHES RELAXS   ACT_NDS  DEPTH    BEST_INT_OBJ         BEST_RELAX_OBJ       REL_GAP(%)  TIME  \n",
      "0        1        1        0        NA                   2.2526122449e+03     NA          0.0   \n",
      "0        1        1        0        2.2520000000e+03     2.2526122449e+03     0.03        0.1   \n",
      "Cut generation started.\n",
      "Cut generation terminated. Time = 0.00\n",
      "\n",
      "Objective of best integer solution : 2.252000000000e+03      \n",
      "Best objective bound               : 2.252612244898e+03      \n",
      "Initial feasible solution objective: Undefined\n",
      "Construct solution objective       : Not employed\n",
      "User objective cut value           : Not employed\n",
      "Number of cuts generated           : 0\n",
      "Number of branches                 : 0\n",
      "Number of relaxations solved       : 1\n",
      "Number of interior point iterations: 9\n",
      "Number of simplex iterations       : 0\n",
      "Time spend presolving the root     : 0.02\n",
      "Time spend optimizing the root     : 0.02\n",
      "Mixed integer optimizer terminated. Time: 0.14\n",
      "\n",
      "Optimizer terminated. Time: 0.16    \n",
      "\n"
     ]
    }
   ],
   "source": [
    "optimize!(m)"
   ]
  },
  {
   "cell_type": "code",
   "execution_count": 26,
   "id": "8e26be09",
   "metadata": {},
   "outputs": [
    {
     "data": {
      "text/plain": [
       "556-element Vector{Float64}:\n",
       "  0.0\n",
       "  0.0\n",
       " -0.0\n",
       "  0.0\n",
       "  0.0\n",
       "  0.0\n",
       "  0.0\n",
       "  0.0\n",
       "  0.0\n",
       "  0.0\n",
       " -0.0\n",
       "  0.0\n",
       " -0.0\n",
       "  ⋮\n",
       "  0.0\n",
       "  0.0\n",
       "  0.0\n",
       "  0.0\n",
       "  0.0\n",
       "  0.0\n",
       " -0.0\n",
       "  0.0\n",
       "  0.0\n",
       "  0.0\n",
       "  0.0\n",
       "  0.0"
      ]
     },
     "execution_count": 26,
     "metadata": {},
     "output_type": "execute_result"
    }
   ],
   "source": [
    "starting_11 = value.(x)\n",
    "starting_11"
   ]
  },
  {
   "cell_type": "code",
   "execution_count": 27,
   "id": "3fee882a",
   "metadata": {},
   "outputs": [
    {
     "data": {
      "text/plain": [
       "2252.0"
      ]
     },
     "execution_count": 27,
     "metadata": {},
     "output_type": "execute_result"
    }
   ],
   "source": [
    "objective_value(m)"
   ]
  },
  {
   "cell_type": "code",
   "execution_count": 28,
   "id": "18cca7bb",
   "metadata": {},
   "outputs": [
    {
     "data": {
      "text/plain": [
       "556-element Vector{Float64}:\n",
       "  0.0\n",
       "  0.0\n",
       " -0.0\n",
       "  0.0\n",
       "  0.0\n",
       "  0.0\n",
       "  0.0\n",
       "  0.0\n",
       "  0.0\n",
       "  0.0\n",
       " -0.0\n",
       "  0.0\n",
       " -0.0\n",
       "  ⋮\n",
       "  0.0\n",
       "  0.0\n",
       "  0.0\n",
       "  0.0\n",
       "  0.0\n",
       "  0.0\n",
       " -0.0\n",
       "  0.0\n",
       "  0.0\n",
       "  0.0\n",
       "  0.0\n",
       "  0.0"
      ]
     },
     "execution_count": 28,
     "metadata": {},
     "output_type": "execute_result"
    }
   ],
   "source": [
    "csv_df[!, \"Starting 11\"] = starting_11"
   ]
  },
  {
   "cell_type": "code",
   "execution_count": 29,
   "id": "fd274ba2",
   "metadata": {},
   "outputs": [
    {
     "data": {
      "text/html": [
       "<div><div style = \"float: left;\"><span>556×10 DataFrame</span></div><div style = \"float: right;\"><span style = \"font-style: italic;\">531 rows omitted</span></div><div style = \"clear: both;\"></div></div><div class = \"data-frame\" style = \"overflow-x: scroll;\"><table class = \"data-frame\" style = \"margin-bottom: 6px;\"><thead><tr class = \"header\"><th class = \"rowNumber\" style = \"font-weight: bold; text-align: right;\">Row</th><th style = \"text-align: left;\">Column1</th><th style = \"text-align: left;\">DEF</th><th style = \"text-align: left;\">FWD</th><th style = \"text-align: left;\">GK</th><th style = \"text-align: left;\">MID</th><th style = \"text-align: left;\">element_type</th><th style = \"text-align: left;\">now_cost</th><th style = \"text-align: left;\">team</th><th style = \"text-align: left;\">total_points</th><th style = \"text-align: left;\">Starting 11</th></tr><tr class = \"subheader headerLastRow\"><th class = \"rowNumber\" style = \"font-weight: bold; text-align: right;\"></th><th title = \"String\" style = \"text-align: left;\">String</th><th title = \"Int64\" style = \"text-align: left;\">Int64</th><th title = \"Int64\" style = \"text-align: left;\">Int64</th><th title = \"Int64\" style = \"text-align: left;\">Int64</th><th title = \"Int64\" style = \"text-align: left;\">Int64</th><th title = \"InlineStrings.String3\" style = \"text-align: left;\">String3</th><th title = \"Int64\" style = \"text-align: left;\">Int64</th><th title = \"InlineStrings.String15\" style = \"text-align: left;\">String15</th><th title = \"Int64\" style = \"text-align: left;\">Int64</th><th title = \"Float64\" style = \"text-align: left;\">Float64</th></tr></thead><tbody><tr><td class = \"rowNumber\" style = \"font-weight: bold; text-align: right;\">1</td><td style = \"text-align: left;\">Aaron Connolly</td><td style = \"text-align: right;\">0</td><td style = \"text-align: right;\">1</td><td style = \"text-align: right;\">0</td><td style = \"text-align: right;\">0</td><td style = \"text-align: left;\">FWD</td><td style = \"text-align: right;\">53</td><td style = \"text-align: left;\">Brighton</td><td style = \"text-align: right;\">5</td><td style = \"text-align: right;\">0.0</td></tr><tr><td class = \"rowNumber\" style = \"font-weight: bold; text-align: right;\">2</td><td style = \"text-align: left;\">Aaron Cresswell</td><td style = \"text-align: right;\">1</td><td style = \"text-align: right;\">0</td><td style = \"text-align: right;\">0</td><td style = \"text-align: right;\">0</td><td style = \"text-align: left;\">DEF</td><td style = \"text-align: right;\">54</td><td style = \"text-align: left;\">West Ham</td><td style = \"text-align: right;\">115</td><td style = \"text-align: right;\">0.0</td></tr><tr><td class = \"rowNumber\" style = \"font-weight: bold; text-align: right;\">3</td><td style = \"text-align: left;\">Aaron Ramsey</td><td style = \"text-align: right;\">0</td><td style = \"text-align: right;\">0</td><td style = \"text-align: right;\">0</td><td style = \"text-align: right;\">1</td><td style = \"text-align: left;\">MID</td><td style = \"text-align: right;\">44</td><td style = \"text-align: left;\">Aston Villa</td><td style = \"text-align: right;\">0</td><td style = \"text-align: right;\">-0.0</td></tr><tr><td class = \"rowNumber\" style = \"font-weight: bold; text-align: right;\">4</td><td style = \"text-align: left;\">Aaron Wan-Bissaka</td><td style = \"text-align: right;\">1</td><td style = \"text-align: right;\">0</td><td style = \"text-align: right;\">0</td><td style = \"text-align: right;\">0</td><td style = \"text-align: left;\">DEF</td><td style = \"text-align: right;\">51</td><td style = \"text-align: left;\">Man Utd</td><td style = \"text-align: right;\">41</td><td style = \"text-align: right;\">0.0</td></tr><tr><td class = \"rowNumber\" style = \"font-weight: bold; text-align: right;\">5</td><td style = \"text-align: left;\">Abdoulaye Doucouré</td><td style = \"text-align: right;\">0</td><td style = \"text-align: right;\">0</td><td style = \"text-align: right;\">0</td><td style = \"text-align: right;\">1</td><td style = \"text-align: left;\">MID</td><td style = \"text-align: right;\">53</td><td style = \"text-align: left;\">Everton</td><td style = \"text-align: right;\">90</td><td style = \"text-align: right;\">0.0</td></tr><tr><td class = \"rowNumber\" style = \"font-weight: bold; text-align: right;\">6</td><td style = \"text-align: left;\">Adam Armstrong</td><td style = \"text-align: right;\">0</td><td style = \"text-align: right;\">1</td><td style = \"text-align: right;\">0</td><td style = \"text-align: right;\">0</td><td style = \"text-align: left;\">FWD</td><td style = \"text-align: right;\">57</td><td style = \"text-align: left;\">Southampton</td><td style = \"text-align: right;\">57</td><td style = \"text-align: right;\">0.0</td></tr><tr><td class = \"rowNumber\" style = \"font-weight: bold; text-align: right;\">7</td><td style = \"text-align: left;\">Adam Forshaw</td><td style = \"text-align: right;\">0</td><td style = \"text-align: right;\">0</td><td style = \"text-align: right;\">0</td><td style = \"text-align: right;\">1</td><td style = \"text-align: left;\">MID</td><td style = \"text-align: right;\">45</td><td style = \"text-align: left;\">Leeds</td><td style = \"text-align: right;\">38</td><td style = \"text-align: right;\">0.0</td></tr><tr><td class = \"rowNumber\" style = \"font-weight: bold; text-align: right;\">8</td><td style = \"text-align: left;\">Adam Idah</td><td style = \"text-align: right;\">0</td><td style = \"text-align: right;\">1</td><td style = \"text-align: right;\">0</td><td style = \"text-align: right;\">0</td><td style = \"text-align: left;\">FWD</td><td style = \"text-align: right;\">48</td><td style = \"text-align: left;\">Norwich</td><td style = \"text-align: right;\">36</td><td style = \"text-align: right;\">0.0</td></tr><tr><td class = \"rowNumber\" style = \"font-weight: bold; text-align: right;\">9</td><td style = \"text-align: left;\">Adam Lallana</td><td style = \"text-align: right;\">0</td><td style = \"text-align: right;\">0</td><td style = \"text-align: right;\">0</td><td style = \"text-align: right;\">1</td><td style = \"text-align: left;\">MID</td><td style = \"text-align: right;\">53</td><td style = \"text-align: left;\">Brighton</td><td style = \"text-align: right;\">44</td><td style = \"text-align: right;\">0.0</td></tr><tr><td class = \"rowNumber\" style = \"font-weight: bold; text-align: right;\">10</td><td style = \"text-align: left;\">Adam Masina</td><td style = \"text-align: right;\">1</td><td style = \"text-align: right;\">0</td><td style = \"text-align: right;\">0</td><td style = \"text-align: right;\">0</td><td style = \"text-align: left;\">DEF</td><td style = \"text-align: right;\">43</td><td style = \"text-align: left;\">Watford</td><td style = \"text-align: right;\">25</td><td style = \"text-align: right;\">0.0</td></tr><tr><td class = \"rowNumber\" style = \"font-weight: bold; text-align: right;\">11</td><td style = \"text-align: left;\">Adam Webster</td><td style = \"text-align: right;\">1</td><td style = \"text-align: right;\">0</td><td style = \"text-align: right;\">0</td><td style = \"text-align: right;\">0</td><td style = \"text-align: left;\">DEF</td><td style = \"text-align: right;\">43</td><td style = \"text-align: left;\">Brighton</td><td style = \"text-align: right;\">59</td><td style = \"text-align: right;\">-0.0</td></tr><tr><td class = \"rowNumber\" style = \"font-weight: bold; text-align: right;\">12</td><td style = \"text-align: left;\">Adama Traoré</td><td style = \"text-align: right;\">0</td><td style = \"text-align: right;\">0</td><td style = \"text-align: right;\">0</td><td style = \"text-align: right;\">1</td><td style = \"text-align: left;\">MID</td><td style = \"text-align: right;\">56</td><td style = \"text-align: left;\">Wolves</td><td style = \"text-align: right;\">44</td><td style = \"text-align: right;\">0.0</td></tr><tr><td class = \"rowNumber\" style = \"font-weight: bold; text-align: right;\">13</td><td style = \"text-align: left;\">Adedapo Awokoya-Mebude</td><td style = \"text-align: right;\">0</td><td style = \"text-align: right;\">1</td><td style = \"text-align: right;\">0</td><td style = \"text-align: right;\">0</td><td style = \"text-align: left;\">FWD</td><td style = \"text-align: right;\">45</td><td style = \"text-align: left;\">Watford</td><td style = \"text-align: right;\">0</td><td style = \"text-align: right;\">-0.0</td></tr><tr><td style = \"text-align: right;\">&vellip;</td><td style = \"text-align: right;\">&vellip;</td><td style = \"text-align: right;\">&vellip;</td><td style = \"text-align: right;\">&vellip;</td><td style = \"text-align: right;\">&vellip;</td><td style = \"text-align: right;\">&vellip;</td><td style = \"text-align: right;\">&vellip;</td><td style = \"text-align: right;\">&vellip;</td><td style = \"text-align: right;\">&vellip;</td><td style = \"text-align: right;\">&vellip;</td><td style = \"text-align: right;\">&vellip;</td></tr><tr><td class = \"rowNumber\" style = \"font-weight: bold; text-align: right;\">545</td><td style = \"text-align: left;\">Willian Borges Da Silva</td><td style = \"text-align: right;\">0</td><td style = \"text-align: right;\">0</td><td style = \"text-align: right;\">0</td><td style = \"text-align: right;\">1</td><td style = \"text-align: left;\">MID</td><td style = \"text-align: right;\">63</td><td style = \"text-align: left;\">Arsenal</td><td style = \"text-align: right;\">0</td><td style = \"text-align: right;\">0.0</td></tr><tr><td class = \"rowNumber\" style = \"font-weight: bold; text-align: right;\">546</td><td style = \"text-align: left;\">Willy Boly</td><td style = \"text-align: right;\">1</td><td style = \"text-align: right;\">0</td><td style = \"text-align: right;\">0</td><td style = \"text-align: right;\">0</td><td style = \"text-align: left;\">DEF</td><td style = \"text-align: right;\">49</td><td style = \"text-align: left;\">Wolves</td><td style = \"text-align: right;\">17</td><td style = \"text-align: right;\">0.0</td></tr><tr><td class = \"rowNumber\" style = \"font-weight: bold; text-align: right;\">547</td><td style = \"text-align: left;\">Winston Reid</td><td style = \"text-align: right;\">1</td><td style = \"text-align: right;\">0</td><td style = \"text-align: right;\">0</td><td style = \"text-align: right;\">0</td><td style = \"text-align: left;\">DEF</td><td style = \"text-align: right;\">39</td><td style = \"text-align: left;\">West Ham</td><td style = \"text-align: right;\">0</td><td style = \"text-align: right;\">0.0</td></tr><tr><td class = \"rowNumber\" style = \"font-weight: bold; text-align: right;\">548</td><td style = \"text-align: left;\">Xherdan Shaqiri</td><td style = \"text-align: right;\">0</td><td style = \"text-align: right;\">0</td><td style = \"text-align: right;\">0</td><td style = \"text-align: right;\">1</td><td style = \"text-align: left;\">MID</td><td style = \"text-align: right;\">59</td><td style = \"text-align: left;\">Liverpool</td><td style = \"text-align: right;\">0</td><td style = \"text-align: right;\">0.0</td></tr><tr><td class = \"rowNumber\" style = \"font-weight: bold; text-align: right;\">549</td><td style = \"text-align: left;\">Yan Valery</td><td style = \"text-align: right;\">1</td><td style = \"text-align: right;\">0</td><td style = \"text-align: right;\">0</td><td style = \"text-align: right;\">0</td><td style = \"text-align: left;\">DEF</td><td style = \"text-align: right;\">39</td><td style = \"text-align: left;\">Southampton</td><td style = \"text-align: right;\">9</td><td style = \"text-align: right;\">0.0</td></tr><tr><td class = \"rowNumber\" style = \"font-weight: bold; text-align: right;\">550</td><td style = \"text-align: left;\">Yerry Mina</td><td style = \"text-align: right;\">1</td><td style = \"text-align: right;\">0</td><td style = \"text-align: right;\">0</td><td style = \"text-align: right;\">0</td><td style = \"text-align: left;\">DEF</td><td style = \"text-align: right;\">49</td><td style = \"text-align: left;\">Everton</td><td style = \"text-align: right;\">24</td><td style = \"text-align: right;\">0.0</td></tr><tr><td class = \"rowNumber\" style = \"font-weight: bold; text-align: right;\">551</td><td style = \"text-align: left;\">Yerson Mosquera Valdelamar</td><td style = \"text-align: right;\">1</td><td style = \"text-align: right;\">0</td><td style = \"text-align: right;\">0</td><td style = \"text-align: right;\">0</td><td style = \"text-align: left;\">DEF</td><td style = \"text-align: right;\">44</td><td style = \"text-align: left;\">Wolves</td><td style = \"text-align: right;\">0</td><td style = \"text-align: right;\">-0.0</td></tr><tr><td class = \"rowNumber\" style = \"font-weight: bold; text-align: right;\">552</td><td style = \"text-align: left;\">Yoane Wissa</td><td style = \"text-align: right;\">0</td><td style = \"text-align: right;\">0</td><td style = \"text-align: right;\">0</td><td style = \"text-align: right;\">1</td><td style = \"text-align: left;\">MID</td><td style = \"text-align: right;\">57</td><td style = \"text-align: left;\">Brentford</td><td style = \"text-align: right;\">92</td><td style = \"text-align: right;\">0.0</td></tr><tr><td class = \"rowNumber\" style = \"font-weight: bold; text-align: right;\">553</td><td style = \"text-align: left;\">Youri Tielemans</td><td style = \"text-align: right;\">0</td><td style = \"text-align: right;\">0</td><td style = \"text-align: right;\">0</td><td style = \"text-align: right;\">1</td><td style = \"text-align: left;\">MID</td><td style = \"text-align: right;\">64</td><td style = \"text-align: left;\">Leicester</td><td style = \"text-align: right;\">120</td><td style = \"text-align: right;\">0.0</td></tr><tr><td class = \"rowNumber\" style = \"font-weight: bold; text-align: right;\">554</td><td style = \"text-align: left;\">Yves Bissouma</td><td style = \"text-align: right;\">0</td><td style = \"text-align: right;\">0</td><td style = \"text-align: right;\">0</td><td style = \"text-align: right;\">1</td><td style = \"text-align: left;\">MID</td><td style = \"text-align: right;\">44</td><td style = \"text-align: left;\">Brighton</td><td style = \"text-align: right;\">66</td><td style = \"text-align: right;\">0.0</td></tr><tr><td class = \"rowNumber\" style = \"font-weight: bold; text-align: right;\">555</td><td style = \"text-align: left;\">Zack Steffen</td><td style = \"text-align: right;\">0</td><td style = \"text-align: right;\">0</td><td style = \"text-align: right;\">1</td><td style = \"text-align: right;\">0</td><td style = \"text-align: left;\">GK</td><td style = \"text-align: right;\">44</td><td style = \"text-align: left;\">Man City</td><td style = \"text-align: right;\">7</td><td style = \"text-align: right;\">0.0</td></tr><tr><td class = \"rowNumber\" style = \"font-weight: bold; text-align: right;\">556</td><td style = \"text-align: left;\">Çaglar Söyüncü</td><td style = \"text-align: right;\">1</td><td style = \"text-align: right;\">0</td><td style = \"text-align: right;\">0</td><td style = \"text-align: right;\">0</td><td style = \"text-align: left;\">DEF</td><td style = \"text-align: right;\">49</td><td style = \"text-align: left;\">Leicester</td><td style = \"text-align: right;\">66</td><td style = \"text-align: right;\">0.0</td></tr></tbody></table></div>"
      ],
      "text/latex": [
       "\\begin{tabular}{r|cccccccc}\n",
       "\t& Column1 & DEF & FWD & GK & MID & element\\_type & now\\_cost & \\\\\n",
       "\t\\hline\n",
       "\t& String & Int64 & Int64 & Int64 & Int64 & String3 & Int64 & \\\\\n",
       "\t\\hline\n",
       "\t1 & Aaron Connolly & 0 & 1 & 0 & 0 & FWD & 53 & $\\dots$ \\\\\n",
       "\t2 & Aaron Cresswell & 1 & 0 & 0 & 0 & DEF & 54 & $\\dots$ \\\\\n",
       "\t3 & Aaron Ramsey & 0 & 0 & 0 & 1 & MID & 44 & $\\dots$ \\\\\n",
       "\t4 & Aaron Wan-Bissaka & 1 & 0 & 0 & 0 & DEF & 51 & $\\dots$ \\\\\n",
       "\t5 & Abdoulaye Doucouré & 0 & 0 & 0 & 1 & MID & 53 & $\\dots$ \\\\\n",
       "\t6 & Adam Armstrong & 0 & 1 & 0 & 0 & FWD & 57 & $\\dots$ \\\\\n",
       "\t7 & Adam Forshaw & 0 & 0 & 0 & 1 & MID & 45 & $\\dots$ \\\\\n",
       "\t8 & Adam Idah & 0 & 1 & 0 & 0 & FWD & 48 & $\\dots$ \\\\\n",
       "\t9 & Adam Lallana & 0 & 0 & 0 & 1 & MID & 53 & $\\dots$ \\\\\n",
       "\t10 & Adam Masina & 1 & 0 & 0 & 0 & DEF & 43 & $\\dots$ \\\\\n",
       "\t11 & Adam Webster & 1 & 0 & 0 & 0 & DEF & 43 & $\\dots$ \\\\\n",
       "\t12 & Adama Traoré & 0 & 0 & 0 & 1 & MID & 56 & $\\dots$ \\\\\n",
       "\t13 & Adedapo Awokoya-Mebude & 0 & 1 & 0 & 0 & FWD & 45 & $\\dots$ \\\\\n",
       "\t14 & Adrián San Miguel del Castillo & 0 & 0 & 1 & 0 & GK & 43 & $\\dots$ \\\\\n",
       "\t15 & Ainsley Maitland-Niles & 0 & 0 & 0 & 1 & MID & 52 & $\\dots$ \\\\\n",
       "\t16 & Albert Sambi Lokonga & 0 & 0 & 0 & 1 & MID & 48 & $\\dots$ \\\\\n",
       "\t17 & Alex Iwobi & 0 & 0 & 0 & 1 & MID & 58 & $\\dots$ \\\\\n",
       "\t18 & Alex McCarthy & 0 & 0 & 1 & 0 & GK & 43 & $\\dots$ \\\\\n",
       "\t19 & Alex Nicolao Telles & 1 & 0 & 0 & 0 & DEF & 49 & $\\dots$ \\\\\n",
       "\t20 & Alex Oxlade-Chamberlain & 0 & 0 & 0 & 1 & MID & 58 & $\\dots$ \\\\\n",
       "\t21 & Alexandre Lacazette & 0 & 1 & 0 & 0 & FWD & 81 & $\\dots$ \\\\\n",
       "\t22 & Alexis Mac Allister & 0 & 0 & 0 & 1 & MID & 51 & $\\dots$ \\\\\n",
       "\t23 & Alireza Jahanbakhsh & 0 & 0 & 0 & 1 & MID & 55 & $\\dots$ \\\\\n",
       "\t24 & Alisson Ramses Becker & 0 & 0 & 1 & 0 & GK & 61 & $\\dots$ \\\\\n",
       "\t25 & Allan Marques Loureiro & 0 & 0 & 0 & 1 & MID & 43 & $\\dots$ \\\\\n",
       "\t26 & Allan Saint-Maximin & 0 & 1 & 0 & 0 & FWD & 67 & $\\dots$ \\\\\n",
       "\t27 & Alphonse Areola & 0 & 0 & 1 & 0 & GK & 47 & $\\dots$ \\\\\n",
       "\t28 & Andi Zeqiri & 0 & 1 & 0 & 0 & FWD & 45 & $\\dots$ \\\\\n",
       "\t29 & Andre Gray & 0 & 1 & 0 & 0 & FWD & 54 & $\\dots$ \\\\\n",
       "\t30 & Andreas Christensen & 1 & 0 & 0 & 0 & DEF & 46 & $\\dots$ \\\\\n",
       "\t$\\dots$ & $\\dots$ & $\\dots$ & $\\dots$ & $\\dots$ & $\\dots$ & $\\dots$ & $\\dots$ &  \\\\\n",
       "\\end{tabular}\n"
      ],
      "text/plain": [
       "\u001b[1m556×10 DataFrame\u001b[0m\n",
       "\u001b[1m Row \u001b[0m│\u001b[1m Column1                        \u001b[0m\u001b[1m DEF   \u001b[0m\u001b[1m FWD   \u001b[0m\u001b[1m GK    \u001b[0m\u001b[1m MID   \u001b[0m\u001b[1m element_typ\u001b[0m ⋯\n",
       "     │\u001b[90m String                         \u001b[0m\u001b[90m Int64 \u001b[0m\u001b[90m Int64 \u001b[0m\u001b[90m Int64 \u001b[0m\u001b[90m Int64 \u001b[0m\u001b[90m String3    \u001b[0m ⋯\n",
       "─────┼──────────────────────────────────────────────────────────────────────────\n",
       "   1 │ Aaron Connolly                      0      1      0      0  FWD         ⋯\n",
       "   2 │ Aaron Cresswell                     1      0      0      0  DEF\n",
       "   3 │ Aaron Ramsey                        0      0      0      1  MID\n",
       "   4 │ Aaron Wan-Bissaka                   1      0      0      0  DEF\n",
       "   5 │ Abdoulaye Doucouré                  0      0      0      1  MID         ⋯\n",
       "   6 │ Adam Armstrong                      0      1      0      0  FWD\n",
       "   7 │ Adam Forshaw                        0      0      0      1  MID\n",
       "   8 │ Adam Idah                           0      1      0      0  FWD\n",
       "   9 │ Adam Lallana                        0      0      0      1  MID         ⋯\n",
       "  10 │ Adam Masina                         1      0      0      0  DEF\n",
       "  11 │ Adam Webster                        1      0      0      0  DEF\n",
       "  ⋮  │               ⋮                   ⋮      ⋮      ⋮      ⋮         ⋮      ⋱\n",
       " 547 │ Winston Reid                        1      0      0      0  DEF\n",
       " 548 │ Xherdan Shaqiri                     0      0      0      1  MID         ⋯\n",
       " 549 │ Yan Valery                          1      0      0      0  DEF\n",
       " 550 │ Yerry Mina                          1      0      0      0  DEF\n",
       " 551 │ Yerson Mosquera Valdelamar          1      0      0      0  DEF\n",
       " 552 │ Yoane Wissa                         0      0      0      1  MID         ⋯\n",
       " 553 │ Youri Tielemans                     0      0      0      1  MID\n",
       " 554 │ Yves Bissouma                       0      0      0      1  MID\n",
       " 555 │ Zack Steffen                        0      0      1      0  GK\n",
       " 556 │ Çaglar Söyüncü                      1      0      0      0  DEF         ⋯\n",
       "\u001b[36m                                                  5 columns and 535 rows omitted\u001b[0m"
      ]
     },
     "execution_count": 29,
     "metadata": {},
     "output_type": "execute_result"
    }
   ],
   "source": [
    "csv_df"
   ]
  },
  {
   "cell_type": "code",
   "execution_count": 30,
   "id": "babf2792",
   "metadata": {},
   "outputs": [
    {
     "data": {
      "text/plain": [
       "\"results.csv\""
      ]
     },
     "execution_count": 30,
     "metadata": {},
     "output_type": "execute_result"
    }
   ],
   "source": [
    "CSV.write(\"results.csv\", csv_df)"
   ]
  },
  {
   "cell_type": "code",
   "execution_count": null,
   "id": "5ef05243",
   "metadata": {},
   "outputs": [],
   "source": []
  }
 ],
 "metadata": {
  "kernelspec": {
   "display_name": "Julia 1.8.5",
   "language": "julia",
   "name": "julia-1.8"
  },
  "language_info": {
   "file_extension": ".jl",
   "mimetype": "application/julia",
   "name": "julia",
   "version": "1.8.5"
  }
 },
 "nbformat": 4,
 "nbformat_minor": 5
}
